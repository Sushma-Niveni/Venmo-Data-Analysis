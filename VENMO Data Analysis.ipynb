{
  "cells": [
    {
      "cell_type": "code",
      "execution_count": null,
      "metadata": {
        "colab": {
          "base_uri": "https://localhost:8080/"
        },
        "id": "PpUby_eqWSEP",
        "outputId": "5e7e1fb7-c1d6-44b1-9a72-0360620fa1fd"
      },
      "outputs": [
        {
          "name": "stdout",
          "output_type": "stream",
          "text": [
            "Collecting pyspark==3.4.1\n",
            "  Downloading pyspark-3.4.1.tar.gz (310.8 MB)\n",
            "\u001b[2K     \u001b[90m━━━━━━━━━━━━━━━━━━━━━━━━━━━━━━━━━━━━━━━━\u001b[0m \u001b[32m310.8/310.8 MB\u001b[0m \u001b[31m3.9 MB/s\u001b[0m eta \u001b[36m0:00:00\u001b[0m\n",
            "\u001b[?25h  Preparing metadata (setup.py) ... \u001b[?25l\u001b[?25hdone\n",
            "Requirement already satisfied: py4j==0.10.9.7 in /usr/local/lib/python3.10/dist-packages (from pyspark==3.4.1) (0.10.9.7)\n",
            "Building wheels for collected packages: pyspark\n",
            "  Building wheel for pyspark (setup.py) ... \u001b[?25l\u001b[?25hdone\n",
            "  Created wheel for pyspark: filename=pyspark-3.4.1-py2.py3-none-any.whl size=311285388 sha256=7677d71bd5483be7d204798312014c9662d386ec2064223f6b9a83e29a5767b3\n",
            "  Stored in directory: /root/.cache/pip/wheels/0d/77/a3/ff2f74cc9ab41f8f594dabf0579c2a7c6de920d584206e0834\n",
            "Successfully built pyspark\n",
            "Installing collected packages: pyspark\n",
            "Successfully installed pyspark-3.4.1\n",
            "Requirement already satisfied: numpy in /usr/local/lib/python3.10/dist-packages (1.25.2)\n"
          ]
        }
      ],
      "source": [
        "# Run below commands\n",
        "!apt-get install openjdk-8-jdk-headless -qq > /dev/null #Install java\n",
        "!wget -q https://archive.apache.org/dist/spark/spark-3.4.1/spark-3.4.1-bin-hadoop3.tgz ## Install Apache Spark\n",
        "!tar xf spark-3.4.1-bin-hadoop3.tgz\n",
        "!pip install -q findspark\n",
        "!pip install pyspark==3.4.1\n",
        "!pip install numpy"
      ]
    },
    {
      "cell_type": "code",
      "execution_count": null,
      "metadata": {
        "id": "ye3RCxgnXqkl"
      },
      "outputs": [],
      "source": [
        "import os\n",
        "import findspark\n",
        "from pyspark.sql import SparkSession\n",
        "from pyspark import SparkConf, SparkContext\n",
        "from datetime import datetime, date, timedelta\n",
        "from dateutil import relativedelta\n",
        "from pyspark.sql import SQLContext, Row\n",
        "from pyspark.sql.types import *\n",
        "from pyspark.sql.functions import *\n",
        "from pyspark.sql import DataFrame\n",
        "from pyspark.sql.functions import *\n",
        "from pyspark.sql.functions import to_timestamp, to_date\n",
        "from pyspark.sql import functions as F\n",
        "from pyspark.sql.functions import collect_list, collect_set, concat, first, array_distinct, col, size, expr\n",
        "from pyspark.sql import DataFrame\n",
        "import random\n",
        "import numpy as np\n",
        "from pyspark.sql.functions import col, when, count, sum\n",
        "import pandas as pd\n",
        "from pyspark.sql.functions import explode\n",
        "\n",
        "# find spark easily\n",
        "findspark.init()\n",
        "\n",
        "# Define Java and Spark home path in Google Colab\n",
        "os.environ[\"JAVA_HOME\"] = \"/usr/lib/jvm/java-8-openjdk-amd64\"\n",
        "os.environ[\"SPARK_HOME\"] = \"/content/spark-3.4.1-bin-hadoop3\""
      ]
    },
    {
      "cell_type": "markdown",
      "metadata": {
        "id": "7NV1fTqHYrAZ"
      },
      "source": [
        "# ***Text Analytics***"
      ]
    },
    {
      "cell_type": "markdown",
      "metadata": {
        "id": "8EIG_2Z2bvtl"
      },
      "source": [
        "#### *** first task is to open your Venmo app, find 10 words that are not already in the dictionary and add them to it. Make sure you don’t add to the dictionary a duplicate word by hitting Control+F before adding your word.***\n",
        "\n",
        "- **New Added 10 Words: \"Celsius\", \"Renew\", \"Din Din\", \"Taichi\", \"Saigon\", \"Buh\", \"Peanuts\", \"Sweatshirt\", \"LPEA\", \"Washer\".**"
      ]
    },
    {
      "cell_type": "markdown",
      "metadata": {
        "id": "_pf3NBVDcFDh"
      },
      "source": [
        "#### ***Use the text dictionary and the emoji dictionary to classify Venmo’s transactions in your sample dataset. What is the percent of emoji only transactions? Which are the top 5 most popular emoji? Which are the top three most popular emoji categories?***\n"
      ]
    },
    {
      "cell_type": "code",
      "execution_count": null,
      "metadata": {
        "colab": {
          "base_uri": "https://localhost:8080/",
          "height": 845
        },
        "id": "-cb63vFbdUQM",
        "outputId": "c02581ec-d296-4ca4-abcb-79bd92a366fe"
      },
      "outputs": [
        {
          "data": {
            "text/html": [
              "\n",
              "     <input type=\"file\" id=\"files-2a041eae-173d-4956-a22b-e731d70abb87\" name=\"files[]\" multiple disabled\n",
              "        style=\"border:none\" />\n",
              "     <output id=\"result-2a041eae-173d-4956-a22b-e731d70abb87\">\n",
              "      Upload widget is only available when the cell has been executed in the\n",
              "      current browser session. Please rerun this cell to enable.\n",
              "      </output>\n",
              "      <script>// Copyright 2017 Google LLC\n",
              "//\n",
              "// Licensed under the Apache License, Version 2.0 (the \"License\");\n",
              "// you may not use this file except in compliance with the License.\n",
              "// You may obtain a copy of the License at\n",
              "//\n",
              "//      http://www.apache.org/licenses/LICENSE-2.0\n",
              "//\n",
              "// Unless required by applicable law or agreed to in writing, software\n",
              "// distributed under the License is distributed on an \"AS IS\" BASIS,\n",
              "// WITHOUT WARRANTIES OR CONDITIONS OF ANY KIND, either express or implied.\n",
              "// See the License for the specific language governing permissions and\n",
              "// limitations under the License.\n",
              "\n",
              "/**\n",
              " * @fileoverview Helpers for google.colab Python module.\n",
              " */\n",
              "(function(scope) {\n",
              "function span(text, styleAttributes = {}) {\n",
              "  const element = document.createElement('span');\n",
              "  element.textContent = text;\n",
              "  for (const key of Object.keys(styleAttributes)) {\n",
              "    element.style[key] = styleAttributes[key];\n",
              "  }\n",
              "  return element;\n",
              "}\n",
              "\n",
              "// Max number of bytes which will be uploaded at a time.\n",
              "const MAX_PAYLOAD_SIZE = 100 * 1024;\n",
              "\n",
              "function _uploadFiles(inputId, outputId) {\n",
              "  const steps = uploadFilesStep(inputId, outputId);\n",
              "  const outputElement = document.getElementById(outputId);\n",
              "  // Cache steps on the outputElement to make it available for the next call\n",
              "  // to uploadFilesContinue from Python.\n",
              "  outputElement.steps = steps;\n",
              "\n",
              "  return _uploadFilesContinue(outputId);\n",
              "}\n",
              "\n",
              "// This is roughly an async generator (not supported in the browser yet),\n",
              "// where there are multiple asynchronous steps and the Python side is going\n",
              "// to poll for completion of each step.\n",
              "// This uses a Promise to block the python side on completion of each step,\n",
              "// then passes the result of the previous step as the input to the next step.\n",
              "function _uploadFilesContinue(outputId) {\n",
              "  const outputElement = document.getElementById(outputId);\n",
              "  const steps = outputElement.steps;\n",
              "\n",
              "  const next = steps.next(outputElement.lastPromiseValue);\n",
              "  return Promise.resolve(next.value.promise).then((value) => {\n",
              "    // Cache the last promise value to make it available to the next\n",
              "    // step of the generator.\n",
              "    outputElement.lastPromiseValue = value;\n",
              "    return next.value.response;\n",
              "  });\n",
              "}\n",
              "\n",
              "/**\n",
              " * Generator function which is called between each async step of the upload\n",
              " * process.\n",
              " * @param {string} inputId Element ID of the input file picker element.\n",
              " * @param {string} outputId Element ID of the output display.\n",
              " * @return {!Iterable<!Object>} Iterable of next steps.\n",
              " */\n",
              "function* uploadFilesStep(inputId, outputId) {\n",
              "  const inputElement = document.getElementById(inputId);\n",
              "  inputElement.disabled = false;\n",
              "\n",
              "  const outputElement = document.getElementById(outputId);\n",
              "  outputElement.innerHTML = '';\n",
              "\n",
              "  const pickedPromise = new Promise((resolve) => {\n",
              "    inputElement.addEventListener('change', (e) => {\n",
              "      resolve(e.target.files);\n",
              "    });\n",
              "  });\n",
              "\n",
              "  const cancel = document.createElement('button');\n",
              "  inputElement.parentElement.appendChild(cancel);\n",
              "  cancel.textContent = 'Cancel upload';\n",
              "  const cancelPromise = new Promise((resolve) => {\n",
              "    cancel.onclick = () => {\n",
              "      resolve(null);\n",
              "    };\n",
              "  });\n",
              "\n",
              "  // Wait for the user to pick the files.\n",
              "  const files = yield {\n",
              "    promise: Promise.race([pickedPromise, cancelPromise]),\n",
              "    response: {\n",
              "      action: 'starting',\n",
              "    }\n",
              "  };\n",
              "\n",
              "  cancel.remove();\n",
              "\n",
              "  // Disable the input element since further picks are not allowed.\n",
              "  inputElement.disabled = true;\n",
              "\n",
              "  if (!files) {\n",
              "    return {\n",
              "      response: {\n",
              "        action: 'complete',\n",
              "      }\n",
              "    };\n",
              "  }\n",
              "\n",
              "  for (const file of files) {\n",
              "    const li = document.createElement('li');\n",
              "    li.append(span(file.name, {fontWeight: 'bold'}));\n",
              "    li.append(span(\n",
              "        `(${file.type || 'n/a'}) - ${file.size} bytes, ` +\n",
              "        `last modified: ${\n",
              "            file.lastModifiedDate ? file.lastModifiedDate.toLocaleDateString() :\n",
              "                                    'n/a'} - `));\n",
              "    const percent = span('0% done');\n",
              "    li.appendChild(percent);\n",
              "\n",
              "    outputElement.appendChild(li);\n",
              "\n",
              "    const fileDataPromise = new Promise((resolve) => {\n",
              "      const reader = new FileReader();\n",
              "      reader.onload = (e) => {\n",
              "        resolve(e.target.result);\n",
              "      };\n",
              "      reader.readAsArrayBuffer(file);\n",
              "    });\n",
              "    // Wait for the data to be ready.\n",
              "    let fileData = yield {\n",
              "      promise: fileDataPromise,\n",
              "      response: {\n",
              "        action: 'continue',\n",
              "      }\n",
              "    };\n",
              "\n",
              "    // Use a chunked sending to avoid message size limits. See b/62115660.\n",
              "    let position = 0;\n",
              "    do {\n",
              "      const length = Math.min(fileData.byteLength - position, MAX_PAYLOAD_SIZE);\n",
              "      const chunk = new Uint8Array(fileData, position, length);\n",
              "      position += length;\n",
              "\n",
              "      const base64 = btoa(String.fromCharCode.apply(null, chunk));\n",
              "      yield {\n",
              "        response: {\n",
              "          action: 'append',\n",
              "          file: file.name,\n",
              "          data: base64,\n",
              "        },\n",
              "      };\n",
              "\n",
              "      let percentDone = fileData.byteLength === 0 ?\n",
              "          100 :\n",
              "          Math.round((position / fileData.byteLength) * 100);\n",
              "      percent.textContent = `${percentDone}% done`;\n",
              "\n",
              "    } while (position < fileData.byteLength);\n",
              "  }\n",
              "\n",
              "  // All done.\n",
              "  yield {\n",
              "    response: {\n",
              "      action: 'complete',\n",
              "    }\n",
              "  };\n",
              "}\n",
              "\n",
              "scope.google = scope.google || {};\n",
              "scope.google.colab = scope.google.colab || {};\n",
              "scope.google.colab._files = {\n",
              "  _uploadFiles,\n",
              "  _uploadFilesContinue,\n",
              "};\n",
              "})(self);\n",
              "</script> "
            ],
            "text/plain": [
              "<IPython.core.display.HTML object>"
            ]
          },
          "metadata": {},
          "output_type": "display_data"
        },
        {
          "name": "stdout",
          "output_type": "stream",
          "text": [
            "Saving word.csv to word.csv\n"
          ]
        },
        {
          "data": {
            "text/plain": [
              "{'word.csv': b\"People,Food,Event,Activity,Travel,Transportation,Utility,Cash,Illegal/Sarcasm,@dropdown\\r\\nfriend,food,birthday,ball,beach,lyft,bill,atm ,addiction,\\r\\nfriendship,bbq,christmas,boat,place,uber,cable,bank ,drug,\\r\\nbaby,bean,happy,bar,la,cab,fee,cash ,wangs,\\r\\nboy,latte,bday,book,world,bus,electric,money,weed,\\r\\ngirl,breakfast,wedding,club,hotel,car,electricity,buck,anal,\\r\\nhelp,brunch,xmas,card,trip,gas,internet,wallet,bj,\\r\\nlike,burger,holiday,dance,vega,taxi,rent,monies,blowjob,\\r\\nlove,burrito,hbd,football,tahoe,ride,wifi,tip,boob,\\r\\nmom,cake,halloween,fun,nyc,rental ,utility,dollar,booty,\\r\\nsave,cheese,thanksgiving,game,dc,train,tax,payback,blow,\\r\\nsweet,chicken,bachelor,gift,sf,\\xc3\\xbcber,refund,lettuce,cocaine,\\r\\ntank,coffee,gift,golf,island,ubers,house,watch,cock,\\r\\nthank,chip,donation,hair,cabo,gasolina,billz,hat,dirty,\\r\\nthanks,chinese,charity,pt,chicago,airport,deposit,supreme,dd,\\r\\nthx,chipotle,aid,movie,airbnb,fuel,pg,bitcoin,crack,\\r\\nya,cream,nye,lesson,travel ,cruise,tv,robinhood,bang,\\r\\nyo,costco,festivity,park,boston ,air,paper,balance,dank,\\r\\nlol,dinner,formal,party,hostel,limo,comcast,expenses,dick,\\r\\njj,drink,shower ,poker,retreat,bike,light,switch,fart,\\r\\nlyfe,drank,photo,pool,nola,bp,phone,extra,fuck,\\r\\nbro,eat,present,ticket,miami,shuttle,power,rmb,,\\r\\nbrother,din,graduation,fantasy,mexico,zipcar,due,reimbursement,hooker,\\r\\nbud,dranks,homecoming,tix,cancun ,transportation,home,toner,meth,\\r\\nbuddy,fry,celebration,bowl,city,parking,clean,free,lube,\\r\\ndad,grocery,detective day,show,austin ,zipcar,security,pay,nude,\\r\\ndaddy,ice,hamilton,night,sd,uhaul,room,exchange,otphj,\\r\\ndude,juice,friday,day,cabin ,vroom,splitwise,Ethereum,kale ,\\r\\nfam,lunch,appointment,week,chi,tailgate,service,change,penis,\\r\\nfamily,meat,summer,weekend,iceland,drive,laundry,btc,pat,\\r\\nfather,pizza,late,cover,thailand ,pool ,pge,online,porn,\\r\\nduh,salad,rose,hookah,road,carpool ,verizon,venmo,pot,\\r\\ngracias,snack,autumn,camp,Johannesburg,flight ,insurance,cashback,pussy,\\r\\npeople,supply,friyay,concert,Cape,beep,tp,purchase,sex,\\r\\nty,sushi,HAIM,bowling,sb,move,att,debit,sexual,\\r\\nluv,taco,grad,ski,casino,shipping,cox,owe,strip,\\r\\nbabe,thai,nba ,coachella,weekend away,toll,membership,payment,stripper,\\r\\ncool,tip,nets ,league,beach house,limo ,plug,remittance,slut,\\r\\nguy,water,aperitivo,bball,redwood,ubes,prime,loan,lash,\\r\\nangel,wine,FantasyBall,soccer,postcard,gasoline,h2o,dough,titty,\\r\\nbb,booze,karoak,softball,voyage,ups,xfinity,loan ,tit,\\r\\nfeel,pho,musical,baseball,rosslyn,fedex,pepco,donation,tot,\\r\\nboi,wing,Kathakali,gym,Avalon ,fastrak,housing,,poop,\\r\\nbruh,yum,gown,massage,michigan,muni,renter,,pop,\\r\\nha,dog,padres,hockey,detroit,bart,heat,,poop,\\r\\nily,hot,Kings,adventure,Camping,go,agua,,bullshit,\\r\\nmother,bottle,Stagecoach,derby,San Diego,cabbie,peco,,deez,\\r\\ncocktail,boba,anniversary,band,vegas,turo,check,,condom ,\\r\\nscream,bagel,Marriage,fancy,fly,aero,charter,,sack,\\r\\nmiss,brew,may,hunt,los angles,Kyte,netflix,,5 sack ,\\r\\nprincess,grub,pregnancy,kickball,silicon valley,ferry,sdge,,fagg,\\r\\ndoggie,vino,Stray Kids,edc,salt city,minivan,fridge,,nigga,\\r\\nthank u,alcohol,bachelorette,comedy,beijing,caltrain,ikea,,bos,\\r\\nxxlb,egg,retirement,warner,chongqing,rental car,bge,,asian,\\r\\nplease,sandwich,design,lotto,changsha,lorry,interwebs,,bae,\\r\\nbehalf,cooky,dining,tourney,wuhan,cable car,amazon ,,midget,\\r\\nhepp,milk,baby shower,funday,shanghai,subway,apartment,,blood,\\r\\npet,tea,concert,karaoke,guangzhou,helicopter,apt,,damn,\\r\\nman,pie,marathon,play,tianjing,scooter,babysitting,,debt,\\r\\npapa,steak,webinar,pong,seattle,waymo,cleaning,,interest,\\r\\nfan,soup,Bottlerock ,basketball,soir\\xc3\\xa9e,Tires,cleaner,,rip,\\r\\nblonde,feed,Easter,bull,maine,,furniture,,line,\\r\\ncustomer,tequila,concert,activity,suzhou,,lift,,yay,\\r\\npeer,fish,conference,yoga,shenzhen,,casa,,ye,\\r\\nsister,comida,swiftie,bach,nanjing,,cell,,yey,\\r\\npal,ramen,Valentines,bracket,san francisco,,energy,,sexy,\\r\\ngrazi,sugar,,clothes,Little Tokyo,,twc,,shit,\\r\\nyoongles,roll,,fifa,New Orleans,,drycleaning,,shitty,\\r\\nclient,cafe,,fight ,Palm Springs,,coned,,shenanigan,\\r\\nboo,sauce,,gamble,sj,,spotify,,allowance,\\r\\nmommy,nacho,,haircut,irvine,,bed,,idiot,\\r\\ntks,foooood,,madness,vegas,,garbage,,alc,\\r\\nleader,fooooood,,draft,grand canyon,,bills,,gash,\\r\\nstranger,fooood,,dope,Coast,,dte,,whore,\\r\\nintrovert,donut,,ff,canyon,,table,,G6,\\r\\nflippant,foodz,,ballin,backpacking,,trash,,foot massage,\\r\\nloud,starbucks,,music,humboldt,,apple,,wood,\\r\\nunemployed,candy,,ncaa,airline,,delivery,,america,\\r\\nthank you,noodle,,shopping,denver,,bag,,cool,\\r\\nwelcome,meal,,shoe,india,,usps,,loan shark,\\r\\noh my god,soda,,trivia,new delhi,,com,,da,\\r\\nInternational relationship,grill,,sport,hyderabad,,ac,,life,\\r\\nmaa,bfast,,mountaineer,Canada,,carpet,,lyfe,\\r\\nroommate,nut,,date,santa cruz,,cat,,betch,\\r\\ncolleague,chick,,tutor,houseboat,,chair,,af,\\r\\nbarber,drunk,,foxfield ,roadtrip,,couch,,fool,\\r\\ntutor,yummy,,flower,vacation,,dry,,bird,\\r\\nbuh,banquet,,duke ,saigon,,essential,,bomb,\\r\\n,dumpling,,bet,glamping,,garden,,bootihole,\\r\\n,poke,,giant,autocamp,,grid,,clutch,\\r\\n,coke,,giants,baggage,,key,,death,\\r\\n,brownie,,lakers,visa,,kitchen,,dub,\\r\\n,cookout,,lake,,,lady,,dumb ,\\r\\n,spicy,,mountain ,,,lawn,,fat,\\r\\n,protein,,river,,,maid,,golden,\\r\\n,queso,,fest,,,prime,,hand,\\r\\n,pork,,art,,,puppy,,handy,\\r\\n,mango,,shark,,,rack,,hoe,\\r\\n,tofu,,shirt,,,shelter,,hole,\\r\\n,pasta,,board,,,storage,,homie,\\r\\n,coco,,class,,,textbook,,horse,\\r\\n,panera,,coach,,,tj,,jew,\\r\\n,veggie,,cup,,,toilet,,job,\\r\\n,cookie,,dress,,,towel,,kick,\\r\\n,milkshake,,escape,,,tube,,kiss,\\r\\n,nugget,,flag,,,wash,,loser,\\r\\n,chili,,gear,,,din din,,stupid,\\r\\n,feast,,horse,,,edison,,lap,\\r\\n,liquor,,jacket,,,mask,,pee,\\r\\n,diner,,jam,,,chopsticks,,sugar mama,\\r\\n,cupcake,,jersey,,,tmobile,,meow,\\r\\n,margarita,,sweater,,,dresser,,mo,\\r\\n,bun,,sweatshirt,,,oil change,,poor,\\r\\n,dessert,,tshirt,,,plex,,queen,\\r\\n,pitcher,,math,,,screwdriver,,secret,\\r\\n,wendy,,master,,,painting,,shut,\\r\\n,joes,,paint,,,school,,snow,\\r\\n,market,,raffle,,,utilities,,suck,\\r\\n,bubble,,season ,,,sublet,,suga,\\r\\n,mcdonald,,pass,,,prints,,swag,\\r\\n,pancake,,social,,,squirrels,,whoop,\\r\\n,vodka,,sock,,,supplies,,bitch,\\r\\n,bread,,sox,,,bling,,butt,\\r\\n,mimosa,,squad,,,litter,,yolo,\\r\\n,domino,,suit,,,vet,,dildo,\\r\\n,beverage,,survivor,,,china,,nipple,\\r\\n,sustenance,,tour,,,hulu,,asshole,\\r\\n,rice,,war,,,basura,,bail,\\r\\n,guac,,warrior,,,bedding,,butthole,\\r\\n,champagne,,cinema ,,,Resume,,tampon,\\r\\n,chocolate,,theater,,,stratascratch,,illegal,\\r\\n,nomz,,tennis,,,securityDeposite,,prank,\\r\\n,pickle,,us open ,,,Nflx,,mary jane,\\r\\n,safeway,,rage,,,tissue,,steroids,\\r\\n,sausage,,volleyball,,,3080ti,,balls,\\r\\n,crab,,paintball,,,laptop,,circles ,\\r\\n,mike,,futbol,,,Wayfair,,milf,\\r\\n,tab,,ufc,,,Staples,,relx,\\r\\n,whiskey,,lolla,,,Creed Aventus,,foliage,\\r\\n,smoothie,,disney,,,decorations,,bigger,\\r\\n,foooooood,,championship,,,cloud,,celcius,\\r\\n,mcd,,basket,,,hydro,,puff,\\r\\n,sup,,film,,,lease,,noods,\\r\\n,beef,,ktv,,,mattress,,goat,\\r\\n,soap,,printing,,,mirror,,stuff,\\r\\n,bake,,walk,,,material,,,\\r\\n,butter,,polish,,,iron steamer,,,\\r\\n,fewd,,fishing,,,study chair,,,\\r\\n,banana,,earring,,,lamp,,,\\r\\n,waffle,,bollywood,,,batteries ,,,\\r\\n,eats,,settle,,,rent,,,\\r\\n,walmart,,zara,,,bills,,,\\r\\n,trader,,consultation,,,renew,,,\\r\\n,potato,,cancelled,,,washer,,,\\r\\n,oyster,,being,,,subscription,,,\\r\\n,foood,,jerseyyy,,,recycling,,,\\r\\n,curry,,cleanup,,,,,,\\r\\n,munchies,,drinko,,,,,,\\r\\n,bacon,,study,,,,,,\\r\\n,joe,,parking,,,,,,\\r\\n,pregame,,rave,,,,,,\\r\\n,chef,,nfl,,,,,,\\r\\n,hangover,,rodeo,,,,,,\\r\\n,indian,,leetcode,,,,,,\\r\\n,dim,,datasets,,,,,,\\r\\n,korean,,share,,,,,,\\r\\n,kbbq,,hike,,,,,,\\r\\n,dinna,,quarantine,,,,,,\\r\\n,mexican,,lululemon,,,,,,\\r\\n,margs,,xiaomi,,,,,,\\r\\n,noms,,zumba,,,,,,\\r\\n,keg,,salsa,,,,,,\\r\\n,jimmy,,course,,,,,,\\r\\n,john,,barbie,,,,,,\\r\\n,shot,,buy,,,,,,\\r\\n,jell,,sephora,,,,,,\\r\\n,in n out,,mahjong,,,,,,\\r\\n,turkey,,youtube,,,,,,\\r\\n,greek,,trial,,,,,,\\r\\n,shake,,sailing,,,,,,\\r\\n,footlong,,trim,,,,,,\\r\\n,groceries,,nails,,,,,,\\r\\n,dunkin,,moving ,,,,,,\\r\\n,iced,,vinyl,,,,,,\\r\\n,gaterode ,,ultra,,,,,,\\r\\n,foot long ,,skate,,,,,,\\r\\n,subway,,machine,,,,,,\\r\\n,nom,,library,,,,,,\\r\\n,apple,,zoo ,,,,,,\\r\\n,dip,,badminton ,,,,,,\\r\\n,publix,,garage sale,,,,,,\\r\\n,za,,batman,,,,,,\\r\\n,gummy,,pedicure,,,,,,\\r\\n,bell,,manicure,,,,,,\\r\\n,mickey,,getaway,,,,,,\\r\\n,cold,,amc,,,,,,\\r\\n,cup,,pink,,,,,,\\r\\n,cvs,,receive,,,,,,\\r\\n,duck,,apply,,,,,,\\r\\n,fresh,,track,,,,,,\\r\\n,fud,,bookkeeping,,,,,,\\r\\n,garden,,Settling,,,,,,\\r\\n,glass,,Lernch,,,,,,\\r\\n,kitchen,,pedicure,,,,,,\\r\\n,liquid,,puzzle,,,,,,\\r\\n,sangria,,surf,,,,,,\\r\\n,shack,,Hollywood,,,,,,\\r\\n,avocado,,run,,,,,,\\r\\n,stick,,kayaking ,,,,,,\\r\\n,sum ,,baseball ,,,,,,\\r\\n,target,,fundraiser,,,,,,\\r\\n,gelato,,ma jiang,,,,,,\\r\\n,toast,,defenders,,,,,,\\r\\n,fruit,,corset,,,,,,\\r\\n,starbs,,sandoval,,,,,,\\r\\n,fooooooood,,lounge,,,,,,\\r\\n,hungry,,museum,,,,,,\\r\\n,popcorn,,sing,,,,,,\\r\\n,shrimp,,mlb,,,,,,\\r\\n,cook,,olympic,,,,,,\\r\\n,yogurt,,relax,,,,,,\\r\\n,lobster,,sun,,,,,,\\r\\n,quesadilla,,ordinaire,,,,,,\\r\\n,cider,,bodega,,,,,,\\r\\n,pretzel,,thrifting,,,,,,\\r\\n,patty,,rumba,,,,,,\\r\\n,beerz,,studio,,,,,,\\r\\n,mcdonalds,,kpop,,,,,,\\r\\n,sparkle,,photography,,,,,,\\r\\n,gyro,,firewood,,,,,,\\r\\n,fireball,,hiking,,,,,,\\r\\n,pita,,ballet,,,,,,\\r\\n,meatball,,opera,,,,,,\\r\\n,muffin,,parasailing,,,,,,\\r\\n,salmon,,shadow,,,,,,\\r\\n,cerveza,,installment,,,,,,\\r\\n,mule,,photos,,,,,,\\r\\n,corona,,go karting,,,,,,\\r\\n,ginger,,trekking,,,,,,\\r\\n,corn,,swimming,,,,,,\\r\\n,crawfish,,pictures ,,,,,,\\r\\n,buffet,,picnic,,,,,,\\r\\n,kunjip,,Niners,,,,,,\\r\\n,maki,,game night ,,,,,,\\r\\n,oysters,,gym,,,,,,\\r\\n,jollibee,,babysitting,,,,,,\\r\\n,hotpot,,sweatshirt,,,,,,\\r\\n,dimsum,,LPEA,,,,,,\\r\\n,milktea,,boxing,,,,,,\\r\\n,seafood,,Tattoos,,,,,,\\r\\n,KFC,,,,,,,,\\r\\n,hmart,,,,,,,,\\r\\n,spinach,,,,,,,,\\r\\n,hall,,,,,,,,\\r\\n,spaghetti,,,,,,,,\\r\\n,pumpkin,,,,,,,,\\r\\n,claw,,,,,,,,\\r\\n,charcuterie,,,,,,,,\\r\\n,dosa,,,,,,,,\\r\\n,vegan,,,,,,,,\\r\\n,prosecco,,,,,,,,\\r\\n,veg,,,,,,,,\\r\\n,takeout,,,,,,,,\\r\\n,beer,,,,,,,,\\r\\n,Tan-cha,,,,,,,,\\r\\n,pho,,,,,,,,\\r\\n,scallion,,,,,,,,\\r\\n,pearl,,,,,,,,\\r\\n,spam,,,,,,,,\\r\\n,uni,,,,,,,,\\r\\n,hotdog,,,,,,,,\\r\\n,natchos,,,,,,,,\\r\\n,booz,,,,,,,,\\r\\n,sashimi,,,,,,,,\\r\\n,fries,,,,,,,,\\r\\n,taco bell,,,,,,,,\\r\\n,mocha,,,,,,,,\\r\\n,honey,,,,,,,,\\r\\n,matcha,,,,,,,,\\r\\n,arepa,,,,,,,,\\r\\n,empanadas,,,,,,,,\\r\\n,schnitzel,,,,,,,,\\r\\n,wok,,,,,,,,\\r\\n,esspresso,,,,,,,,\\r\\n,kroger,,,,,,,,\\r\\n,kimchi,,,,,,,,\\r\\n,tomato,,,,,,,,\\r\\n,coconut,,,,,,,,\\r\\n,strawberry,,,,,,,,\\r\\n,flour,,,,,,,,\\r\\n,momo,,,,,,,,\\r\\n,cheeses,,,,,,,,\\r\\n,chezcake,,,,,,,,\\r\\n,maize,,,,,,,,\\r\\n,rum,,,,,,,,\\r\\n,nob hill,,,,,,,,\\r\\n,doordash,,,,,,,,\\r\\n,juul,,,,,,,,\\r\\n,shake shack,,,,,,,,\\r\\n,lamb,,,,,,,,\\r\\n,ladym,,,,,,,,\\r\\n,hamburger,,,,,,,,\\r\\n,rolls,,,,,,,,\\r\\n,vanila,,,,,,,,\\r\\n,jin mi,,,,,,,,\\r\\n,korean bbq,,,,,,,,\\r\\n,shots,,,,,,,,\\r\\n,orange juice,,,,,,,,\\r\\n,crepe,,,,,,,,\\r\\n,wholefoods ,,,,,,,,\\r\\n,gin,,,,,,,,\\r\\n,modelo,,,,,,,,\\r\\n,hotbird,,,,,,,,\\r\\n,eclair,,,,,,,,\\r\\n,chilaquiles,,,,,,,,\\r\\n,lemonade,,,,,,,,\\r\\n,alcoholism,,,,,,,,\\r\\n,chocky,,,,,,,,\\r\\n,sake,,,,,,,,\\r\\n,yiFang,,,,,,,,\\r\\n,UEats,,,,,,,,\\r\\n,BaoZi,,,,,,,,\\r\\n,flake,,,,,,,,\\r\\n,tasty,,,,,,,,\\r\\n,meds,,,,,,,,\\r\\n,quesadilla,,,,,,,,\\r\\n,Pinot,,,,,,,,\\r\\n,Beatrix,,,,,,,,\\r\\n,Bathtub,,,,,,,,\\r\\n,Seseme,,,,,,,,\\r\\n,starbies,,,,,,,,\\r\\n,sauvignon,,,,,,,,\\r\\n,boozin,,,,,,,,\\r\\n,daiq,,,,,,,,\\r\\n,Porridge,,,,,,,,\\r\\n,pineapple,,,,,,,,\\r\\n,pineapple bun,,,,,,,,\\r\\n,durian,,,,,,,,\\r\\n,ice-cream,,,,,,,,\\r\\n,tacos,,,,,,,,\\r\\n,ramen,,,,,,,,\\r\\n,dog food,,,,,,,,\\r\\n,strawb,,,,,,,,\\r\\n,drinks,,,,,,,,\\r\\n,sweetgreen,,,,,,,,\\r\\n,Denny's,,,,,,,,\\r\\n,Izakaya,,,,,,,,\\r\\n,Boiling Crab,,,,,,,,\\r\\n,eggs benedict,,,,,,,,\\r\\n,Croissant,,,,,,,,\\r\\n,octopus,,,,,,,,\\r\\n,grubhub,,,,,,,,\\r\\n,matcha,,,,,,,,\\r\\n,weee,,,,,,,,\\r\\n,all you can eat,,,,,,,,\\r\\n,japanese,,,,,,,,\\r\\n,mochi,,,,,,,,\\r\\n,wat,,,,,,,,\\r\\n,espresso,,,,,,,,\\r\\n,baklava,,,,,,,,\\r\\n,venetian,,,,,,,,\\r\\n,popeyes,,,,,,,,\\r\\n,raclette,,,,,,,,\\r\\n,spoiled chicken,,,,,,,,\\r\\n,cold stone,,,,,,,,\\r\\n,mushrooms,,,,,,,,\\r\\n,brunch,,,,,,,,\\r\\n,celsius,,,,,,,,\\r\\n,taichi,,,,,,,,\\r\\n,pookie,,,,,,,,\\r\\n,peanuts,,,,,,,,\\r\\n,pastry,,,,,,,,\\r\\n,Biryani,,,,,,,,\\r\\n,hummus,,,,,,,,\\r\\n,soju,,,,,,,,\"}"
            ]
          },
          "execution_count": 8,
          "metadata": {},
          "output_type": "execute_result"
        }
      ],
      "source": [
        "#Upload dataset files\n",
        "from google.colab import files\n",
        "files.upload()"
      ]
    },
    {
      "cell_type": "code",
      "execution_count": null,
      "metadata": {
        "id": "DERSe2P8c7Jy"
      },
      "outputs": [],
      "source": [
        "from pyspark.sql import SparkSession\n",
        "\n",
        "spark = SparkSession.builder\\\n",
        "        .master(\"local\")\\\n",
        "        .appName(\"Venmo Analysis\")\\\n",
        "        .getOrCreate()"
      ]
    },
    {
      "cell_type": "code",
      "execution_count": null,
      "metadata": {
        "colab": {
          "base_uri": "https://localhost:8080/"
        },
        "id": "ighqQV8PH02g",
        "outputId": "b6f5a461-da76-426d-af12-2cee226313cc"
      },
      "outputs": [
        {
          "name": "stdout",
          "output_type": "stream",
          "text": [
            "Mounted at /content/drive/\n"
          ]
        }
      ],
      "source": [
        "#upload file from google drive\n",
        "from google.colab import drive\n",
        "drive.mount('/content/drive/')"
      ]
    },
    {
      "cell_type": "code",
      "execution_count": null,
      "metadata": {
        "id": "03DxQ-aldQto"
      },
      "outputs": [],
      "source": [
        "#Load the emoji dictionary\n",
        "emoji_dict = pd.read_csv(\"/content/emoji.csv\")\n",
        "\n",
        "#load the word dictionary\n",
        "word_dict = pd.read_csv(\"/content/word.csv\")\n",
        "\n",
        "#load the Venmo transactions dataset\n",
        "venmo_data = spark.read.parquet(\"/content/drive/MyDrive/VenmoSample.snappy.parquet\")"
      ]
    },
    {
      "cell_type": "code",
      "execution_count": null,
      "metadata": {
        "colab": {
          "base_uri": "https://localhost:8080/",
          "height": 363
        },
        "id": "zhf7SynGnQi3",
        "outputId": "768a2808-b66a-42dc-e979-fc3edbd047d7"
      },
      "outputs": [
        {
          "data": {
            "application/vnd.google.colaboratory.intrinsic+json": {
              "summary": "{\n  \"name\": \"emoji_dict\",\n  \"rows\": 385,\n  \"fields\": [\n    {\n      \"column\": \"Event\",\n      \"properties\": {\n        \"dtype\": \"category\",\n        \"num_unique_values\": 32,\n        \"samples\": [\n          \"\\ud83d\\udc70\",\n          \"\\ud83c\\udf93\",\n          \"\\ud83c\\udf31\"\n        ],\n        \"semantic_type\": \"\",\n        \"description\": \"\"\n      }\n    },\n    {\n      \"column\": \"Travel\",\n      \"properties\": {\n        \"dtype\": \"category\",\n        \"num_unique_values\": 64,\n        \"samples\": [\n          \"\\ud83c\\udf91\",\n          \"\\ud83d\\udcb7\",\n          \"\\ud83c\\udfd4\"\n        ],\n        \"semantic_type\": \"\",\n        \"description\": \"\"\n      }\n    },\n    {\n      \"column\": \"Food\",\n      \"properties\": {\n        \"dtype\": \"category\",\n        \"num_unique_values\": 68,\n        \"samples\": [\n          \"\\ud83c\\udf67\",\n          \"\\ud83c\\udf36\",\n          \"\\ud83c\\udf4b\"\n        ],\n        \"semantic_type\": \"\",\n        \"description\": \"\"\n      }\n    },\n    {\n      \"column\": \"Activity\",\n      \"properties\": {\n        \"dtype\": \"category\",\n        \"num_unique_values\": 54,\n        \"samples\": [\n          \"\\ud83c\\udfc9\",\n          \"\\ud83c\\udfbb\",\n          \"\\ud83c\\udfba\"\n        ],\n        \"semantic_type\": \"\",\n        \"description\": \"\"\n      }\n    },\n    {\n      \"column\": \"Transportation\",\n      \"properties\": {\n        \"dtype\": \"category\",\n        \"num_unique_values\": 47,\n        \"samples\": [\n          \"\\u26fd\",\n          \"\\ud83d\\udea2\",\n          \"\\ud83d\\udeb2\"\n        ],\n        \"semantic_type\": \"\",\n        \"description\": \"\"\n      }\n    },\n    {\n      \"column\": \"People\",\n      \"properties\": {\n        \"dtype\": \"string\",\n        \"num_unique_values\": 385,\n        \"samples\": [\n          \"\\ud83e\\udddb\",\n          \"\\ud83e\\uddd5\",\n          \"\\ud83e\\udde3\"\n        ],\n        \"semantic_type\": \"\",\n        \"description\": \"\"\n      }\n    },\n    {\n      \"column\": \"Utility\",\n      \"properties\": {\n        \"dtype\": \"category\",\n        \"num_unique_values\": 14,\n        \"samples\": [\n          \" \\ud83d\\udca7\",\n          \"\\ud83c\\udfe2\",\n          \"\\u26a1\"\n        ],\n        \"semantic_type\": \"\",\n        \"description\": \"\"\n      }\n    }\n  ]\n}",
              "type": "dataframe",
              "variable_name": "emoji_dict"
            },
            "text/html": [
              "\n",
              "  <div id=\"df-3d3a8ee7-a5ff-4579-a9b0-616362da9960\" class=\"colab-df-container\">\n",
              "    <div>\n",
              "<style scoped>\n",
              "    .dataframe tbody tr th:only-of-type {\n",
              "        vertical-align: middle;\n",
              "    }\n",
              "\n",
              "    .dataframe tbody tr th {\n",
              "        vertical-align: top;\n",
              "    }\n",
              "\n",
              "    .dataframe thead th {\n",
              "        text-align: right;\n",
              "    }\n",
              "</style>\n",
              "<table border=\"1\" class=\"dataframe\">\n",
              "  <thead>\n",
              "    <tr style=\"text-align: right;\">\n",
              "      <th></th>\n",
              "      <th>Event</th>\n",
              "      <th>Travel</th>\n",
              "      <th>Food</th>\n",
              "      <th>Activity</th>\n",
              "      <th>Transportation</th>\n",
              "      <th>People</th>\n",
              "      <th>Utility</th>\n",
              "    </tr>\n",
              "  </thead>\n",
              "  <tbody>\n",
              "    <tr>\n",
              "      <th>0</th>\n",
              "      <td>🇦🇺</td>\n",
              "      <td>🏔</td>\n",
              "      <td>🍇</td>\n",
              "      <td>👾</td>\n",
              "      <td>🚄</td>\n",
              "      <td>😀</td>\n",
              "      <td>⚡</td>\n",
              "    </tr>\n",
              "    <tr>\n",
              "      <th>1</th>\n",
              "      <td>🇫🇷</td>\n",
              "      <td>⛰</td>\n",
              "      <td>🍈</td>\n",
              "      <td>🕴</td>\n",
              "      <td>🚅</td>\n",
              "      <td>😃</td>\n",
              "      <td>💡</td>\n",
              "    </tr>\n",
              "    <tr>\n",
              "      <th>2</th>\n",
              "      <td>🎂</td>\n",
              "      <td>🌋</td>\n",
              "      <td>🍉</td>\n",
              "      <td>🎪</td>\n",
              "      <td>🚆</td>\n",
              "      <td>😄</td>\n",
              "      <td>🔌</td>\n",
              "    </tr>\n",
              "    <tr>\n",
              "      <th>3</th>\n",
              "      <td>🛍</td>\n",
              "      <td>🗻</td>\n",
              "      <td>🍊</td>\n",
              "      <td>🎭</td>\n",
              "      <td>🚇</td>\n",
              "      <td>😁</td>\n",
              "      <td>📺</td>\n",
              "    </tr>\n",
              "    <tr>\n",
              "      <th>4</th>\n",
              "      <td>🇨🇦</td>\n",
              "      <td>🏕</td>\n",
              "      <td>🍋</td>\n",
              "      <td>🎨</td>\n",
              "      <td>🚈</td>\n",
              "      <td>😆</td>\n",
              "      <td>🔌</td>\n",
              "    </tr>\n",
              "    <tr>\n",
              "      <th>5</th>\n",
              "      <td>🇧🇷</td>\n",
              "      <td>🏖</td>\n",
              "      <td>🍌</td>\n",
              "      <td>🎰</td>\n",
              "      <td>🚉</td>\n",
              "      <td>😅</td>\n",
              "      <td>⚡</td>\n",
              "    </tr>\n",
              "    <tr>\n",
              "      <th>6</th>\n",
              "      <td>🐉</td>\n",
              "      <td>🏜</td>\n",
              "      <td>🍍</td>\n",
              "      <td>🚣</td>\n",
              "      <td>🚊</td>\n",
              "      <td>🤣</td>\n",
              "      <td>💡</td>\n",
              "    </tr>\n",
              "    <tr>\n",
              "      <th>7</th>\n",
              "      <td>🎅</td>\n",
              "      <td>🏝</td>\n",
              "      <td>🍎</td>\n",
              "      <td>🛀</td>\n",
              "      <td>🚝</td>\n",
              "      <td>😂</td>\n",
              "      <td>💸</td>\n",
              "    </tr>\n",
              "    <tr>\n",
              "      <th>8</th>\n",
              "      <td>🇲🇽</td>\n",
              "      <td>🏞</td>\n",
              "      <td>🍏</td>\n",
              "      <td>🎗</td>\n",
              "      <td>🚞</td>\n",
              "      <td>🙂</td>\n",
              "      <td>💦</td>\n",
              "    </tr>\n",
              "    <tr>\n",
              "      <th>9</th>\n",
              "      <td>🇨🇳</td>\n",
              "      <td>🏟</td>\n",
              "      <td>🍐</td>\n",
              "      <td>🎟</td>\n",
              "      <td>🚋</td>\n",
              "      <td>🙃-</td>\n",
              "      <td>💧</td>\n",
              "    </tr>\n",
              "  </tbody>\n",
              "</table>\n",
              "</div>\n",
              "    <div class=\"colab-df-buttons\">\n",
              "\n",
              "  <div class=\"colab-df-container\">\n",
              "    <button class=\"colab-df-convert\" onclick=\"convertToInteractive('df-3d3a8ee7-a5ff-4579-a9b0-616362da9960')\"\n",
              "            title=\"Convert this dataframe to an interactive table.\"\n",
              "            style=\"display:none;\">\n",
              "\n",
              "  <svg xmlns=\"http://www.w3.org/2000/svg\" height=\"24px\" viewBox=\"0 -960 960 960\">\n",
              "    <path d=\"M120-120v-720h720v720H120Zm60-500h600v-160H180v160Zm220 220h160v-160H400v160Zm0 220h160v-160H400v160ZM180-400h160v-160H180v160Zm440 0h160v-160H620v160ZM180-180h160v-160H180v160Zm440 0h160v-160H620v160Z\"/>\n",
              "  </svg>\n",
              "    </button>\n",
              "\n",
              "  <style>\n",
              "    .colab-df-container {\n",
              "      display:flex;\n",
              "      gap: 12px;\n",
              "    }\n",
              "\n",
              "    .colab-df-convert {\n",
              "      background-color: #E8F0FE;\n",
              "      border: none;\n",
              "      border-radius: 50%;\n",
              "      cursor: pointer;\n",
              "      display: none;\n",
              "      fill: #1967D2;\n",
              "      height: 32px;\n",
              "      padding: 0 0 0 0;\n",
              "      width: 32px;\n",
              "    }\n",
              "\n",
              "    .colab-df-convert:hover {\n",
              "      background-color: #E2EBFA;\n",
              "      box-shadow: 0px 1px 2px rgba(60, 64, 67, 0.3), 0px 1px 3px 1px rgba(60, 64, 67, 0.15);\n",
              "      fill: #174EA6;\n",
              "    }\n",
              "\n",
              "    .colab-df-buttons div {\n",
              "      margin-bottom: 4px;\n",
              "    }\n",
              "\n",
              "    [theme=dark] .colab-df-convert {\n",
              "      background-color: #3B4455;\n",
              "      fill: #D2E3FC;\n",
              "    }\n",
              "\n",
              "    [theme=dark] .colab-df-convert:hover {\n",
              "      background-color: #434B5C;\n",
              "      box-shadow: 0px 1px 3px 1px rgba(0, 0, 0, 0.15);\n",
              "      filter: drop-shadow(0px 1px 2px rgba(0, 0, 0, 0.3));\n",
              "      fill: #FFFFFF;\n",
              "    }\n",
              "  </style>\n",
              "\n",
              "    <script>\n",
              "      const buttonEl =\n",
              "        document.querySelector('#df-3d3a8ee7-a5ff-4579-a9b0-616362da9960 button.colab-df-convert');\n",
              "      buttonEl.style.display =\n",
              "        google.colab.kernel.accessAllowed ? 'block' : 'none';\n",
              "\n",
              "      async function convertToInteractive(key) {\n",
              "        const element = document.querySelector('#df-3d3a8ee7-a5ff-4579-a9b0-616362da9960');\n",
              "        const dataTable =\n",
              "          await google.colab.kernel.invokeFunction('convertToInteractive',\n",
              "                                                    [key], {});\n",
              "        if (!dataTable) return;\n",
              "\n",
              "        const docLinkHtml = 'Like what you see? Visit the ' +\n",
              "          '<a target=\"_blank\" href=https://colab.research.google.com/notebooks/data_table.ipynb>data table notebook</a>'\n",
              "          + ' to learn more about interactive tables.';\n",
              "        element.innerHTML = '';\n",
              "        dataTable['output_type'] = 'display_data';\n",
              "        await google.colab.output.renderOutput(dataTable, element);\n",
              "        const docLink = document.createElement('div');\n",
              "        docLink.innerHTML = docLinkHtml;\n",
              "        element.appendChild(docLink);\n",
              "      }\n",
              "    </script>\n",
              "  </div>\n",
              "\n",
              "\n",
              "<div id=\"df-f154810b-8023-4f7e-abfe-44e56517ac8a\">\n",
              "  <button class=\"colab-df-quickchart\" onclick=\"quickchart('df-f154810b-8023-4f7e-abfe-44e56517ac8a')\"\n",
              "            title=\"Suggest charts\"\n",
              "            style=\"display:none;\">\n",
              "\n",
              "<svg xmlns=\"http://www.w3.org/2000/svg\" height=\"24px\"viewBox=\"0 0 24 24\"\n",
              "     width=\"24px\">\n",
              "    <g>\n",
              "        <path d=\"M19 3H5c-1.1 0-2 .9-2 2v14c0 1.1.9 2 2 2h14c1.1 0 2-.9 2-2V5c0-1.1-.9-2-2-2zM9 17H7v-7h2v7zm4 0h-2V7h2v10zm4 0h-2v-4h2v4z\"/>\n",
              "    </g>\n",
              "</svg>\n",
              "  </button>\n",
              "\n",
              "<style>\n",
              "  .colab-df-quickchart {\n",
              "      --bg-color: #E8F0FE;\n",
              "      --fill-color: #1967D2;\n",
              "      --hover-bg-color: #E2EBFA;\n",
              "      --hover-fill-color: #174EA6;\n",
              "      --disabled-fill-color: #AAA;\n",
              "      --disabled-bg-color: #DDD;\n",
              "  }\n",
              "\n",
              "  [theme=dark] .colab-df-quickchart {\n",
              "      --bg-color: #3B4455;\n",
              "      --fill-color: #D2E3FC;\n",
              "      --hover-bg-color: #434B5C;\n",
              "      --hover-fill-color: #FFFFFF;\n",
              "      --disabled-bg-color: #3B4455;\n",
              "      --disabled-fill-color: #666;\n",
              "  }\n",
              "\n",
              "  .colab-df-quickchart {\n",
              "    background-color: var(--bg-color);\n",
              "    border: none;\n",
              "    border-radius: 50%;\n",
              "    cursor: pointer;\n",
              "    display: none;\n",
              "    fill: var(--fill-color);\n",
              "    height: 32px;\n",
              "    padding: 0;\n",
              "    width: 32px;\n",
              "  }\n",
              "\n",
              "  .colab-df-quickchart:hover {\n",
              "    background-color: var(--hover-bg-color);\n",
              "    box-shadow: 0 1px 2px rgba(60, 64, 67, 0.3), 0 1px 3px 1px rgba(60, 64, 67, 0.15);\n",
              "    fill: var(--button-hover-fill-color);\n",
              "  }\n",
              "\n",
              "  .colab-df-quickchart-complete:disabled,\n",
              "  .colab-df-quickchart-complete:disabled:hover {\n",
              "    background-color: var(--disabled-bg-color);\n",
              "    fill: var(--disabled-fill-color);\n",
              "    box-shadow: none;\n",
              "  }\n",
              "\n",
              "  .colab-df-spinner {\n",
              "    border: 2px solid var(--fill-color);\n",
              "    border-color: transparent;\n",
              "    border-bottom-color: var(--fill-color);\n",
              "    animation:\n",
              "      spin 1s steps(1) infinite;\n",
              "  }\n",
              "\n",
              "  @keyframes spin {\n",
              "    0% {\n",
              "      border-color: transparent;\n",
              "      border-bottom-color: var(--fill-color);\n",
              "      border-left-color: var(--fill-color);\n",
              "    }\n",
              "    20% {\n",
              "      border-color: transparent;\n",
              "      border-left-color: var(--fill-color);\n",
              "      border-top-color: var(--fill-color);\n",
              "    }\n",
              "    30% {\n",
              "      border-color: transparent;\n",
              "      border-left-color: var(--fill-color);\n",
              "      border-top-color: var(--fill-color);\n",
              "      border-right-color: var(--fill-color);\n",
              "    }\n",
              "    40% {\n",
              "      border-color: transparent;\n",
              "      border-right-color: var(--fill-color);\n",
              "      border-top-color: var(--fill-color);\n",
              "    }\n",
              "    60% {\n",
              "      border-color: transparent;\n",
              "      border-right-color: var(--fill-color);\n",
              "    }\n",
              "    80% {\n",
              "      border-color: transparent;\n",
              "      border-right-color: var(--fill-color);\n",
              "      border-bottom-color: var(--fill-color);\n",
              "    }\n",
              "    90% {\n",
              "      border-color: transparent;\n",
              "      border-bottom-color: var(--fill-color);\n",
              "    }\n",
              "  }\n",
              "</style>\n",
              "\n",
              "  <script>\n",
              "    async function quickchart(key) {\n",
              "      const quickchartButtonEl =\n",
              "        document.querySelector('#' + key + ' button');\n",
              "      quickchartButtonEl.disabled = true;  // To prevent multiple clicks.\n",
              "      quickchartButtonEl.classList.add('colab-df-spinner');\n",
              "      try {\n",
              "        const charts = await google.colab.kernel.invokeFunction(\n",
              "            'suggestCharts', [key], {});\n",
              "      } catch (error) {\n",
              "        console.error('Error during call to suggestCharts:', error);\n",
              "      }\n",
              "      quickchartButtonEl.classList.remove('colab-df-spinner');\n",
              "      quickchartButtonEl.classList.add('colab-df-quickchart-complete');\n",
              "    }\n",
              "    (() => {\n",
              "      let quickchartButtonEl =\n",
              "        document.querySelector('#df-f154810b-8023-4f7e-abfe-44e56517ac8a button');\n",
              "      quickchartButtonEl.style.display =\n",
              "        google.colab.kernel.accessAllowed ? 'block' : 'none';\n",
              "    })();\n",
              "  </script>\n",
              "</div>\n",
              "    </div>\n",
              "  </div>\n"
            ],
            "text/plain": [
              "  Event Travel Food Activity Transportation People Utility\n",
              "0    🇦🇺      🏔    🍇        👾              🚄      😀       ⚡\n",
              "1    🇫🇷      ⛰    🍈        🕴              🚅      😃       💡\n",
              "2     🎂      🌋    🍉        🎪              🚆      😄       🔌\n",
              "3     🛍      🗻    🍊        🎭              🚇      😁       📺\n",
              "4    🇨🇦      🏕    🍋        🎨              🚈      😆       🔌\n",
              "5    🇧🇷      🏖    🍌        🎰              🚉      😅       ⚡\n",
              "6     🐉      🏜    🍍        🚣              🚊      🤣       💡\n",
              "7     🎅      🏝    🍎        🛀              🚝      😂       💸\n",
              "8    🇲🇽      🏞    🍏        🎗              🚞      🙂       💦\n",
              "9    🇨🇳      🏟    🍐        🎟              🚋     🙃-       💧"
            ]
          },
          "execution_count": 12,
          "metadata": {},
          "output_type": "execute_result"
        }
      ],
      "source": [
        "emoji_dict.head(10)"
      ]
    },
    {
      "cell_type": "code",
      "execution_count": null,
      "metadata": {
        "colab": {
          "base_uri": "https://localhost:8080/",
          "height": 363
        },
        "id": "N19dYav2KvrS",
        "outputId": "fe2145e1-b095-46b6-c424-f333b1d3098b"
      },
      "outputs": [
        {
          "data": {
            "application/vnd.google.colaboratory.intrinsic+json": {
              "summary": "{\n  \"name\": \"word_dict\",\n  \"rows\": 374,\n  \"fields\": [\n    {\n      \"column\": \"People\",\n      \"properties\": {\n        \"dtype\": \"category\",\n        \"num_unique_values\": 87,\n        \"samples\": [\n          \"unemployed\",\n          \"friend\",\n          \"dude\"\n        ],\n        \"semantic_type\": \"\",\n        \"description\": \"\"\n      }\n    },\n    {\n      \"column\": \"Food\",\n      \"properties\": {\n        \"dtype\": \"string\",\n        \"num_unique_values\": 369,\n        \"samples\": [\n          \"Seseme\",\n          \"sushi\",\n          \"cream\"\n        ],\n        \"semantic_type\": \"\",\n        \"description\": \"\"\n      }\n    },\n    {\n      \"column\": \"Event\",\n      \"properties\": {\n        \"dtype\": \"category\",\n        \"num_unique_values\": 64,\n        \"samples\": [\n          \"retirement\",\n          \"webinar\",\n          \"birthday\"\n        ],\n        \"semantic_type\": \"\",\n        \"description\": \"\"\n      }\n    },\n    {\n      \"column\": \"Activity\",\n      \"properties\": {\n        \"dtype\": \"string\",\n        \"num_unique_values\": 246,\n        \"samples\": [\n          \"bowling\",\n          \"dance\",\n          \"moving \"\n        ],\n        \"semantic_type\": \"\",\n        \"description\": \"\"\n      }\n    },\n    {\n      \"column\": \"Travel\",\n      \"properties\": {\n        \"dtype\": \"category\",\n        \"num_unique_values\": 90,\n        \"samples\": [\n          \"rosslyn\",\n          \"cancun \",\n          \"shanghai\"\n        ],\n        \"semantic_type\": \"\",\n        \"description\": \"\"\n      }\n    },\n    {\n      \"column\": \"Transportation\",\n      \"properties\": {\n        \"dtype\": \"category\",\n        \"num_unique_values\": 59,\n        \"samples\": [\n          \"lyft\",\n          \"gas\",\n          \"toll\"\n        ],\n        \"semantic_type\": \"\",\n        \"description\": \"\"\n      }\n    },\n    {\n      \"column\": \"Utility\",\n      \"properties\": {\n        \"dtype\": \"category\",\n        \"num_unique_values\": 152,\n        \"samples\": [\n          \"spotify\",\n          \"batteries \",\n          \"shelter\"\n        ],\n        \"semantic_type\": \"\",\n        \"description\": \"\"\n      }\n    },\n    {\n      \"column\": \"Cash\",\n      \"properties\": {\n        \"dtype\": \"category\",\n        \"num_unique_values\": 41,\n        \"samples\": [\n          \"pay\",\n          \"supreme\",\n          \"dollar\"\n        ],\n        \"semantic_type\": \"\",\n        \"description\": \"\"\n      }\n    },\n    {\n      \"column\": \"Illegal/Sarcasm\",\n      \"properties\": {\n        \"dtype\": \"category\",\n        \"num_unique_values\": 142,\n        \"samples\": [\n          \"balls\",\n          \"fuck\",\n          \"af\"\n        ],\n        \"semantic_type\": \"\",\n        \"description\": \"\"\n      }\n    },\n    {\n      \"column\": \"@dropdown\",\n      \"properties\": {\n        \"dtype\": \"number\",\n        \"std\": null,\n        \"min\": null,\n        \"max\": null,\n        \"num_unique_values\": 0,\n        \"samples\": [],\n        \"semantic_type\": \"\",\n        \"description\": \"\"\n      }\n    }\n  ]\n}",
              "type": "dataframe",
              "variable_name": "word_dict"
            },
            "text/html": [
              "\n",
              "  <div id=\"df-7fce375c-288e-4453-a745-1795ca305830\" class=\"colab-df-container\">\n",
              "    <div>\n",
              "<style scoped>\n",
              "    .dataframe tbody tr th:only-of-type {\n",
              "        vertical-align: middle;\n",
              "    }\n",
              "\n",
              "    .dataframe tbody tr th {\n",
              "        vertical-align: top;\n",
              "    }\n",
              "\n",
              "    .dataframe thead th {\n",
              "        text-align: right;\n",
              "    }\n",
              "</style>\n",
              "<table border=\"1\" class=\"dataframe\">\n",
              "  <thead>\n",
              "    <tr style=\"text-align: right;\">\n",
              "      <th></th>\n",
              "      <th>People</th>\n",
              "      <th>Food</th>\n",
              "      <th>Event</th>\n",
              "      <th>Activity</th>\n",
              "      <th>Travel</th>\n",
              "      <th>Transportation</th>\n",
              "      <th>Utility</th>\n",
              "      <th>Cash</th>\n",
              "      <th>Illegal/Sarcasm</th>\n",
              "      <th>@dropdown</th>\n",
              "    </tr>\n",
              "  </thead>\n",
              "  <tbody>\n",
              "    <tr>\n",
              "      <th>0</th>\n",
              "      <td>friend</td>\n",
              "      <td>food</td>\n",
              "      <td>birthday</td>\n",
              "      <td>ball</td>\n",
              "      <td>beach</td>\n",
              "      <td>lyft</td>\n",
              "      <td>bill</td>\n",
              "      <td>atm</td>\n",
              "      <td>addiction</td>\n",
              "      <td>NaN</td>\n",
              "    </tr>\n",
              "    <tr>\n",
              "      <th>1</th>\n",
              "      <td>friendship</td>\n",
              "      <td>bbq</td>\n",
              "      <td>christmas</td>\n",
              "      <td>boat</td>\n",
              "      <td>place</td>\n",
              "      <td>uber</td>\n",
              "      <td>cable</td>\n",
              "      <td>bank</td>\n",
              "      <td>drug</td>\n",
              "      <td>NaN</td>\n",
              "    </tr>\n",
              "    <tr>\n",
              "      <th>2</th>\n",
              "      <td>baby</td>\n",
              "      <td>bean</td>\n",
              "      <td>happy</td>\n",
              "      <td>bar</td>\n",
              "      <td>la</td>\n",
              "      <td>cab</td>\n",
              "      <td>fee</td>\n",
              "      <td>cash</td>\n",
              "      <td>wangs</td>\n",
              "      <td>NaN</td>\n",
              "    </tr>\n",
              "    <tr>\n",
              "      <th>3</th>\n",
              "      <td>boy</td>\n",
              "      <td>latte</td>\n",
              "      <td>bday</td>\n",
              "      <td>book</td>\n",
              "      <td>world</td>\n",
              "      <td>bus</td>\n",
              "      <td>electric</td>\n",
              "      <td>money</td>\n",
              "      <td>weed</td>\n",
              "      <td>NaN</td>\n",
              "    </tr>\n",
              "    <tr>\n",
              "      <th>4</th>\n",
              "      <td>girl</td>\n",
              "      <td>breakfast</td>\n",
              "      <td>wedding</td>\n",
              "      <td>club</td>\n",
              "      <td>hotel</td>\n",
              "      <td>car</td>\n",
              "      <td>electricity</td>\n",
              "      <td>buck</td>\n",
              "      <td>anal</td>\n",
              "      <td>NaN</td>\n",
              "    </tr>\n",
              "    <tr>\n",
              "      <th>5</th>\n",
              "      <td>help</td>\n",
              "      <td>brunch</td>\n",
              "      <td>xmas</td>\n",
              "      <td>card</td>\n",
              "      <td>trip</td>\n",
              "      <td>gas</td>\n",
              "      <td>internet</td>\n",
              "      <td>wallet</td>\n",
              "      <td>bj</td>\n",
              "      <td>NaN</td>\n",
              "    </tr>\n",
              "    <tr>\n",
              "      <th>6</th>\n",
              "      <td>like</td>\n",
              "      <td>burger</td>\n",
              "      <td>holiday</td>\n",
              "      <td>dance</td>\n",
              "      <td>vega</td>\n",
              "      <td>taxi</td>\n",
              "      <td>rent</td>\n",
              "      <td>monies</td>\n",
              "      <td>blowjob</td>\n",
              "      <td>NaN</td>\n",
              "    </tr>\n",
              "    <tr>\n",
              "      <th>7</th>\n",
              "      <td>love</td>\n",
              "      <td>burrito</td>\n",
              "      <td>hbd</td>\n",
              "      <td>football</td>\n",
              "      <td>tahoe</td>\n",
              "      <td>ride</td>\n",
              "      <td>wifi</td>\n",
              "      <td>tip</td>\n",
              "      <td>boob</td>\n",
              "      <td>NaN</td>\n",
              "    </tr>\n",
              "    <tr>\n",
              "      <th>8</th>\n",
              "      <td>mom</td>\n",
              "      <td>cake</td>\n",
              "      <td>halloween</td>\n",
              "      <td>fun</td>\n",
              "      <td>nyc</td>\n",
              "      <td>rental</td>\n",
              "      <td>utility</td>\n",
              "      <td>dollar</td>\n",
              "      <td>booty</td>\n",
              "      <td>NaN</td>\n",
              "    </tr>\n",
              "    <tr>\n",
              "      <th>9</th>\n",
              "      <td>save</td>\n",
              "      <td>cheese</td>\n",
              "      <td>thanksgiving</td>\n",
              "      <td>game</td>\n",
              "      <td>dc</td>\n",
              "      <td>train</td>\n",
              "      <td>tax</td>\n",
              "      <td>payback</td>\n",
              "      <td>blow</td>\n",
              "      <td>NaN</td>\n",
              "    </tr>\n",
              "  </tbody>\n",
              "</table>\n",
              "</div>\n",
              "    <div class=\"colab-df-buttons\">\n",
              "\n",
              "  <div class=\"colab-df-container\">\n",
              "    <button class=\"colab-df-convert\" onclick=\"convertToInteractive('df-7fce375c-288e-4453-a745-1795ca305830')\"\n",
              "            title=\"Convert this dataframe to an interactive table.\"\n",
              "            style=\"display:none;\">\n",
              "\n",
              "  <svg xmlns=\"http://www.w3.org/2000/svg\" height=\"24px\" viewBox=\"0 -960 960 960\">\n",
              "    <path d=\"M120-120v-720h720v720H120Zm60-500h600v-160H180v160Zm220 220h160v-160H400v160Zm0 220h160v-160H400v160ZM180-400h160v-160H180v160Zm440 0h160v-160H620v160ZM180-180h160v-160H180v160Zm440 0h160v-160H620v160Z\"/>\n",
              "  </svg>\n",
              "    </button>\n",
              "\n",
              "  <style>\n",
              "    .colab-df-container {\n",
              "      display:flex;\n",
              "      gap: 12px;\n",
              "    }\n",
              "\n",
              "    .colab-df-convert {\n",
              "      background-color: #E8F0FE;\n",
              "      border: none;\n",
              "      border-radius: 50%;\n",
              "      cursor: pointer;\n",
              "      display: none;\n",
              "      fill: #1967D2;\n",
              "      height: 32px;\n",
              "      padding: 0 0 0 0;\n",
              "      width: 32px;\n",
              "    }\n",
              "\n",
              "    .colab-df-convert:hover {\n",
              "      background-color: #E2EBFA;\n",
              "      box-shadow: 0px 1px 2px rgba(60, 64, 67, 0.3), 0px 1px 3px 1px rgba(60, 64, 67, 0.15);\n",
              "      fill: #174EA6;\n",
              "    }\n",
              "\n",
              "    .colab-df-buttons div {\n",
              "      margin-bottom: 4px;\n",
              "    }\n",
              "\n",
              "    [theme=dark] .colab-df-convert {\n",
              "      background-color: #3B4455;\n",
              "      fill: #D2E3FC;\n",
              "    }\n",
              "\n",
              "    [theme=dark] .colab-df-convert:hover {\n",
              "      background-color: #434B5C;\n",
              "      box-shadow: 0px 1px 3px 1px rgba(0, 0, 0, 0.15);\n",
              "      filter: drop-shadow(0px 1px 2px rgba(0, 0, 0, 0.3));\n",
              "      fill: #FFFFFF;\n",
              "    }\n",
              "  </style>\n",
              "\n",
              "    <script>\n",
              "      const buttonEl =\n",
              "        document.querySelector('#df-7fce375c-288e-4453-a745-1795ca305830 button.colab-df-convert');\n",
              "      buttonEl.style.display =\n",
              "        google.colab.kernel.accessAllowed ? 'block' : 'none';\n",
              "\n",
              "      async function convertToInteractive(key) {\n",
              "        const element = document.querySelector('#df-7fce375c-288e-4453-a745-1795ca305830');\n",
              "        const dataTable =\n",
              "          await google.colab.kernel.invokeFunction('convertToInteractive',\n",
              "                                                    [key], {});\n",
              "        if (!dataTable) return;\n",
              "\n",
              "        const docLinkHtml = 'Like what you see? Visit the ' +\n",
              "          '<a target=\"_blank\" href=https://colab.research.google.com/notebooks/data_table.ipynb>data table notebook</a>'\n",
              "          + ' to learn more about interactive tables.';\n",
              "        element.innerHTML = '';\n",
              "        dataTable['output_type'] = 'display_data';\n",
              "        await google.colab.output.renderOutput(dataTable, element);\n",
              "        const docLink = document.createElement('div');\n",
              "        docLink.innerHTML = docLinkHtml;\n",
              "        element.appendChild(docLink);\n",
              "      }\n",
              "    </script>\n",
              "  </div>\n",
              "\n",
              "\n",
              "<div id=\"df-ae6d6864-3a1d-4151-b144-aa101d658d64\">\n",
              "  <button class=\"colab-df-quickchart\" onclick=\"quickchart('df-ae6d6864-3a1d-4151-b144-aa101d658d64')\"\n",
              "            title=\"Suggest charts\"\n",
              "            style=\"display:none;\">\n",
              "\n",
              "<svg xmlns=\"http://www.w3.org/2000/svg\" height=\"24px\"viewBox=\"0 0 24 24\"\n",
              "     width=\"24px\">\n",
              "    <g>\n",
              "        <path d=\"M19 3H5c-1.1 0-2 .9-2 2v14c0 1.1.9 2 2 2h14c1.1 0 2-.9 2-2V5c0-1.1-.9-2-2-2zM9 17H7v-7h2v7zm4 0h-2V7h2v10zm4 0h-2v-4h2v4z\"/>\n",
              "    </g>\n",
              "</svg>\n",
              "  </button>\n",
              "\n",
              "<style>\n",
              "  .colab-df-quickchart {\n",
              "      --bg-color: #E8F0FE;\n",
              "      --fill-color: #1967D2;\n",
              "      --hover-bg-color: #E2EBFA;\n",
              "      --hover-fill-color: #174EA6;\n",
              "      --disabled-fill-color: #AAA;\n",
              "      --disabled-bg-color: #DDD;\n",
              "  }\n",
              "\n",
              "  [theme=dark] .colab-df-quickchart {\n",
              "      --bg-color: #3B4455;\n",
              "      --fill-color: #D2E3FC;\n",
              "      --hover-bg-color: #434B5C;\n",
              "      --hover-fill-color: #FFFFFF;\n",
              "      --disabled-bg-color: #3B4455;\n",
              "      --disabled-fill-color: #666;\n",
              "  }\n",
              "\n",
              "  .colab-df-quickchart {\n",
              "    background-color: var(--bg-color);\n",
              "    border: none;\n",
              "    border-radius: 50%;\n",
              "    cursor: pointer;\n",
              "    display: none;\n",
              "    fill: var(--fill-color);\n",
              "    height: 32px;\n",
              "    padding: 0;\n",
              "    width: 32px;\n",
              "  }\n",
              "\n",
              "  .colab-df-quickchart:hover {\n",
              "    background-color: var(--hover-bg-color);\n",
              "    box-shadow: 0 1px 2px rgba(60, 64, 67, 0.3), 0 1px 3px 1px rgba(60, 64, 67, 0.15);\n",
              "    fill: var(--button-hover-fill-color);\n",
              "  }\n",
              "\n",
              "  .colab-df-quickchart-complete:disabled,\n",
              "  .colab-df-quickchart-complete:disabled:hover {\n",
              "    background-color: var(--disabled-bg-color);\n",
              "    fill: var(--disabled-fill-color);\n",
              "    box-shadow: none;\n",
              "  }\n",
              "\n",
              "  .colab-df-spinner {\n",
              "    border: 2px solid var(--fill-color);\n",
              "    border-color: transparent;\n",
              "    border-bottom-color: var(--fill-color);\n",
              "    animation:\n",
              "      spin 1s steps(1) infinite;\n",
              "  }\n",
              "\n",
              "  @keyframes spin {\n",
              "    0% {\n",
              "      border-color: transparent;\n",
              "      border-bottom-color: var(--fill-color);\n",
              "      border-left-color: var(--fill-color);\n",
              "    }\n",
              "    20% {\n",
              "      border-color: transparent;\n",
              "      border-left-color: var(--fill-color);\n",
              "      border-top-color: var(--fill-color);\n",
              "    }\n",
              "    30% {\n",
              "      border-color: transparent;\n",
              "      border-left-color: var(--fill-color);\n",
              "      border-top-color: var(--fill-color);\n",
              "      border-right-color: var(--fill-color);\n",
              "    }\n",
              "    40% {\n",
              "      border-color: transparent;\n",
              "      border-right-color: var(--fill-color);\n",
              "      border-top-color: var(--fill-color);\n",
              "    }\n",
              "    60% {\n",
              "      border-color: transparent;\n",
              "      border-right-color: var(--fill-color);\n",
              "    }\n",
              "    80% {\n",
              "      border-color: transparent;\n",
              "      border-right-color: var(--fill-color);\n",
              "      border-bottom-color: var(--fill-color);\n",
              "    }\n",
              "    90% {\n",
              "      border-color: transparent;\n",
              "      border-bottom-color: var(--fill-color);\n",
              "    }\n",
              "  }\n",
              "</style>\n",
              "\n",
              "  <script>\n",
              "    async function quickchart(key) {\n",
              "      const quickchartButtonEl =\n",
              "        document.querySelector('#' + key + ' button');\n",
              "      quickchartButtonEl.disabled = true;  // To prevent multiple clicks.\n",
              "      quickchartButtonEl.classList.add('colab-df-spinner');\n",
              "      try {\n",
              "        const charts = await google.colab.kernel.invokeFunction(\n",
              "            'suggestCharts', [key], {});\n",
              "      } catch (error) {\n",
              "        console.error('Error during call to suggestCharts:', error);\n",
              "      }\n",
              "      quickchartButtonEl.classList.remove('colab-df-spinner');\n",
              "      quickchartButtonEl.classList.add('colab-df-quickchart-complete');\n",
              "    }\n",
              "    (() => {\n",
              "      let quickchartButtonEl =\n",
              "        document.querySelector('#df-ae6d6864-3a1d-4151-b144-aa101d658d64 button');\n",
              "      quickchartButtonEl.style.display =\n",
              "        google.colab.kernel.accessAllowed ? 'block' : 'none';\n",
              "    })();\n",
              "  </script>\n",
              "</div>\n",
              "    </div>\n",
              "  </div>\n"
            ],
            "text/plain": [
              "       People       Food         Event  Activity Travel Transportation  \\\n",
              "0      friend       food      birthday      ball  beach           lyft   \n",
              "1  friendship        bbq     christmas      boat  place           uber   \n",
              "2        baby       bean         happy       bar     la            cab   \n",
              "3         boy      latte          bday      book  world            bus   \n",
              "4        girl  breakfast       wedding      club  hotel            car   \n",
              "5        help     brunch          xmas      card   trip            gas   \n",
              "6        like     burger       holiday     dance   vega           taxi   \n",
              "7        love    burrito           hbd  football  tahoe           ride   \n",
              "8         mom       cake     halloween       fun    nyc        rental    \n",
              "9        save     cheese  thanksgiving      game     dc          train   \n",
              "\n",
              "       Utility     Cash Illegal/Sarcasm  @dropdown  \n",
              "0         bill     atm        addiction        NaN  \n",
              "1        cable    bank             drug        NaN  \n",
              "2          fee    cash            wangs        NaN  \n",
              "3     electric    money            weed        NaN  \n",
              "4  electricity     buck            anal        NaN  \n",
              "5     internet   wallet              bj        NaN  \n",
              "6         rent   monies         blowjob        NaN  \n",
              "7         wifi      tip            boob        NaN  \n",
              "8      utility   dollar           booty        NaN  \n",
              "9          tax  payback            blow        NaN  "
            ]
          },
          "execution_count": 13,
          "metadata": {},
          "output_type": "execute_result"
        }
      ],
      "source": [
        "word_dict.head(10)"
      ]
    },
    {
      "cell_type": "code",
      "execution_count": null,
      "metadata": {
        "colab": {
          "base_uri": "https://localhost:8080/"
        },
        "id": "ybXA6xxgnie7",
        "outputId": "8261addb-89c4-4642-a834-5127eebf7d1c"
      },
      "outputs": [
        {
          "name": "stdout",
          "output_type": "stream",
          "text": [
            "+-------+-------+----------------+-------------------+---------------+-----------+--------------------+\n",
            "|  user1|  user2|transaction_type|           datetime|    description|is_business|            story_id|\n",
            "+-------+-------+----------------+-------------------+---------------+-----------+--------------------+\n",
            "|1218774|1528945|         payment|2015-11-27 10:48:19|           Uber|      false|5657c473cd03c9af2...|\n",
            "|5109483|4782303|         payment|2015-06-17 11:37:04|         Costco|      false|5580f9702b64f70ab...|\n",
            "|4322148|3392963|         payment|2015-06-19 07:05:31|   Sweaty balls|      false|55835ccb1a624b14a...|\n",
            "| 469894|1333620|          charge|2016-06-03 23:34:13|             🎥|      false|5751b185cd03c9af2...|\n",
            "|2960727|3442373|         payment|2016-05-29 23:23:42|              ⚡|      false|574b178ecd03c9af2...|\n",
            "|3977544|2709470|         payment|2016-09-29 22:12:07|     Chipotlaid|      false|57ed2f4723e064eac...|\n",
            "|3766386|4209061|         payment|2016-05-20 10:31:15|kitchen counter|      false|573e8503cd03c9af2...|\n",
            "| 730075| 804466|         payment|2016-05-26 04:46:45|           Food|      false|57461d46cd03c9af2...|\n",
            "|5221751|4993533|         payment|2016-07-14 22:53:49|          Zaxby|      false|5787b58d23e064eac...|\n",
            "|6843582|7308338|         payment|2016-08-31 10:32:46|      Fan sucks|      false|57c64fdf23e064eac...|\n",
            "+-------+-------+----------------+-------------------+---------------+-----------+--------------------+\n",
            "only showing top 10 rows\n",
            "\n"
          ]
        }
      ],
      "source": [
        "venmo_data.show(10)"
      ]
    },
    {
      "cell_type": "code",
      "execution_count": null,
      "metadata": {
        "colab": {
          "base_uri": "https://localhost:8080/"
        },
        "id": "oShNHl54oMUz",
        "outputId": "7691431d-94d7-4173-e1da-da753e4cd294"
      },
      "outputs": [
        {
          "name": "stdout",
          "output_type": "stream",
          "text": [
            "+--------+-------+----------------+-------------------+-----------+-----------+--------------------+\n",
            "|   user1|  user2|transaction_type|           datetime|description|is_business|            story_id|\n",
            "+--------+-------+----------------+-------------------+-----------+-----------+--------------------+\n",
            "|  469894|1333620|          charge|2016-06-03 23:34:13|         🎥|      false|5751b185cd03c9af2...|\n",
            "| 2960727|3442373|         payment|2016-05-29 23:23:42|          ⚡|      false|574b178ecd03c9af2...|\n",
            "| 5317324|3942984|         payment|2016-01-04 09:11:25|         👠|      false|5689c6bdcd03c9af2...|\n",
            "| 4238868|4879587|         payment|2015-10-04 08:28:01|         🍺|      false|561080a1cd03c9af2...|\n",
            "|11719500|8702716|         payment|2016-07-07 21:40:39|          ⛽|      false|577e69e723e064eac...|\n",
            "| 9414481|2869012|         payment|2016-04-09 09:19:46|         🔴|      false|570866c2cd03c9af2...|\n",
            "|  444145| 323088|         payment|2013-11-22 05:03:43|       ✌❤🏈|      false|528e752fd56b6bac5...|\n",
            "|  270958|2086141|         payment|2015-06-07 22:53:49|       👰👰|      false|5574690d5d6cc8135...|\n",
            "| 1243615|1120425|         payment|2015-12-28 03:39:57|     🍕🍕🍕|      false|56803e8dcd03c9af2...|\n",
            "| 2743865|2896157|         payment|2015-06-10 09:30:11|         🍕|      false|5577a133ca81793e3...|\n",
            "+--------+-------+----------------+-------------------+-----------+-----------+--------------------+\n",
            "only showing top 10 rows\n",
            "\n"
          ]
        }
      ],
      "source": [
        "emoji_only_transactions = venmo_data.filter(col(\"description\").rlike(\"^[\\\\p{So}\\\\p{Sc}]+$\"))\n",
        "emoji_only_transactions.show(10)"
      ]
    },
    {
      "cell_type": "code",
      "execution_count": null,
      "metadata": {
        "colab": {
          "base_uri": "https://localhost:8080/"
        },
        "id": "cdRzfQi4pm63",
        "outputId": "f6b6f16d-1e1c-48ec-a113-e7b81decc8c6"
      },
      "outputs": [
        {
          "name": "stdout",
          "output_type": "stream",
          "text": [
            "19.66794678634757% of transactions are emoji-only transactions.\n"
          ]
        }
      ],
      "source": [
        "# Calculate the total number of transactions and emoji-only transactions\n",
        "total_transactions = venmo_data.count()\n",
        "emoji_only_count = emoji_only_transactions.count()\n",
        "\n",
        "# Calculate the percentage of emoji only transactions\n",
        "emoji_only_percentage = (emoji_only_count / total_transactions) * 100\n",
        "\n",
        "print(f'{emoji_only_percentage}% of transactions are emoji-only transactions.')"
      ]
    },
    {
      "cell_type": "code",
      "execution_count": null,
      "metadata": {
        "id": "9vz5aqKqqd1i"
      },
      "outputs": [],
      "source": [
        "import regex\n",
        "\n",
        "# UDF to extract emojis from text\n",
        "def extract_emojis(text):\n",
        "    # Regular expression to match all emojis\n",
        "    emoji_pattern = regex.compile(\"[\\\\p{So}\\\\p{Sc}]\", flags=regex.UNICODE)\n",
        "    # Find all emojis in the text\n",
        "    return emoji_pattern.findall(text)\n",
        "\n",
        "# Register UDF in Spark\n",
        "from pyspark.sql.functions import udf\n",
        "from pyspark.sql.types import ArrayType, StringType\n",
        "\n",
        "extract_emojis_udf = udf(extract_emojis, ArrayType(StringType()))"
      ]
    },
    {
      "cell_type": "code",
      "execution_count": null,
      "metadata": {
        "id": "UCpAHAZxr8ww"
      },
      "outputs": [],
      "source": [
        "venmo_data_with_emojis = venmo_data.withColumn(\"emojis\", extract_emojis_udf(col(\"description\")))\n",
        "\n",
        "# Create a new DataFrame where each emoji is in its own row\n",
        "emoji_exploded = venmo_data_with_emojis.select(explode(col(\"emojis\")).alias(\"emoji\"))\n",
        "\n",
        "# Count each emoji's occurrence and order by count\n",
        "top_emojis = emoji_exploded.groupBy(\"emoji\").agg(count(\"*\").alias(\"count\")).orderBy(col(\"count\").desc())"
      ]
    },
    {
      "cell_type": "code",
      "execution_count": null,
      "metadata": {
        "colab": {
          "base_uri": "https://localhost:8080/"
        },
        "id": "3IuDz3Fksxhx",
        "outputId": "543a44ac-77bf-439a-eaef-ddd91d33a53a"
      },
      "outputs": [
        {
          "name": "stdout",
          "output_type": "stream",
          "text": [
            "+-----+------+\n",
            "|emoji| count|\n",
            "+-----+------+\n",
            "|   🍕|215039|\n",
            "|   🍻|145233|\n",
            "|   💸|124727|\n",
            "|   🍷|111157|\n",
            "|   🎉| 94327|\n",
            "+-----+------+\n",
            "only showing top 5 rows\n",
            "\n"
          ]
        }
      ],
      "source": [
        "# Show the top 5 emojis\n",
        "top_emojis.show(5)"
      ]
    },
    {
      "cell_type": "code",
      "execution_count": null,
      "metadata": {
        "colab": {
          "base_uri": "https://localhost:8080/"
        },
        "id": "nUWfozOlbqc6",
        "outputId": "72dab181-c5e5-4aaa-c691-8c6df9f26dce"
      },
      "outputs": [
        {
          "name": "stdout",
          "output_type": "stream",
          "text": [
            "+--------------+-------+\n",
            "|      Category|  count|\n",
            "+--------------+-------+\n",
            "|          Food|1744390|\n",
            "|other category|1654578|\n",
            "|        People|1011889|\n",
            "+--------------+-------+\n",
            "only showing top 3 rows\n",
            "\n"
          ]
        }
      ],
      "source": [
        "# convert the emoji dict df to long df format\n",
        "emoji_dict_long = emoji_dict.melt(var_name='Category', value_name='emoji').dropna()\n",
        "\n",
        "# convert emoji_dict_long to a spark dataframe\n",
        "emoji_dict_spark = spark.createDataFrame(emoji_dict_long)\n",
        "\n",
        "# left join two tables to get category info for each emoji in transactions\n",
        "emoji_joined = emoji_exploded.join(emoji_dict_spark, \"emoji\", \"left\")\n",
        "emoji_joined = emoji_joined.fillna({'category': 'other category'})\n",
        "\n",
        "top_emojis_category = emoji_joined.groupBy(\"Category\").agg(count(\"*\").alias(\"count\")).orderBy(col(\"count\").desc())\n",
        "top_emojis_category.show(3)"
      ]
    },
    {
      "cell_type": "markdown",
      "metadata": {
        "id": "AxbFZLlv-GdF"
      },
      "source": [
        "#### **For each user, create variables to classify their spending behavior profile into categories. For example, if a user has made 10 transactions, where 5 of them are food and the other 5 are activity, then the user’s spending profile will be 50% food and 50% activity.**"
      ]
    },
    {
      "cell_type": "code",
      "execution_count": null,
      "metadata": {
        "id": "OrXs-vknfLTP"
      },
      "outputs": [],
      "source": [
        "# convert the emoji dict df to long df format\n",
        "word_dict_long = word_dict.melt(var_name='Category', value_name='text').dropna()\n",
        "\n",
        "# convert the emoji dict df to long df format\n",
        "emoji_dict_long = emoji_dict.melt(var_name='Category', value_name='text').dropna()\n",
        "\n",
        "# union word_dict_long and emoji_dict_long\n",
        "combined_dict = pd.concat([word_dict_long, emoji_dict_long], ignore_index=True)\n",
        "\n",
        "# convert combined_dict to spark df\n",
        "combined_dict = spark.createDataFrame(combined_dict)"
      ]
    },
    {
      "cell_type": "code",
      "execution_count": null,
      "metadata": {
        "id": "SaXHEzDY_1dN"
      },
      "outputs": [],
      "source": [
        "from pyspark.sql import SparkSession\n",
        "from pyspark.sql.functions import udf, explode, split, col\n",
        "from pyspark.sql.types import ArrayType, StringType\n",
        "import re\n",
        "\n",
        "# Regex pattern to identify emojis\n",
        "emoji_pattern = r'[\\U00010000-\\U0010ffff]'\n",
        "\n",
        "# UDF to separate words and unique emojis\n",
        "def separate_emojis(text):\n",
        "    # Find all unique emojis\n",
        "    emojis = list(set(re.findall(emoji_pattern, text)))\n",
        "    # Remove emojis from text to split words\n",
        "    words = re.sub(emoji_pattern, '', text).split()\n",
        "    # Combine words and unique emojis\n",
        "    return words + emojis\n",
        "\n",
        "# Register the UDF\n",
        "separate_emojis_udf = udf(separate_emojis, ArrayType(StringType()))\n",
        "\n",
        "# Apply the UDF and explode\n",
        "df_exploded = venmo_data.withColumn(\"description_exploded\", separate_emojis_udf(col(\"description\")))\n",
        "df_exploded = df_exploded.withColumn(\"description_exploded\", explode(\"description_exploded\"))"
      ]
    },
    {
      "cell_type": "code",
      "execution_count": null,
      "metadata": {
        "id": "1Nqj3CQuCDfb"
      },
      "outputs": [],
      "source": [
        "# left join df_exploded and combined_dict, and fillna with \"others\"\n",
        "venmo_data = df_exploded.join(combined_dict, df_exploded.description_exploded == combined_dict.text, \"left\")\n",
        "venmo_data = venmo_data.select(\"user1\", \"user2\", \"datetime\", \"story_id\", \"description_exploded\", \"Category\")\n",
        "venmo_data = venmo_data.na.fill({'Category': \"Other\"})"
      ]
    },
    {
      "cell_type": "code",
      "execution_count": null,
      "metadata": {
        "colab": {
          "base_uri": "https://localhost:8080/"
        },
        "id": "mm9a-jz-FSyi",
        "outputId": "43df0619-b771-4b61-83aa-12c351ad0f59"
      },
      "outputs": [
        {
          "name": "stdout",
          "output_type": "stream",
          "text": [
            "+--------+-------+-------------------+--------------------+--------------------+--------------+\n",
            "|   user1|  user2|           datetime|            story_id|description_exploded|      Category|\n",
            "+--------+-------+-------------------+--------------------+--------------------+--------------+\n",
            "| 1134661|1556430|2015-10-09 01:53:52|5616bbc0cd03c9af2...|                babe|        People|\n",
            "| 3766386|4209061|2016-05-20 10:31:15|573e8503cd03c9af2...|             counter|         Other|\n",
            "|  730075| 804466|2016-05-26 04:46:45|57461d46cd03c9af2...|                Food|         Other|\n",
            "| 5109483|4782303|2015-06-17 11:37:04|5580f9702b64f70ab...|              Costco|         Other|\n",
            "| 3625798|5692302|2016-10-16 14:43:41|58032fad23e064eac...|                 man|        People|\n",
            "| 6843582|7308338|2016-08-31 10:32:46|57c64fdf23e064eac...|               sucks|         Other|\n",
            "| 3625798|5692302|2016-10-16 14:43:41|58032fad23e064eac...|                it's|         Other|\n",
            "| 1134661|1556430|2015-10-09 01:53:52|5616bbc0cd03c9af2...|              Thanks|         Other|\n",
            "| 3766386|4209061|2016-05-20 10:31:15|573e8503cd03c9af2...|             kitchen|       Utility|\n",
            "| 3766386|4209061|2016-05-20 10:31:15|573e8503cd03c9af2...|             kitchen|          Food|\n",
            "| 4238868|4879587|2015-10-04 08:28:01|561080a1cd03c9af2...|                  🍺|          Food|\n",
            "|11719500|8702716|2016-07-07 21:40:39|577e69e723e064eac...|                   ⛽|Transportation|\n",
            "|  469894|1333620|2016-06-03 23:34:13|5751b185cd03c9af2...|                  🎥|         Event|\n",
            "| 3977544|2709470|2016-09-29 22:12:07|57ed2f4723e064eac...|          Chipotlaid|         Other|\n",
            "| 6843582|7308338|2016-08-31 10:32:46|57c64fdf23e064eac...|                 Fan|         Other|\n",
            "| 3625798|5692302|2016-10-16 14:43:41|58032fad23e064eac...|                 Hey|         Other|\n",
            "| 4322148|3392963|2015-06-19 07:05:31|55835ccb1a624b14a...|              Sweaty|         Other|\n",
            "| 1218774|1528945|2015-11-27 10:48:19|5657c473cd03c9af2...|                Uber|         Other|\n",
            "| 5317324|3942984|2016-01-04 09:11:25|5689c6bdcd03c9af2...|                  👠|         Other|\n",
            "| 2960727|3442373|2016-05-29 23:23:42|574b178ecd03c9af2...|                   ⚡|       Utility|\n",
            "+--------+-------+-------------------+--------------------+--------------------+--------------+\n",
            "only showing top 20 rows\n",
            "\n"
          ]
        }
      ],
      "source": [
        "venmo_data.show()"
      ]
    },
    {
      "cell_type": "code",
      "execution_count": null,
      "metadata": {
        "id": "daRrkHcJKxLv"
      },
      "outputs": [],
      "source": [
        "# calculate the spending profile for each user\n",
        "spending_category = venmo_data.groupBy(\"user1\", \"Category\").agg(count(\"*\").alias(\"count\"))\n",
        "spending_total = spending_category.groupBy(\"user1\").agg(sum(\"count\").alias(\"total\"))\n",
        "spending_total = spending_total.withColumnRenamed(\"user1\", \"user_1\")\n",
        "spending_profile = spending_category.join(spending_total, spending_category.user1 == spending_total.user_1, \"inner\")\n"
      ]
    },
    {
      "cell_type": "code",
      "execution_count": null,
      "metadata": {
        "colab": {
          "base_uri": "https://localhost:8080/"
        },
        "id": "__A96DBJN42b",
        "outputId": "eb5a55bd-c862-4c2f-f9da-2d8c17c4c6a9"
      },
      "outputs": [
        {
          "name": "stdout",
          "output_type": "stream",
          "text": [
            "+-----+---------------+------------------------+\n",
            "|user1|       Category|spending_profile_percent|\n",
            "+-----+---------------+------------------------+\n",
            "|    3|           Food|                   1.28%|\n",
            "|    3|         People|                   1.28%|\n",
            "|    3|          Other|                  97.44%|\n",
            "|    4|Illegal/Sarcasm|                  11.11%|\n",
            "|    4|          Other|                  44.44%|\n",
            "|    4|           Food|                  11.11%|\n",
            "|    4|         Travel|                  11.11%|\n",
            "|    4|       Activity|                  22.22%|\n",
            "|   10|           Food|                  10.34%|\n",
            "|   10|          Other|                  86.21%|\n",
            "|   10| Transportation|                   3.45%|\n",
            "|   12|        Utility|                   1.61%|\n",
            "|   12|          Other|                  95.16%|\n",
            "|   12|           Food|                   1.61%|\n",
            "|   12|       Activity|                   1.61%|\n",
            "|   13|       Activity|                   1.33%|\n",
            "|   13|          Event|                   0.33%|\n",
            "|   13|           Food|                   3.33%|\n",
            "|   13|Illegal/Sarcasm|                   0.33%|\n",
            "|   13|          Other|                  92.00%|\n",
            "+-----+---------------+------------------------+\n",
            "only showing top 20 rows\n",
            "\n"
          ]
        }
      ],
      "source": [
        "spending_profile = spending_profile.withColumn(\"spending_profile\", col(\"count\")*100 / col(\"total\"))\n",
        "spending_profile = spending_profile.withColumn(\"spending_profile_percent\", concat(format_number(\"spending_profile\", 2), lit(\"%\")))\n",
        "spending_profile = spending_profile.select(\"user1\", \"Category\", \"spending_profile_percent\")\n",
        "spending_profile.show()"
      ]
    },
    {
      "cell_type": "markdown",
      "metadata": {
        "id": "F7NnGZmpIB8y"
      },
      "source": [
        "#### ** you got a static spending profile. However, life and social networks are evolving over time. Therefore, let’s explore how a user’s spending profile is evolving over her lifetime in Venmo. First of all, you need to analyze a user’s transactions in monthly intervals, starting from 0 (indicating their first transaction only) up to 12.**"
      ]
    },
    {
      "cell_type": "code",
      "execution_count": null,
      "metadata": {
        "colab": {
          "base_uri": "https://localhost:8080/"
        },
        "id": "NtaRmwM1IG5A",
        "outputId": "8698847c-acad-45fb-ed65-6cbb157481f6"
      },
      "outputs": [
        {
          "name": "stdout",
          "output_type": "stream",
          "text": [
            "+-----+------+----------+--------------------+--------------------+--------+-----------------+--------------+\n",
            "|user1| user2|  datetime|            story_id|description_exploded|Category|first_transaction|month_interval|\n",
            "+-----+------+----------+--------------------+--------------------+--------+-----------------+--------------+\n",
            "|   28|769787|2014-05-22|537d7c4fd546b8434...|             Izakaya|    Food|       2014-05-22|             0|\n",
            "|   34|  5114|2014-07-21|53cd40587d0b0354e...|                Giwa|   Other|       2014-07-21|             0|\n",
            "|   34|  5114|2014-07-21|53cd40587d0b0354e...|               sauce|    Food|       2014-07-21|             0|\n",
            "|   34|934623|2014-09-15|54163a4a7d0b0354e...|                 2nd|   Other|       2014-07-21|             1|\n",
            "|   34|934623|2014-09-15|54163a4a7d0b0354e...|             already|   Other|       2014-07-21|             1|\n",
            "|   34|934623|2014-09-15|54163a4a7d0b0354e...|                (350|   Other|       2014-07-21|             1|\n",
            "|   34|934623|2014-09-15|54163a4a7d0b0354e...|                   -|   Other|       2014-07-21|             1|\n",
            "|   34|934623|2014-09-15|54163a4a7d0b0354e...|               paid)|   Other|       2014-07-21|             1|\n",
            "|   34|934623|2014-09-15|54163a4a7d0b0354e...|               place|  Travel|       2014-07-21|             1|\n",
            "|   34|934623|2014-09-15|54163a4a7d0b0354e...|                  50|   Other|       2014-07-21|             1|\n",
            "|   34| 35940|2014-10-24|544954217d0b0354e...|                   A|   Other|       2014-07-21|             3|\n",
            "|   34| 35940|2014-10-24|544954217d0b0354e...|               bagel|    Food|       2014-07-21|             3|\n",
            "|   34|   907|2016-02-01|56ae5e9bcd03c9af2...|                  🐮|   Other|       2014-07-21|            18|\n",
            "|   34|   907|2016-02-01|56ae5e9bcd03c9af2...|                  🦃|   Event|       2014-07-21|            18|\n",
            "|   34|   907|2016-02-01|56ae5e9bcd03c9af2...|                  🐷|   Other|       2014-07-21|            18|\n",
            "|  126|   725|2012-06-26|4fe9d214c5b30a098...|                 for|   Other|       2012-06-26|             0|\n",
            "|  126|   725|2012-06-26|4fe9d214c5b30a098...|              futbol|Activity|       2012-06-26|             0|\n",
            "|  126|180436|2013-06-08|51b272227de518fa3...|                Boom|   Other|       2012-06-26|            11|\n",
            "|  126|180436|2013-06-08|51b272227de518fa3...|                 box|   Other|       2012-06-26|            11|\n",
            "|  243|     9|2012-06-28|4feb7b01c5b30a098...|            come...!|   Other|       2012-06-28|             0|\n",
            "+-----+------+----------+--------------------+--------------------+--------+-----------------+--------------+\n",
            "only showing top 20 rows\n",
            "\n"
          ]
        }
      ],
      "source": [
        "from pyspark.sql.functions import col, min, months_between, to_date\n",
        "from pyspark.sql.window import Window\n",
        "\n",
        "# Ensure datetime column is of DateType\n",
        "spending_trend = venmo_data.withColumn(\"datetime\", to_date(col(\"datetime\")))\n",
        "\n",
        "# Calculate the month interval from each user's first transaction\n",
        "window_spec = Window.partitionBy(\"user1\").orderBy(\"datetime\")\n",
        "spending_trend = spending_trend.withColumn(\"first_transaction\", min(\"datetime\").over(window_spec))\n",
        "spending_trend = spending_trend.withColumn(\"month_interval\", (months_between(col(\"datetime\"), col(\"first_transaction\"))).cast(\"int\"))\n",
        "\n",
        "spending_trend.show()\n"
      ]
    },
    {
      "cell_type": "code",
      "execution_count": null,
      "metadata": {
        "colab": {
          "base_uri": "https://localhost:8080/"
        },
        "id": "zGZV0ZoqKgmg",
        "outputId": "9dc1fc0d-28cd-4329-c1c7-9889d925c301"
      },
      "outputs": [
        {
          "name": "stdout",
          "output_type": "stream",
          "text": [
            "+--------------+-------------------+--------------------+--------------------+-------------------+--------------------+------------------+-------------------+--------------------+--------------------+-------------------+-------------------+-------------------+-------------------+-------------------+----------------------+------------------+-------------------+---------------------+-------------------+-------------------+\n",
            "|month_interval|       avg_Activity|            avg_Cash|           avg_Event|           avg_Food| avg_Illegal/Sarcasm|         avg_Other|         avg_People|  avg_Transportation|          avg_Travel|        avg_Utility|    stddev_Activity|        stddev_Cash|       stddev_Event|        stddev_Food|stddev_Illegal/Sarcasm|      stddev_Other|      stddev_People|stddev_Transportation|      stddev_Travel|     stddev_Utility|\n",
            "+--------------+-------------------+--------------------+--------------------+-------------------+--------------------+------------------+-------------------+--------------------+--------------------+-------------------+-------------------+-------------------+-------------------+-------------------+----------------------+------------------+-------------------+---------------------+-------------------+-------------------+\n",
            "|            31|0.11373426110006626|0.019715043074884028| 0.02692180251822399|0.29945328031809143| 0.02170311464546057|  2.47473492379059| 0.1358515573227303| 0.06270709078860172|0.026176275679257788|0.12201789264413519| 0.4411185858537954|0.15265789775186048|0.17418768097922144| 0.7294233023716451|    0.1572045224038128| 5.945770826189602|0.48685848660793174|  0.28282085175450755| 0.1842367883320573| 0.4815602011512992|\n",
            "|            53|                0.0|                 0.0|                 0.0|                0.3|                 0.1|              2.45|               0.15|                 0.1|                0.05|               0.25|                0.0|                0.0|                0.0|0.47016234598162726|   0.44721359549995804|2.5021043774769813|0.48936048492959294|  0.30779350562554625|0.22360679774997896| 0.7863975156570492|\n",
            "|            34|0.12295081967213115| 0.01733921815889029|0.027900378310214375| 0.3117906683480454|0.021279949558638083| 2.538776796973518| 0.1385561160151324| 0.06683480453972257|0.033259773013871376|0.12074401008827239|0.46203805870263065|0.15072094652381432|0.18456165308606656|  0.767797201510027|    0.1528164339840415| 5.261960931117122| 0.4570827810936438|   0.3465243845981164|0.21307645255288027| 0.4800136119700713|\n",
            "|            28|0.12011412268188303| 0.01768901569186876|0.029148834997622445| 0.3142177841179268| 0.01844983357108892|2.4693770803613884|0.14022824536376605| 0.05834522111269615|0.029434141702330004| 0.1190679980979553| 0.9281217806730121|0.14323220203825926|0.19248466903204525| 0.8722053973132796|    0.1421360159797145|16.493768651789665|0.45822523904739854|   0.2817554002215108| 0.1992401116916778| 0.4700277032134776|\n",
            "|            27|0.11653358193830814|0.017348303676381176| 0.03145393376839204|0.30821612419439826|0.019699242025049652| 2.452515098698877|0.13890802967046328|0.061610798103035956|  0.0266304568116412|0.11758745085322848| 0.7233430796381835| 0.1477537426422614|0.28710933326857924| 0.8487651583006385|   0.14663170892219768|12.275119627696725| 0.4710922797590883|   0.3077404074309441|0.18425055967998988| 0.4673307243062617|\n",
            "|            26| 0.1088722439075852| 0.01694974856700777|0.026303759186974716|0.29651510356226046|0.020923444807820796| 2.406899461968562|0.14189260470513768| 0.05890213454302493|0.026725744628476985|0.11337342195027605| 0.4658446489046989|0.14081208280506846| 0.1757491838985987| 0.7820559450270594|    0.1528726374043522| 6.321114663315003| 0.4602065862022411|  0.28908125944418844|0.18042560322977558|0.47361394963463493|\n",
            "|            44|0.13226452905811623| 0.01002004008016032| 0.03807615230460922|0.35671342685370744| 0.04408817635270541|2.5130260521042085| 0.1523046092184369| 0.07414829659318638| 0.03807615230460922|0.11422845691382766| 0.4327704277522623|0.09969733111031848|0.21149949018809514| 0.8389429785899526|    0.3201093566915013|3.0696942441116137|  0.487648339493575|  0.43964323119439064|0.22078971580862242| 0.4536531280108624|\n",
            "|            12|0.09973834789158617|0.016293790387588703|   0.027235605830349| 0.2690589774424167| 0.02515428224069351|2.2620881952611898|0.15677322162462173| 0.04896726705694237|0.023416542227743052|0.10000264295059004|0.36950249411231106|0.13693307044991676|0.18772913177525774| 0.8200574961554082|   0.17064721141064668| 4.049921401239493| 0.4934219361894753|  0.26437468597959907| 0.1781817373812235|0.44101298281968254|\n",
            "|            22|0.10953346855983773| 0.01668214820572122| 0.02798051221777786|0.29908437754734507| 0.02223654527876249| 2.350381983279938| 0.1485469469773085| 0.05853917461280355|0.025686716839491194|0.11317320998654054|  0.449731159687183|0.13846276619492343|0.18506823457742028| 0.9040859936391632|   0.17289925469115974| 5.066729859136005| 0.5052892958327375|   0.3345289119985751|0.19375043794147048| 0.4663533216295211|\n",
            "|            47| 0.1261682242990654|0.028037383177570093| 0.03271028037383177|0.29439252336448596|0.014018691588785047| 3.397196261682243|0.19158878504672897|0.056074766355140186|0.018691588785046728| 0.1542056074766355| 0.5016098868742298|0.16546669949837445| 0.1782943185445715| 0.5669011018568939|   0.15256713946112527|13.488864877009506|  0.632250840950824|  0.28521553339016154|0.13575097410763884| 0.5890679155838369|\n",
            "|             1|0.09421675184510979| 0.01568248116807446|0.026840730275033704|0.25929028965748363|0.029297068389023025|2.1802647513576505|0.16117005476301097|0.043665694286824125|0.021124507780308166|0.09243067033276717|0.34342284209041124|0.13329393690769356|0.17570757432928788| 0.8502694472584886|   0.18395383827410303| 3.609929419075003|0.48088199156585726|   0.2586826791365826|0.16938413510461073| 0.4081057679121923|\n",
            "|            52| 0.2222222222222222|                 0.0| 0.07407407407407407|0.14814814814814814|0.037037037037037035| 2.111111111111111| 0.1111111111111111| 0.07407407407407407| 0.07407407407407407|0.07407407407407407| 0.6405126152203485|                0.0| 0.3849001794597505|0.45604518194714877|   0.19245008972987526|1.5525000516123697| 0.4236592728681617|   0.2668802563418119| 0.2668802563418119| 0.2668802563418119|\n",
            "|            13|0.09884354094279936| 0.01835073084360021|0.027085293485749846|0.27958008904956994|0.024070054303939072| 2.252487387113742|0.15486624043383884|  0.0507775168357028|0.023003237492684157|0.10568154036494025| 0.3563993794638033| 0.5121688927108821|0.17924985205232427| 0.8328224143233838|   0.17073651809990684| 3.132981409089989| 0.5918939023908276|   0.2744351396424291|0.17663938944689683|0.44745748559249565|\n",
            "|            16|0.10328932987388209|  0.0167745369182372| 0.02676322717379941|0.27672758722283997|0.023094688221709007|2.2893868978036287|0.15282410971402505|0.051635160950018535| 0.02414963077010806|0.10826941902127943|0.38644774226887507|0.14246030844154775|0.18030523266602133| 0.7981802925281126|    0.1639981623306227| 3.756400707947291| 0.4972561363245495|   0.2686603676595567| 0.1800151158170051|  0.451391250344933|\n",
            "|             6| 0.0965084012105646|0.016232162582058857| 0.02654171867843704|0.26298348495325674| 0.02678868104137293| 2.205167350677575|0.16291882571641536|0.045975411529101146|0.021629412768403185|0.09744236796494032|0.35412837459725405|0.13765999355408545|0.17799907522019642| 0.8412417447854662|   0.17512617022111954|  3.61025725507233| 0.5492956162964033|   0.2720136275631945| 0.1892322786841486|0.42989686170393604|\n",
            "|             3| 0.0936460980792467|0.015941002458230907|0.026265572267822175| 0.2647556351818674|0.029323778175909337|2.1977250947877174|0.16447648014666055| 0.04323986500562477| 0.02206158076746802|0.09801674930211242|0.34590541484490844|0.13697385498794862| 0.1741664532715113| 0.8490383779176758|   0.18523982681307408| 4.061460276574148| 0.5184460249678982|  0.24917110841749043|  0.170439657977332| 0.8469718111243696|\n",
            "|            20|0.10251980699350688|0.015547745279085007|0.027104306904152022| 0.2928754393280515|0.022398284386727824|2.3104336689104663|0.14703341871686423| 0.05300232322630607| 0.02586823136951212|0.11085959373324597|   0.40761098811162| 0.1321014359176605|0.18218373116518416| 0.8741902261743623|   0.15884864405904478|5.0589890217595395| 0.4777713191553317|  0.36554441492400835|0.19881201382044222|0.45319051515421777|\n",
            "|            40|0.13726937269372694|0.015498154981549815| 0.03173431734317343| 0.2959409594095941| 0.01918819188191882|2.4154981549815497|0.13579335793357933| 0.05461254612546126|0.033210332103321034|0.12472324723247233| 0.4679285069865272|0.12356872977767532| 0.1952830471491896| 0.7314054757272102|   0.14760797567815784|2.7846215342801606| 0.4651948196102221|  0.26621515879651664|0.21313156222820792|0.49511779719601134|\n",
            "|            54|0.16666666666666666|                 0.0|                 0.0| 0.3333333333333333|                 0.0|1.1666666666666667|0.16666666666666666|  0.3333333333333333|  0.3333333333333333|                0.0|  0.408248290463863|                0.0|                0.0| 0.5163977794943223|                   0.0| 0.752772652709081|  0.408248290463863|   0.5163977794943222|  0.816496580927726|                0.0|\n",
            "|            48|0.10843373493975904|0.018072289156626505|0.018072289156626505|0.42168674698795183|0.018072289156626505|2.4759036144578315|0.09036144578313253| 0.06626506024096386| 0.03614457831325301| 0.1144578313253012|0.33073098810274826|0.13361598372291825|0.13361598372291825| 1.0573893744296026|   0.13361598372291825|    2.492903399723|0.34504789578166045|  0.27270901727876157|0.18721455088036362|  0.387887059513847|\n",
            "+--------------+-------------------+--------------------+--------------------+-------------------+--------------------+------------------+-------------------+--------------------+--------------------+-------------------+-------------------+-------------------+-------------------+-------------------+----------------------+------------------+-------------------+---------------------+-------------------+-------------------+\n",
            "only showing top 20 rows\n",
            "\n"
          ]
        }
      ],
      "source": [
        "from pyspark.sql.functions import count, avg, stddev\n",
        "\n",
        "# Aggregate spending profile by user and month_interval\n",
        "user_spending_profile = spending_trend.groupBy(\"user1\", \"month_interval\", \"Category\").agg(count(\"*\").alias(\"count\"))\n",
        "\n",
        "# Pivot to get spending profile per user per month\n",
        "user_spending_profile_pivot = user_spending_profile.groupBy(\"user1\", \"month_interval\").pivot(\"Category\").sum(\"count\").fillna(0)\n",
        "\n",
        "# Compute average and standard deviation across all users\n",
        "average_profile = user_spending_profile_pivot.groupBy(\"month_interval\").agg(\n",
        "    *[avg(col(c)).alias(f\"avg_{c}\") for c in user_spending_profile_pivot.columns if c not in [\"user1\", \"month_interval\"]],\n",
        "    *[stddev(col(c)).alias(f\"stddev_{c}\") for c in user_spending_profile_pivot.columns if c not in [\"user1\", \"month_interval\"]]\n",
        ")\n",
        "\n",
        "average_profile.show()\n"
      ]
    },
    {
      "cell_type": "code",
      "execution_count": null,
      "metadata": {
        "id": "cLz2dslSPBKQ"
      },
      "outputs": [],
      "source": [
        "# Filter for the first 12 months\n",
        "average_profile = average_profile.filter(col(\"month_interval\") <= 12)"
      ]
    },
    {
      "cell_type": "code",
      "execution_count": null,
      "metadata": {
        "colab": {
          "base_uri": "https://localhost:8080/",
          "height": 773
        },
        "id": "E6LAqCSvNHLz",
        "outputId": "153f526e-f9c0-4c44-f637-775861c8bbad"
      },
      "outputs": [
        {
          "name": "stderr",
          "output_type": "stream",
          "text": [
            "<ipython-input-27-67f092e32f97>:13: MatplotlibDeprecationWarning: The get_cmap function was deprecated in Matplotlib 3.7 and will be removed two minor releases later. Use ``matplotlib.colormaps[name]`` or ``matplotlib.colormaps.get_cmap(obj)`` instead.\n",
            "  colors = plt.cm.get_cmap('tab10', len(categories))\n"
          ]
        },
        {
          "data": {
            "image/png": "[encoded data removed]",
            "text/plain": [
              "<Figure size 1400x800 with 1 Axes>"
            ]
          },
          "metadata": {},
          "output_type": "display_data"
        }
      ],
      "source": [
        "import matplotlib.pyplot as plt\n",
        "\n",
        "# Convert to Pandas DataFrame for plotting\n",
        "average_profile_pd = average_profile.toPandas()\n",
        "\n",
        "# Plot the average and standard deviation of each category for the first 12 months\n",
        "plt.figure(figsize=(14, 8))\n",
        "\n",
        "# List of categories, excluding 'user1' and 'month_interval'\n",
        "categories = [c[4:] for c in average_profile.columns if c.startswith(\"avg_\")]\n",
        "\n",
        "# Generate plots for each category with different colors\n",
        "colors = plt.cm.get_cmap('tab10', len(categories))\n",
        "for idx, category in enumerate(categories):\n",
        "    plt.errorbar(\n",
        "        average_profile_pd[f\"avg_{category}\"],\n",
        "        average_profile_pd[\"month_interval\"],\n",
        "        yerr=2 * average_profile_pd[f\"stddev_{category}\"],\n",
        "        fmt='-o',\n",
        "        label=category,\n",
        "        color=colors(idx)\n",
        "    )\n",
        "\n",
        "plt.title('Average Spending Profile by Category Over First 12 Months')\n",
        "plt.xlabel('Average Count')\n",
        "plt.ylabel('Month Interval')\n",
        "plt.legend(title='Category')\n",
        "plt.grid(True)\n",
        "plt.show()\n"
      ]
    },
    {
      "cell_type": "markdown",
      "metadata": {
        "id": "9i5R8IUyQ7tj"
      },
      "source": [
        "#### **What do you observe? Does the spending profile of the average customer stabilize after some point in time?**\n",
        "\n",
        "Yes, The spending profile of the average customer stabilize after some point in time. Please note that \"other\" category means that the context we extract is not in either emoji dictionary or word dictionary. I categorized anything else as \"other\"."
      ]
    },
    {
      "cell_type": "markdown",
      "metadata": {
        "id": "d2u6sJQ0Rhr2"
      },
      "source": [
        "# ***Part 2: Social Network Analytics***"
      ]
    },
    {
      "cell_type": "markdown",
      "metadata": {
        "id": "Fb7muE0KRsmR"
      },
      "source": [
        "#### **Write a script to find a user’s friends and friends of friends (Friend definition: A user’s friend is someone who has transacted with the user, either sending money to the user or receiving money from the user). Describe your algorithm and calculate its computational complexity. Can you do it better?**"
      ]
    },
    {
      "cell_type": "markdown",
      "metadata": {
        "id": "Ra38YQiSYxwK"
      },
      "source": [
        "User's Friends:"
      ]
    },
    {
      "cell_type": "code",
      "execution_count": null,
      "metadata": {
        "colab": {
          "base_uri": "https://localhost:8080/"
        },
        "id": "ewT1xJ4JRyi-",
        "outputId": "c9dbc1f4-d6c3-40cf-dc5c-4226af54f231"
      },
      "outputs": [
        {
          "name": "stdout",
          "output_type": "stream",
          "text": [
            "+-----+----------------------------------------------------------------------------------------------------------------------------------------+\n",
            "|user1|friends                                                                                                                                 |\n",
            "+-----+----------------------------------------------------------------------------------------------------------------------------------------+\n",
            "|3    |[52, 1079020, 7854140, 2382556, 1204190]                                                                                                |\n",
            "|4    |[122744, 9271982, 968271, 221578, 187560, 125527]                                                                                       |\n",
            "|10   |[255, 36523, 71056, 3844713, 43]                                                                                                        |\n",
            "|11   |[160300, 6419, 52182, 148622, 118445, 133784, 60183, 146271, 51792, 50225, 183628, 39917, 27351, 29833, 273709, 42, 41798, 57391, 49778]|\n",
            "|12   |[135778, 156, 112, 26675, 326885]                                                                                                       |\n",
            "|13   |[212813, 760161, 160206, 128281, 1941801, 10, 11, 64257, 3548, 717721, 149829, 1603, 699146, 1875863, 55280, 4767862]                   |\n",
            "|16   |[1079065, 615398, 1145, 47447, 5434900, 167446, 1457073]                                                                                |\n",
            "|19   |[54533, 54851, 54858, 85471]                                                                                                            |\n",
            "|28   |[769787]                                                                                                                                |\n",
            "|34   |[934623, 5114, 907, 35940]                                                                                                              |\n",
            "|42   |[32, 1176237, 2408357, 1098456, 11]                                                                                                     |\n",
            "|43   |[49778, 3565, 96, 20639, 2, 3, 1491816, 297967, 316862, 10, 629, 19, 183628, 47104, 55895, 82697, 307603, 20530]                        |\n",
            "|47   |[858, 351854]                                                                                                                           |\n",
            "|52   |[225]                                                                                                                                   |\n",
            "|56   |[932573, 978409, 84675, 53860]                                                                                                          |\n",
            "|112  |[12, 221813, 341]                                                                                                                       |\n",
            "|126  |[180436, 725]                                                                                                                           |\n",
            "|129  |[243198]                                                                                                                                |\n",
            "|156  |[1936141]                                                                                                                               |\n",
            "|159  |[85310]                                                                                                                                 |\n",
            "+-----+----------------------------------------------------------------------------------------------------------------------------------------+\n",
            "only showing top 20 rows\n",
            "\n"
          ]
        }
      ],
      "source": [
        "# Group by user1 and collect all user2 into a list\n",
        "friends_list_df = venmo_data.groupBy(\"user1\").agg(collect_set(\"user2\").alias(\"friends\"))\n",
        "\n",
        "# Show the results: User' friend\n",
        "friends_list_df.show(truncate=False)"
      ]
    },
    {
      "cell_type": "markdown",
      "metadata": {
        "id": "mXnFgla-Yz_Y"
      },
      "source": [
        "Friends' friends:"
      ]
    },
    {
      "cell_type": "code",
      "execution_count": null,
      "metadata": {
        "colab": {
          "base_uri": "https://localhost:8080/"
        },
        "id": "4GB5_C7wYqAB",
        "outputId": "07e8fada-2d7a-4ebd-b9d4-120dd8f57b2e"
      },
      "outputs": [
        {
          "name": "stdout",
          "output_type": "stream",
          "text": [
            "+-----+----------------------------------------------------------------------------+\n",
            "|user2|friend_friend                                                               |\n",
            "+-----+----------------------------------------------------------------------------+\n",
            "|3    |[263437, 43, 567957]                                                        |\n",
            "|4    |[125755, 125527]                                                            |\n",
            "|6    |[4330489, 688883, 676003]                                                   |\n",
            "|8    |[900433, 659067]                                                            |\n",
            "|9    |[185494, 367955, 243, 755956]                                               |\n",
            "|10   |[13, 133032, 3844713, 43]                                                   |\n",
            "|11   |[149919, 160300, 119906, 13, 862680, 275, 42, 179458, 146274, 171286, 54724]|\n",
            "|12   |[221813, 746556, 1742822, 112, 295034, 26675]                               |\n",
            "|13   |[126820, 58471, 1941801]                                                    |\n",
            "|16   |[433753, 1204210, 60834, 1079065, 747, 35181, 1365163]                      |\n",
            "|19   |[54866, 43, 52568]                                                          |\n",
            "|24   |[1209436, 704870]                                                           |\n",
            "|28   |[582796]                                                                    |\n",
            "|29   |[332, 298724, 231463]                                                       |\n",
            "|31   |[192]                                                                       |\n",
            "|32   |[42]                                                                        |\n",
            "|34   |[2048982, 907]                                                              |\n",
            "|42   |[225248, 1847419, 28332, 11]                                                |\n",
            "|43   |[47104, 10, 276439, 72106]                                                  |\n",
            "|47   |[6918132]                                                                   |\n",
            "+-----+----------------------------------------------------------------------------+\n",
            "only showing top 20 rows\n",
            "\n"
          ]
        }
      ],
      "source": [
        "# Group by user1 and collect all user2 into a list\n",
        "friend_friend = venmo_data.groupBy(\"user2\").agg(collect_set(\"user1\").alias(\"friend_friend\"))\n",
        "\n",
        "# Show the results\n",
        "friend_friend.show(truncate=False)"
      ]
    },
    {
      "cell_type": "markdown",
      "metadata": {
        "id": "jWt8F5cobO0E"
      },
      "source": [
        "Algorithm:\n",
        "- I groupby all user1 and concate all unique users2(their friends) into a list by using agg(collect_set()) along with groupby. I used the same algorithm for finding friends of friend.\n",
        "\n",
        "Computational complexity:\n",
        "- This algorithm is not computational complex especially when we are dealing this problem using pyspark, a great tool for working with big data.\n",
        "\n",
        "Potential improvement:\n",
        "- We can increase the data processing efficiency by caching the dataset into memory."
      ]
    },
    {
      "cell_type": "markdown",
      "metadata": {
        "id": "JH69-WNWcUrQ"
      },
      "source": [
        "#### **Now, that you have the list of each user’s friends and friends of friends, you are in position to calculate many social network variables. Use the dynamic analysis from before, and calculate the following social network metrics across a user’s lifetime in Venmo (from 0 up to 12 months).**"
      ]
    },
    {
      "cell_type": "markdown",
      "metadata": {
        "id": "sXdj6QbdcdA6"
      },
      "source": [
        "\n",
        "#### **1. Number of friends and number of friends of friends \\[very easy, 4 pts\\]**."
      ]
    },
    {
      "cell_type": "code",
      "execution_count": null,
      "metadata": {
        "colab": {
          "base_uri": "https://localhost:8080/"
        },
        "id": "DD9buBrkY8jf",
        "outputId": "ad4dec42-2d9b-478a-82a1-e23be642af9d"
      },
      "outputs": [
        {
          "name": "stdout",
          "output_type": "stream",
          "text": [
            "+-----+--------------------+-------------+\n",
            "|user1|             friends|friends_count|\n",
            "+-----+--------------------+-------------+\n",
            "|    3|[52, 1079020, 785...|            5|\n",
            "|    4|[122744, 9271982,...|            6|\n",
            "|   10|[255, 36523, 7105...|            5|\n",
            "|   11|[160300, 6419, 52...|           19|\n",
            "|   12|[135778, 156, 112...|            5|\n",
            "|   13|[212813, 760161, ...|           16|\n",
            "|   16|[1079065, 615398,...|            7|\n",
            "|   19|[54533, 54851, 54...|            4|\n",
            "|   28|            [769787]|            1|\n",
            "|   34|[934623, 5114, 90...|            4|\n",
            "|   42|[32, 1176237, 240...|            5|\n",
            "|   43|[49778, 3565, 96,...|           18|\n",
            "|   47|       [858, 351854]|            2|\n",
            "|   52|               [225]|            1|\n",
            "|   56|[932573, 978409, ...|            4|\n",
            "|  112|   [12, 221813, 341]|            3|\n",
            "|  126|       [180436, 725]|            2|\n",
            "|  129|            [243198]|            1|\n",
            "|  156|           [1936141]|            1|\n",
            "|  159|             [85310]|            1|\n",
            "+-----+--------------------+-------------+\n",
            "only showing top 20 rows\n",
            "\n"
          ]
        }
      ],
      "source": [
        "# friend count\n",
        "friends_list_df = friends_list_df.withColumn(\"friends_count\", size(friends_list_df[\"friends\"]))\n",
        "friends_list_df.show()"
      ]
    },
    {
      "cell_type": "code",
      "execution_count": null,
      "metadata": {
        "colab": {
          "base_uri": "https://localhost:8080/"
        },
        "id": "v2aRzVvQdYDR",
        "outputId": "ec8ba765-f52c-4847-c2d8-c28966e48642"
      },
      "outputs": [
        {
          "name": "stdout",
          "output_type": "stream",
          "text": [
            "+-----+--------------------+-------------+\n",
            "|user2|       friend_friend|friends_count|\n",
            "+-----+--------------------+-------------+\n",
            "|    3|[263437, 43, 567957]|            3|\n",
            "|    4|    [125755, 125527]|            2|\n",
            "|    6|[4330489, 688883,...|            3|\n",
            "|    8|    [900433, 659067]|            2|\n",
            "|    9|[185494, 367955, ...|            4|\n",
            "|   10|[13, 133032, 3844...|            4|\n",
            "|   11|[149919, 160300, ...|           11|\n",
            "|   12|[221813, 746556, ...|            6|\n",
            "|   13|[126820, 58471, 1...|            3|\n",
            "|   16|[433753, 1204210,...|            7|\n",
            "|   19|  [54866, 43, 52568]|            3|\n",
            "|   24|   [1209436, 704870]|            2|\n",
            "|   28|            [582796]|            1|\n",
            "|   29|[332, 298724, 231...|            3|\n",
            "|   31|               [192]|            1|\n",
            "|   32|                [42]|            1|\n",
            "|   34|      [2048982, 907]|            2|\n",
            "|   42|[225248, 1847419,...|            4|\n",
            "|   43|[47104, 10, 27643...|            4|\n",
            "|   47|           [6918132]|            1|\n",
            "+-----+--------------------+-------------+\n",
            "only showing top 20 rows\n",
            "\n"
          ]
        }
      ],
      "source": [
        "# friend_friend count\n",
        "friend_friend = friend_friend.withColumn(\"friends_count\", size(friend_friend[\"friend_friend\"]))\n",
        "friend_friend.show()"
      ]
    },
    {
      "cell_type": "markdown",
      "metadata": {
        "id": "Y0sHJMAnfA1B"
      },
      "source": [
        "**2. Clustering coefficient of a user's network . (Hint: the easiest way to calculate this is to program it yourselves. Alternatively, you can use “NetworKit” or “networkX” python package. The latter approach will slow down your script significantly).**"
      ]
    },
    {
      "cell_type": "code",
      "execution_count": null,
      "metadata": {
        "colab": {
          "base_uri": "https://localhost:8080/"
        },
        "id": "yWN0PvbpfFH4",
        "outputId": "1807bcea-d139-4bf7-cdd4-44a4bf2f3340"
      },
      "outputs": [
        {
          "name": "stdout",
          "output_type": "stream",
          "text": [
            "Requirement already satisfied: networkx in /usr/local/lib/python3.10/dist-packages (3.3)\n"
          ]
        }
      ],
      "source": [
        "! pip install networkx"
      ]
    },
    {
      "cell_type": "code",
      "execution_count": null,
      "metadata": {
        "id": "_BG1Tl-JfKRC"
      },
      "outputs": [],
      "source": [
        "import networkx as nx\n",
        "\n",
        "friends_list_df  = friends_list_df.select(\"user1\", \"friends\")\n",
        "friends_list_df = friends_list_df.toPandas()\n",
        "\n",
        "# Create an empty graph\n",
        "G = nx.Graph()\n",
        "\n",
        "# Add edges to the graph\n",
        "for index, row in friends_list_df.iterrows():\n",
        "    user = row['user1']\n",
        "    friends = row['friends']\n",
        "    for friend in friends:\n",
        "        G.add_edge(user, friend)\n",
        "\n",
        "# Calculate the clustering coefficient for each node\n",
        "clustering_coefficients = nx.clustering(G)\n",
        "\n",
        "# Calculate the average clustering coefficient for the graph\n",
        "average_clustering = nx.average_clustering(G)\n",
        "\n",
        "print(\"Clustering Coefficients:\", clustering_coefficients)\n",
        "print(\"Average Clustering Coefficient:\", average_clustering)\n"
      ]
    },
    {
      "cell_type": "markdown",
      "metadata": {
        "id": "uUTxVXY5ktUp"
      },
      "source": [
        "**3. Calculate the page rank of each user. (Hint: First of all, you need to use GraphFrames to do this. Moreover, notice that page rank is a global social network metric. If you go ahead and calculate the page rank for each user at each of her lifetime points, you will soon realize it will be a dead end. Can you think of a smart way to do this?)**"
      ]
    },
    {
      "cell_type": "code",
      "execution_count": null,
      "metadata": {
        "colab": {
          "base_uri": "https://localhost:8080/"
        },
        "id": "k9TN4km8fno5",
        "outputId": "df8a6bcb-f614-4e3a-e560-02719fba9678"
      },
      "outputs": [
        {
          "name": "stdout",
          "output_type": "stream",
          "text": [
            "Collecting graphframes\n",
            "  Downloading graphframes-0.6-py2.py3-none-any.whl (18 kB)\n",
            "Requirement already satisfied: numpy in /usr/local/lib/python3.10/dist-packages (from graphframes) (1.25.2)\n",
            "Collecting nose (from graphframes)\n",
            "  Downloading nose-1.3.7-py3-none-any.whl (154 kB)\n",
            "\u001b[2K     \u001b[90m━━━━━━━━━━━━━━━━━━━━━━━━━━━━━━━━━━━━━━━━\u001b[0m \u001b[32m154.7/154.7 kB\u001b[0m \u001b[31m4.7 MB/s\u001b[0m eta \u001b[36m0:00:00\u001b[0m\n",
            "\u001b[?25hInstalling collected packages: nose, graphframes\n",
            "Successfully installed graphframes-0.6 nose-1.3.7\n"
          ]
        }
      ],
      "source": [
        "!pip install graphframes"
      ]
    },
    {
      "cell_type": "code",
      "execution_count": null,
      "metadata": {
        "id": "baJUAJqOkwJr"
      },
      "outputs": [],
      "source": [
        "# convert friends_list_df back to spark df\n",
        "friends_list_df = spark.createDataFrame(friends_list_df)\n",
        "\n",
        "edges = friends_list_df.withColumn(\"friend\", explode(\"friends\")).selectExpr(\"user1 as src\", \"friend as dst\")\n",
        "vertices = friends_list_df.selectExpr(\"user1 as id\").distinct()\n",
        "\n",
        "\n",
        "from graphframes import GraphFrame\n",
        "\n",
        "g = GraphFrame(vertices, edges)\n",
        "\n",
        "# Run PageRank algorithm\n",
        "pageRanks = g.pageRank(resetProbability=0.15, tol=0.01, maxIter=10)\n",
        "\n",
        "# Show the results\n",
        "pageRanks.vertices.select(\"id\", \"pagerank\").show()"
      ]
    },
    {
      "cell_type": "markdown",
      "metadata": {
        "id": "krfPVtpmKpmz"
      },
      "source": [
        "# ***Part 3 Predictive Analytics with MLlib***"
      ]
    },
    {
      "cell_type": "code",
      "execution_count": null,
      "metadata": {
        "colab": {
          "base_uri": "https://localhost:8080/"
        },
        "id": "JLpCNXWdKwlQ",
        "outputId": "e07b6e5f-0fc9-4fff-d3e0-1aef9be11313"
      },
      "outputs": [
        {
          "name": "stdout",
          "output_type": "stream",
          "text": [
            "Collecting pyspark==3.4.1\n",
            "  Downloading pyspark-3.4.1.tar.gz (310.8 MB)\n",
            "\u001b[2K     \u001b[90m━━━━━━━━━━━━━━━━━━━━━━━━━━━━━━━━━━━━━━━━\u001b[0m \u001b[32m310.8/310.8 MB\u001b[0m \u001b[31m2.8 MB/s\u001b[0m eta \u001b[36m0:00:00\u001b[0m\n",
            "\u001b[?25h  Preparing metadata (setup.py) ... \u001b[?25l\u001b[?25hdone\n",
            "Requirement already satisfied: py4j==0.10.9.7 in /usr/local/lib/python3.10/dist-packages (from pyspark==3.4.1) (0.10.9.7)\n",
            "Building wheels for collected packages: pyspark\n",
            "  Building wheel for pyspark (setup.py) ... \u001b[?25l\u001b[?25hdone\n",
            "  Created wheel for pyspark: filename=pyspark-3.4.1-py2.py3-none-any.whl size=311285388 sha256=f7242083ec6867c3ff6d7cd054aace9108866edfe8146ebfa9059e460a23e367\n",
            "  Stored in directory: /root/.cache/pip/wheels/0d/77/a3/ff2f74cc9ab41f8f594dabf0579c2a7c6de920d584206e0834\n",
            "Successfully built pyspark\n",
            "Installing collected packages: pyspark\n",
            "Successfully installed pyspark-3.4.1\n"
          ]
        }
      ],
      "source": [
        "#Install and import pyspark and java\n",
        "#!apt-get install openjdk-8-jdk-headless -qq > /dev/null #Install java\n",
        "#!wget -q https://archive.apache.org/dist/spark/spark-3.4.1/spark-3.4.1-bin-hadoop3.tgz ## Install Apache Spark\n",
        "#!tar xf spark-3.4.1-bin-hadoop3.tgz\n",
        "#!pip install -q findspark\n",
        "#!pip install pyspark==3.4.1"
      ]
    },
    {
      "cell_type": "code",
      "execution_count": null,
      "metadata": {
        "id": "Mhjt0fm0LK4x"
      },
      "outputs": [],
      "source": [
        "#import os\n",
        "#from pyspark.sql import SparkSession\n",
        "#from pyspark.sql.functions import collect_list, collect_set, concat, first, array_distinct, col, size, expr\n",
        "#import pyspark\n",
        "# Define Java and Spark home path in Google Colab\n",
        "#os.environ[\"JAVA_HOME\"] = \"/usr/lib/jvm/java-8-openjdk-amd64\"\n",
        "#os.environ[\"SPARK_HOME\"] = \"/content/spark-3.4.1-bin-hadoop3\""
      ]
    },
    {
      "cell_type": "code",
      "execution_count": null,
      "metadata": {
        "id": "-3kCyfxYLNaW"
      },
      "outputs": [],
      "source": [
        "#import findspark\n",
        "#findspark.init() #adds pyspark to the system path"
      ]
    },
    {
      "cell_type": "code",
      "execution_count": null,
      "metadata": {
        "colab": {
          "base_uri": "https://localhost:8080/",
          "height": 219
        },
        "id": "KH0JCgcLLRxR",
        "outputId": "34c1db5c-d291-4232-9266-8b6e90f9da85"
      },
      "outputs": [
        {
          "data": {
            "text/html": [
              "\n",
              "            <div>\n",
              "                <p><b>SparkSession - in-memory</b></p>\n",
              "                \n",
              "        <div>\n",
              "            <p><b>SparkContext</b></p>\n",
              "\n",
              "            <p><a href=\"http://9f4c5e09238e:4040\">Spark UI</a></p>\n",
              "\n",
              "            <dl>\n",
              "              <dt>Version</dt>\n",
              "                <dd><code>v3.4.1</code></dd>\n",
              "              <dt>Master</dt>\n",
              "                <dd><code>local[*]</code></dd>\n",
              "              <dt>AppName</dt>\n",
              "                <dd><code>venmo-analysis</code></dd>\n",
              "            </dl>\n",
              "        </div>\n",
              "        \n",
              "            </div>\n",
              "        "
            ],
            "text/plain": [
              "<pyspark.sql.session.SparkSession at 0x7acbc813f7f0>"
            ]
          },
          "execution_count": 4,
          "metadata": {},
          "output_type": "execute_result"
        }
      ],
      "source": [
        "# Initialize a SparkSession\n",
        "#spark = SparkSession.builder \\\n",
        "#    .appName(\"venmo-analysis\") \\\n",
        "#    .getOrCreate()\n",
        "\n",
        "#spark"
      ]
    },
    {
      "cell_type": "code",
      "execution_count": null,
      "metadata": {
        "colab": {
          "base_uri": "https://localhost:8080/"
        },
        "id": "05rIZTw6LpT_",
        "outputId": "13673b92-cf0a-4f7c-e23b-e0751f986771"
      },
      "outputs": [
        {
          "name": "stdout",
          "output_type": "stream",
          "text": [
            "Mounted at /content/drive/\n"
          ]
        }
      ],
      "source": [
        "#upload file from google drive\n",
        "from google.colab import drive\n",
        "drive.mount('/content/drive/')"
      ]
    },
    {
      "cell_type": "code",
      "execution_count": null,
      "metadata": {
        "id": "IC3VfJ0tMmsO"
      },
      "outputs": [],
      "source": [
        "df = spark.read.parquet(\"/content/drive/MyDrive/VenmoSample.snappy.parquet\")\n",
        "#df.show(5)"
      ]
    },
    {
      "cell_type": "markdown",
      "metadata": {
        "id": "YnQiZFzFN0Ez"
      },
      "source": [
        "# First, create your dependent variable Y, i.e. the total number of transactions at lifetime point 12. In other words, for every user, you need to count how many transactions s/he had committed during her/his twelve months in Venmo."
      ]
    },
    {
      "cell_type": "code",
      "execution_count": null,
      "metadata": {
        "colab": {
          "base_uri": "https://localhost:8080/"
        },
        "id": "CI3WcJ8RN7CO",
        "outputId": "ffdd5446-d866-47d1-e63d-2a422af5bfba"
      },
      "outputs": [
        {
          "name": "stdout",
          "output_type": "stream",
          "text": [
            "+-------+-------+----------------+-------------------+------------+-----------+--------------------+----+-----+\n",
            "|  user1|  user2|transaction_type|           datetime| description|is_business|            story_id|year|month|\n",
            "+-------+-------+----------------+-------------------+------------+-----------+--------------------+----+-----+\n",
            "|1218774|1528945|         payment|2015-11-27 10:48:19|        Uber|      false|5657c473cd03c9af2...|2015|   11|\n",
            "|5109483|4782303|         payment|2015-06-17 11:37:04|      Costco|      false|5580f9702b64f70ab...|2015|    6|\n",
            "|4322148|3392963|         payment|2015-06-19 07:05:31|Sweaty balls|      false|55835ccb1a624b14a...|2015|    6|\n",
            "| 469894|1333620|          charge|2016-06-03 23:34:13|          🎥|      false|5751b185cd03c9af2...|2016|    6|\n",
            "|2960727|3442373|         payment|2016-05-29 23:23:42|           ⚡|      false|574b178ecd03c9af2...|2016|    5|\n",
            "+-------+-------+----------------+-------------------+------------+-----------+--------------------+----+-----+\n",
            "only showing top 5 rows\n",
            "\n"
          ]
        }
      ],
      "source": [
        "from pyspark.sql.functions import year, month, col\n",
        "#calculate the months of user\n",
        "df = df.withColumn(\"year\", year(col(\"datetime\")))\n",
        "df = df.withColumn(\"month\", month(col(\"datetime\")))\n",
        "df.show(5)"
      ]
    },
    {
      "cell_type": "code",
      "execution_count": null,
      "metadata": {
        "colab": {
          "base_uri": "https://localhost:8080/"
        },
        "id": "IfQAmj5jOQx7",
        "outputId": "6a960c2f-22ed-46f5-f14a-c3fcee576926"
      },
      "outputs": [
        {
          "name": "stdout",
          "output_type": "stream",
          "text": [
            "+-------+----------+-----------+\n",
            "|  user1|start_year|start_month|\n",
            "+-------+----------+-----------+\n",
            "|3891364|      2016|          1|\n",
            "|4136881|      2015|          6|\n",
            "|1841732|      2014|          2|\n",
            "|2281658|      2014|          8|\n",
            "| 204908|      2013|          2|\n",
            "+-------+----------+-----------+\n",
            "only showing top 5 rows\n",
            "\n"
          ]
        }
      ],
      "source": [
        "from pyspark.sql.functions import min\n",
        "#calculate the start month of users\n",
        "user_start_month = df.groupBy(\"user1\").agg(min(\"year\").alias(\"start_year\"), min(\"month\").alias(\"start_month\"))\n",
        "user_start_month.show(5)"
      ]
    },
    {
      "cell_type": "code",
      "execution_count": null,
      "metadata": {
        "colab": {
          "base_uri": "https://localhost:8080/"
        },
        "id": "0gkgX6F7Oh_i",
        "outputId": "4648ca09-e12e-4314-df93-d64dcc93267a"
      },
      "outputs": [
        {
          "name": "stdout",
          "output_type": "stream",
          "text": [
            "+-----+------+----------------+-------------------+--------------------+-----------+--------------------+----+-----+----------+-----------+------------------+\n",
            "|user1| user2|transaction_type|           datetime|         description|is_business|            story_id|year|month|start_year|start_month|months_since_start|\n",
            "+-----+------+----------------+-------------------+--------------------+-----------+--------------------+----+-----+----------+-----------+------------------+\n",
            "|   28|769787|         payment|2014-05-22 11:25:51|             Izakaya|      false|537d7c4fd546b8434...|2014|    5|      2014|          5|                 0|\n",
            "|   34|934623|         payment|2014-09-15 08:00:57|2nd place (350 - ...|      false|54163a4a7d0b0354e...|2014|    9|      2014|          2|                 7|\n",
            "|   34|  5114|          charge|2014-07-21 23:31:20|          Giwa sauce|      false|53cd40587d0b0354e...|2014|    7|      2014|          2|                 5|\n",
            "|   34| 35940|         payment|2014-10-24 02:16:48|             A bagel|      false|544954217d0b0354e...|2014|   10|      2014|          2|                 8|\n",
            "|  126|180436|          charge|2013-06-08 07:04:18|            Boom box|      false|51b272227de518fa3...|2013|    6|      2012|          6|                12|\n",
            "+-----+------+----------------+-------------------+--------------------+-----------+--------------------+----+-----+----------+-----------+------------------+\n",
            "only showing top 5 rows\n",
            "\n"
          ]
        }
      ],
      "source": [
        "from pyspark.sql.functions import expr\n",
        "df = df.join(user_start_month, on=\"user1\")\n",
        "#insert the start month back and filter the transactions they did within the first 12 month\n",
        "df = df.withColumn(\n",
        "    \"months_since_start\",\n",
        "    (col(\"year\") - col(\"start_year\")) * 12 + (col(\"month\") - col(\"start_month\"))\n",
        ")\n",
        "\n",
        "df_filtered = df.filter(col(\"months_since_start\") <= 12)\n",
        "df_filtered.show(5)"
      ]
    },
    {
      "cell_type": "code",
      "execution_count": null,
      "metadata": {
        "colab": {
          "base_uri": "https://localhost:8080/"
        },
        "id": "o8KmoyUPPXQ9",
        "outputId": "77bbeb59-21f7-4a7a-faf9-286f3b9fccbe"
      },
      "outputs": [
        {
          "name": "stdout",
          "output_type": "stream",
          "text": [
            "+-----+------------------------+\n",
            "|user1|total_transactions_in_12|\n",
            "+-----+------------------------+\n",
            "|   12|                       2|\n",
            "|   13|                       1|\n",
            "|   16|                       2|\n",
            "|   28|                       1|\n",
            "|   34|                       3|\n",
            "+-----+------------------------+\n",
            "only showing top 5 rows\n",
            "\n"
          ]
        }
      ],
      "source": [
        "from pyspark.sql.functions import count\n",
        "\n",
        "user_transactions = df_filtered.groupBy(\"user1\").agg(count(\"story_id\").alias(\"total_transactions_in_12\"))\n",
        "user_transactions.show(5)"
      ]
    },
    {
      "cell_type": "code",
      "execution_count": null,
      "metadata": {
        "colab": {
          "base_uri": "https://localhost:8080/"
        },
        "id": "OTqa6p7YQNaL",
        "outputId": "5c73cdee-d81c-42bb-8594-d890dfc39ad9"
      },
      "outputs": [
        {
          "name": "stdout",
          "output_type": "stream",
          "text": [
            "+-----+------+----------------+-------------------+--------------------+-----------+--------------------+----+-----+----------+-----------+------------------+------------------------+\n",
            "|user1| user2|transaction_type|           datetime|         description|is_business|            story_id|year|month|start_year|start_month|months_since_start|total_transactions_in_12|\n",
            "+-----+------+----------------+-------------------+--------------------+-----------+--------------------+----+-----+----------+-----------+------------------+------------------------+\n",
            "|   28|769787|         payment|2014-05-22 11:25:51|             Izakaya|      false|537d7c4fd546b8434...|2014|    5|      2014|          5|                 0|                       1|\n",
            "|   34|   907|         payment|2016-02-01 03:20:59|              🐮🐷🦃|      false|56ae5e9bcd03c9af2...|2016|    2|      2014|          2|                24|                       3|\n",
            "|   34|934623|         payment|2014-09-15 08:00:57|2nd place (350 - ...|      false|54163a4a7d0b0354e...|2014|    9|      2014|          2|                 7|                       3|\n",
            "|   34|  5114|          charge|2014-07-21 23:31:20|          Giwa sauce|      false|53cd40587d0b0354e...|2014|    7|      2014|          2|                 5|                       3|\n",
            "|   34| 35940|         payment|2014-10-24 02:16:48|             A bagel|      false|544954217d0b0354e...|2014|   10|      2014|          2|                 8|                       3|\n",
            "+-----+------+----------------+-------------------+--------------------+-----------+--------------------+----+-----+----------+-----------+------------------+------------------------+\n",
            "only showing top 5 rows\n",
            "\n"
          ]
        }
      ],
      "source": [
        "df = df.join(user_transactions, on=\"user1\", how=\"left\")\n",
        "df.show(5)\n",
        "#The dependent variable is created."
      ]
    },
    {
      "cell_type": "markdown",
      "metadata": {
        "id": "S1jQ2MK1SlL4"
      },
      "source": [
        "##  Create the recency and frequency variables. In CRM, this predictive framework is known as RFM. Here, you don’t have monetary amounts, so we will focus on just RF. Recency refers to the last time a user was active, and frequency is how often a user uses Venmo in a month. You need to compute these metrics across a user’s lifetime in Venmo (from 0 up to 12)."
      ]
    },
    {
      "cell_type": "code",
      "execution_count": null,
      "metadata": {
        "colab": {
          "base_uri": "https://localhost:8080/"
        },
        "id": "w1C0SKWzTD1Q",
        "outputId": "ec69dd18-7dd7-4846-9568-3cd73fb0b0e5"
      },
      "outputs": [
        {
          "name": "stdout",
          "output_type": "stream",
          "text": [
            "+-----+----+-----+-------+----------------+-------------------+--------------------+-----------+--------------------+----------+-----------+------------------+------------------------+-------------------+---------------+-------+---------+\n",
            "|user1|year|month|  user2|transaction_type|           datetime|         description|is_business|            story_id|start_year|start_month|months_since_start|total_transactions_in_12|   last_active_date|last_active_day|recency|frequency|\n",
            "+-----+----+-----+-------+----------------+-------------------+--------------------+-----------+--------------------+----------+-----------+------------------+------------------------+-------------------+---------------+-------+---------+\n",
            "|    4|2015|    6| 187560|          charge|2015-06-17 09:23:30|             samovar|      false|5580da2211615c78a...|      2012|          2|                40|                       2|2015-06-17 09:23:30|             17|     13|     30.0|\n",
            "|   10|2013|    3|     43|         payment|2013-03-03 12:47:10|                Food|      false|5132d71225ee44b9a...|      2012|          1|                14|                       4|2013-03-11 04:38:51|             11|     19|     15.0|\n",
            "|   10|2016|    1|3844713|         payment|2016-01-30 14:42:13|             Dominos|      false|56ac5b45cd03c9af2...|      2012|          1|                48|                       4|2016-01-30 14:42:13|             30|      0|     30.0|\n",
            "|   11|2012|   11| 160300|         payment|2012-11-18 03:58:43|Shin guards and s...|      false|50a7ecd625ee44b9a...|      2012|          2|                 9|                       6|2012-11-18 03:58:43|             18|     12|     30.0|\n",
            "|   12|2012|   10| 135778|         payment|2012-10-03 06:50:23|For yesterday and...|      false|506b7dbfc5b30a098...|      2012|          2|                 8|                       2|2012-10-03 06:50:23|              3|     27|     30.0|\n",
            "+-----+----+-----+-------+----------------+-------------------+--------------------+-----------+--------------------+----------+-----------+------------------+------------------------+-------------------+---------------+-------+---------+\n",
            "only showing top 5 rows\n",
            "\n"
          ]
        }
      ],
      "source": [
        "from pyspark.sql.functions import max, dayofmonth\n",
        "\n",
        "#Calculate Recency\n",
        "last_active = df.groupBy(\"user1\", \"year\", \"month\").agg(max(\"datetime\").alias(\"last_active_date\"))\n",
        "\n",
        "last_active = last_active.withColumn(\"last_active_day\", dayofmonth(col(\"last_active_date\")))\n",
        "#merge last_active day back to the original DataFrame\n",
        "df = df.join(last_active, on=[\"user1\", \"year\", \"month\"], how=\"left\")\n",
        "#create the recency column\n",
        "df = df.withColumn(\"recency\", 30 - col(\"last_active_day\"))\n",
        "\n",
        "#calculate Frequency\n",
        "#count the number of transactions per user per month\n",
        "monthly_transactions = df.groupBy(\"user1\", \"year\", \"month\").agg(count(\"story_id\").alias(\"monthly_transactions\"))\n",
        "\n",
        "#Calculate frequency as 30 divided by the number of transactions in the month\n",
        "monthly_transactions = monthly_transactions.withColumn(\"frequency\", 30 / col(\"monthly_transactions\"))\n",
        "\n",
        "#Merge frequency back to the original DataFrame\n",
        "df = df.join(monthly_transactions.select(\"user1\", \"year\", \"month\", \"frequency\"), on=[\"user1\", \"year\", \"month\"], how=\"left\")\n",
        "\n",
        "#show the final DataFrame with recency and frequency\n",
        "df.show(5)"
      ]
    },
    {
      "cell_type": "code",
      "execution_count": null,
      "metadata": {
        "colab": {
          "base_uri": "https://localhost:8080/"
        },
        "id": "FjDiRcx0TPm4",
        "outputId": "991d8167-ee3a-43bc-90d2-95383911bc8b"
      },
      "outputs": [
        {
          "name": "stdout",
          "output_type": "stream",
          "text": [
            "+-----+----+-----+-------+--------------------+\n",
            "|user1|year|month|recency|           frequency|\n",
            "+-----+----+-----+-------+--------------------+\n",
            "|    2|2012|   11|      7|30.00000000000000...|\n",
            "|    3|2016|   10|     21|6.000000000000000...|\n",
            "|   10|2013|    1|     16|30.00000000000000...|\n",
            "|   11|2012|    8|      5|15.00000000000000...|\n",
            "|   11|2012|   11|     12|30.00000000000000...|\n",
            "+-----+----+-----+-------+--------------------+\n",
            "only showing top 5 rows\n",
            "\n"
          ]
        }
      ],
      "source": [
        "from pyspark.sql.functions import year, month, col, min, max, dayofmonth, count, expr\n",
        "##The df_filtered was used to calculate the recency and frequency since it only contains 12 month lifetime transaction data.\n",
        "#Calculate the last day a user was active in each month\n",
        "last_active = df_filtered.groupBy(\"user1\", \"year\", \"month\").agg(max(\"datetime\").alias(\"last_active_date\"))\n",
        "\n",
        "#Calculate the day of month for the last active date\n",
        "last_active = last_active.withColumn(\"last_active_day\", dayofmonth(col(\"last_active_date\")))\n",
        "last_active = last_active.withColumn(\"recency\", 30 - col(\"last_active_day\"))\n",
        "\n",
        "#Frequency\n",
        "# Count the number of transactions per user per month\n",
        "monthly_transactions = df_filtered.groupBy(\"user1\", \"year\", \"month\").agg(count(\"story_id\").alias(\"monthly_transactions\"))\n",
        "\n",
        "#30 days divided by the number of transactions in the month\n",
        "monthly_transactions = monthly_transactions.withColumn(\"frequency\", expr(\"30.0 / monthly_transactions\"))\n",
        "\n",
        "#Join the recency and frequency\n",
        "recency_freq_df = last_active.join(\n",
        "    monthly_transactions,\n",
        "    on=[\"user1\", \"year\", \"month\"],\n",
        "    how=\"inner\"\n",
        ").select(\n",
        "    col(\"user1\"),\n",
        "    col(\"year\"),\n",
        "    col(\"month\"),\n",
        "    col(\"recency\"),\n",
        "    col(\"frequency\")\n",
        ")\n",
        "\n",
        "#Show the new DataFrame with recency and frequency\n",
        "recency_freq_df.show(5)"
      ]
    },
    {
      "cell_type": "code",
      "execution_count": null,
      "metadata": {
        "colab": {
          "base_uri": "https://localhost:8080/"
        },
        "id": "wra0R6mvZlHD",
        "outputId": "b48c8833-1aa4-4285-f7ad-b987a205bbab"
      },
      "outputs": [
        {
          "name": "stdout",
          "output_type": "stream",
          "text": [
            "+-----+----+-----+-------+--------------------+------------------------+\n",
            "|user1|year|month|recency|           frequency|total_transactions_in_12|\n",
            "+-----+----+-----+-------+--------------------+------------------------+\n",
            "|   12|2012|   10|     27|30.00000000000000...|                       2|\n",
            "|    3|2016|   10|     21|6.000000000000000...|                       6|\n",
            "|    3|2016|    9|      8|30.00000000000000...|                       6|\n",
            "|    4|2012|   12|     15|15.00000000000000...|                       2|\n",
            "|   10|2013|    1|     16|30.00000000000000...|                       4|\n",
            "+-----+----+-----+-------+--------------------+------------------------+\n",
            "only showing top 5 rows\n",
            "\n"
          ]
        }
      ],
      "source": [
        "#merge the dependent variable Y to the new DataFrame\n",
        "final_df = recency_freq_df.join(user_transactions, on=\"user1\", how=\"left\")\n",
        "\n",
        "#show the final DataFrame\n",
        "final_df.show(5)"
      ]
    },
    {
      "cell_type": "markdown",
      "metadata": {
        "id": "0vAkG9PSab17"
      },
      "source": [
        "##  For each user’s lifetime point, regress recency and frequency on Y. Plot the MSE for each lifetime point. In other words, your x-axis will be lifetime in months (0-12), and your y-axis will be the MSE. (Hint: Don’t forget to split your data into train and *test* sets)."
      ]
    },
    {
      "cell_type": "code",
      "execution_count": null,
      "metadata": {
        "id": "zORmVDA1abPo"
      },
      "outputs": [],
      "source": [
        "#randomly split the data into train and test sets\n",
        "train_data, test_data = final_df.randomSplit([0.8, 0.2], seed=42)"
      ]
    },
    {
      "cell_type": "code",
      "execution_count": null,
      "metadata": {
        "colab": {
          "base_uri": "https://localhost:8080/"
        },
        "id": "nX4j0VgYbNf-",
        "outputId": "f0f5ce43-d14b-456e-ef9f-db7c55c869ad"
      },
      "outputs": [
        {
          "name": "stdout",
          "output_type": "stream",
          "text": [
            "+-----+------------------+\n",
            "|month|               mse|\n",
            "+-----+------------------+\n",
            "|    1| 5.268754428329141|\n",
            "|    2| 4.346885886343512|\n",
            "|    3|4.7480526484746575|\n",
            "|    4| 4.280061398711788|\n",
            "|    5| 4.439666258167967|\n",
            "|    6|5.1631434200356745|\n",
            "|    7| 4.466896916775318|\n",
            "|    8| 4.565165548533343|\n",
            "|    9| 4.536553668791262|\n",
            "|   10| 4.562964625618091|\n",
            "|   11| 4.630017110934751|\n",
            "|   12| 4.514220367886037|\n",
            "+-----+------------------+\n",
            "\n"
          ]
        }
      ],
      "source": [
        "from pyspark.ml.feature import VectorAssembler\n",
        "from pyspark.ml.regression import LinearRegression\n",
        "from pyspark.ml.evaluation import RegressionEvaluator\n",
        "\n",
        "mse_list = []\n",
        "\n",
        "for month in range(1, 13):\n",
        "    # Filter the data for the specific month\n",
        "    train_month_data = train_data.filter(col(\"month\") == month)\n",
        "    test_month_data = test_data.filter(col(\"month\") == month)\n",
        "\n",
        "    # Assemble the features\n",
        "    assembler = VectorAssembler(inputCols=[\"recency\", \"frequency\"], outputCol=\"features\")\n",
        "    train_month_data = assembler.transform(train_month_data)\n",
        "    test_month_data = assembler.transform(test_month_data)\n",
        "\n",
        "    # Train the Linear Regression model\n",
        "    lr = LinearRegression(labelCol=\"total_transactions_in_12\", featuresCol=\"features\")\n",
        "    lr_model = lr.fit(train_month_data)\n",
        "\n",
        "    # Make predictions\n",
        "    predictions = lr_model.transform(test_month_data)\n",
        "\n",
        "    # Calculate MSE\n",
        "    evaluator = RegressionEvaluator(labelCol=\"total_transactions_in_12\", predictionCol=\"prediction\", metricName=\"mse\")\n",
        "    mse = evaluator.evaluate(predictions)\n",
        "\n",
        "    # Append the result to the list\n",
        "    mse_list.append((month, mse))\n",
        "\n",
        "\n",
        "mse_df = spark.createDataFrame(mse_list, [\"month\", \"mse\"])\n",
        "mse_df.show()\n"
      ]
    },
    {
      "cell_type": "code",
      "execution_count": null,
      "metadata": {
        "colab": {
          "base_uri": "https://localhost:8080/",
          "height": 564
        },
        "id": "EmeJd0Dsomy1",
        "outputId": "ee9a7730-7121-4ffd-d47c-be10d6c092ed"
      },
      "outputs": [
        {
          "data": {
            "image/png": "[encoded data removed]",
            "text/plain": [
              "<Figure size 1000x600 with 1 Axes>"
            ]
          },
          "metadata": {},
          "output_type": "display_data"
        }
      ],
      "source": [
        "import matplotlib.pyplot as plt\n",
        "\n",
        "# Collect the MSE data for plotting\n",
        "mse_data = mse_df.collect()\n",
        "months = [row['month'] for row in mse_data]\n",
        "mse_values = [row['mse'] for row in mse_data]\n",
        "\n",
        "# Plot the MSE\n",
        "plt.figure(figsize=(10, 6))\n",
        "plt.plot(months, mse_values, marker='o')\n",
        "plt.xlabel('Lifetime in Months')\n",
        "plt.ylabel('MSE')\n",
        "plt.title('MSE for Each Lifetime Point (0-12 Months)')\n",
        "plt.grid(True)\n",
        "plt.show()"
      ]
    },
    {
      "cell_type": "markdown",
      "metadata": {
        "id": "1WQbm25BMI7K"
      },
      "source": [
        "## For each user’s lifetime point, regress recency, frequency AND her spending behavior profile on Y. Plot the MSE for each lifetime point like above. Did you get any improvement?"
      ]
    },
    {
      "cell_type": "code",
      "execution_count": null,
      "metadata": {
        "id": "yxHW7Pttx9xs"
      },
      "outputs": [],
      "source": [
        "#turn the profile wide\n",
        "spending_profile_wide = spending_profile.groupBy(\"user1\").pivot(\"Category\").agg(first(\"spending_profile_percent\"))\n",
        "spending_profile_wide = spending_profile_wide.na.fill('Other')\n",
        "#spending_profile_wide.show(5)"
      ]
    },
    {
      "cell_type": "code",
      "execution_count": null,
      "metadata": {
        "colab": {
          "base_uri": "https://localhost:8080/"
        },
        "id": "Wo_M_VmxNPDI",
        "outputId": "7e524102-7fdf-433d-d6f1-9418b7eea267"
      },
      "outputs": [
        {
          "name": "stdout",
          "output_type": "stream",
          "text": [
            "+-----+--------+-----+-----+------+---------------+------+------+--------------+------+-------+\n",
            "|user1|Activity| Cash|Event|  Food|Illegal/Sarcasm| Other|People|Transportation|Travel|Utility|\n",
            "+-----+--------+-----+-----+------+---------------+------+------+--------------+------+-------+\n",
            "|    3|   Other|Other|Other| 1.28%|          Other|97.44%| 1.28%|         Other| Other|  Other|\n",
            "|    4|  22.22%|Other|Other|11.11%|         11.11%|44.44%| Other|         Other|11.11%|  Other|\n",
            "|   10|   Other|Other|Other|10.34%|          Other|86.21%| Other|         3.45%| Other|  Other|\n",
            "|   12|   1.61%|Other|Other| 1.61%|          Other|95.16%| Other|         Other| Other|  1.61%|\n",
            "|   13|   1.33%|Other|0.33%| 3.33%|          0.33%|92.00%| 1.33%|         0.67%| Other|  0.67%|\n",
            "+-----+--------+-----+-----+------+---------------+------+------+--------------+------+-------+\n",
            "only showing top 5 rows\n",
            "\n"
          ]
        }
      ],
      "source": [
        "spending_profile_wide.show(5)"
      ]
    },
    {
      "cell_type": "code",
      "execution_count": null,
      "metadata": {
        "colab": {
          "base_uri": "https://localhost:8080/"
        },
        "id": "gxGYL0KGRZhF",
        "outputId": "59fee97e-3f8e-4102-f7be-19d2d84f753a"
      },
      "outputs": [
        {
          "name": "stdout",
          "output_type": "stream",
          "text": [
            "+-----+--------------------+----+------+-------------------+-------------------+-------------------+--------------------+--------------+-------------------+-------+\n",
            "|user1|            Activity|Cash| Event|               Food|    Illegal/Sarcasm|              Other|              People|Transportation|             Travel|Utility|\n",
            "+-----+--------------------+----+------+-------------------+-------------------+-------------------+--------------------+--------------+-------------------+-------+\n",
            "|    3|                 0.0| 0.0|   0.0|             0.0128|                0.0| 0.9743999999999999|              0.0128|           0.0|                0.0|    0.0|\n",
            "|    4| 0.22219999999999998| 0.0|   0.0|0.11109999999999999|0.11109999999999999|0.44439999999999996|                 0.0|           0.0|0.11109999999999999|    0.0|\n",
            "|   10|                 0.0| 0.0|   0.0|0.10339999999999999|                0.0|             0.8621|                 0.0|        0.0345|                0.0|    0.0|\n",
            "|   12|              0.0161| 0.0|   0.0|             0.0161|                0.0|             0.9516|                 0.0|           0.0|                0.0| 0.0161|\n",
            "|   13|0.013300000000000001| 0.0|0.0033|             0.0333|             0.0033|               0.92|0.013300000000000001|        0.0067|                0.0| 0.0067|\n",
            "+-----+--------------------+----+------+-------------------+-------------------+-------------------+--------------------+--------------+-------------------+-------+\n",
            "only showing top 5 rows\n",
            "\n"
          ]
        }
      ],
      "source": [
        "#correct the error made\n",
        "from pyspark.sql import SparkSession\n",
        "from pyspark.sql.functions import col\n",
        "columns_to_replace = [col_name for col_name in spending_profile_wide.columns if col_name != 'user1']\n",
        "for col_name in columns_to_replace:\n",
        "    spending_profile_wide = spending_profile_wide.withColumn(col_name,\n",
        "                            regexp_replace(col(col_name), 'Other', '0'))\n",
        "\n",
        "for col_name in spending_profile_wide.columns:\n",
        "    if col_name != 'user1':\n",
        "        spending_profile_wide = spending_profile_wide.withColumn(col_name,\n",
        "                                regexp_replace(col(col_name), '%', '').cast('double') / 100)\n",
        "\n",
        "spending_profile_wide.show(5)"
      ]
    },
    {
      "cell_type": "code",
      "execution_count": null,
      "metadata": {
        "colab": {
          "base_uri": "https://localhost:8080/"
        },
        "id": "C9kkjZG5fIy0",
        "outputId": "73453e4d-da23-49d4-df9e-91ba46415c9b"
      },
      "outputs": [
        {
          "name": "stdout",
          "output_type": "stream",
          "text": [
            "+-----+----+-----+-------+--------------------+------------------------+-------------------+----+-----+-------------------+-------------------+-------------------+------+--------------+-------------------+-------+\n",
            "|user1|year|month|recency|           frequency|total_transactions_in_12|           Activity|Cash|Event|               Food|    Illegal/Sarcasm|              Other|People|Transportation|             Travel|Utility|\n",
            "+-----+----+-----+-------+--------------------+------------------------+-------------------+----+-----+-------------------+-------------------+-------------------+------+--------------+-------------------+-------+\n",
            "|   12|2012|   10|     27|30.00000000000000...|                       2|             0.0161| 0.0|  0.0|             0.0161|                0.0|             0.9516|   0.0|           0.0|                0.0| 0.0161|\n",
            "|    3|2016|   10|     21|6.000000000000000...|                       6|                0.0| 0.0|  0.0|             0.0128|                0.0| 0.9743999999999999|0.0128|           0.0|                0.0|    0.0|\n",
            "|    3|2016|    9|      8|30.00000000000000...|                       6|                0.0| 0.0|  0.0|             0.0128|                0.0| 0.9743999999999999|0.0128|           0.0|                0.0|    0.0|\n",
            "|    4|2012|   12|     15|15.00000000000000...|                       2|0.22219999999999998| 0.0|  0.0|0.11109999999999999|0.11109999999999999|0.44439999999999996|   0.0|           0.0|0.11109999999999999|    0.0|\n",
            "|   10|2013|    1|     16|30.00000000000000...|                       4|                0.0| 0.0|  0.0|0.10339999999999999|                0.0|             0.8621|   0.0|        0.0345|                0.0|    0.0|\n",
            "+-----+----+-----+-------+--------------------+------------------------+-------------------+----+-----+-------------------+-------------------+-------------------+------+--------------+-------------------+-------+\n",
            "only showing top 5 rows\n",
            "\n"
          ]
        }
      ],
      "source": [
        "#join to final_df\n",
        "final_df = final_df.join(spending_profile_wide, on=\"user1\", how=\"left\")\n",
        "final_df.show(5)"
      ]
    },
    {
      "cell_type": "code",
      "execution_count": null,
      "metadata": {
        "colab": {
          "base_uri": "https://localhost:8080/"
        },
        "id": "cHsmnjl7Y504",
        "outputId": "395071f4-d492-4747-e9bc-67e6780a2fe8"
      },
      "outputs": [
        {
          "name": "stdout",
          "output_type": "stream",
          "text": [
            "+-----+-----------------+\n",
            "|month|              mse|\n",
            "+-----+-----------------+\n",
            "|    1|4.691377076100509|\n",
            "|    2|4.266096191854253|\n",
            "|    3|4.127867741397223|\n",
            "|    4|4.239359665717073|\n",
            "|    5|4.391371017124708|\n",
            "|    6| 4.58569250654283|\n",
            "|    7|4.370997994493748|\n",
            "|    8|4.522946367555028|\n",
            "|    9|4.484742379165759|\n",
            "|   10|4.715078009139362|\n",
            "|   11|4.687348308943295|\n",
            "|   12|4.486845643375508|\n",
            "+-----+-----------------+\n",
            "\n"
          ]
        }
      ],
      "source": [
        "from pyspark.ml.feature import VectorAssembler\n",
        "from pyspark.ml.regression import LinearRegression\n",
        "from pyspark.ml.evaluation import RegressionEvaluator\n",
        "\n",
        "# Cache the data to improve performance\n",
        "train_data, test_data = final_df.randomSplit([0.8, 0.2], seed=42)\n",
        "train_data.cache()\n",
        "test_data.cache()\n",
        "\n",
        "mse_list = []\n",
        "\n",
        "# Prepare the feature columns\n",
        "feature_columns = [\"recency\", \"frequency\"] + spending_profile_wide.columns[1:]\n",
        "\n",
        "# Prepare the assembler once, including recency, frequency, and spending behavior profile features\n",
        "assembler = VectorAssembler(inputCols=feature_columns, outputCol=\"features\", handleInvalid=\"skip\")\n",
        "\n",
        "for month in range(1, 13):\n",
        "    # Filter the data for the specific month\n",
        "    train_month_data = assembler.transform(train_data.filter(col(\"month\") == month))\n",
        "    test_month_data = assembler.transform(test_data.filter(col(\"month\") == month))\n",
        "\n",
        "    # Train the Linear Regression model\n",
        "    lr = LinearRegression(labelCol=\"total_transactions_in_12\", featuresCol=\"features\")\n",
        "    lr_model = lr.fit(train_month_data)\n",
        "\n",
        "    # Make predictions\n",
        "    predictions = lr_model.transform(test_month_data)\n",
        "\n",
        "    # Calculate MSE\n",
        "    evaluator = RegressionEvaluator(labelCol=\"total_transactions_in_12\", predictionCol=\"prediction\", metricName=\"mse\")\n",
        "    mse = evaluator.evaluate(predictions)\n",
        "\n",
        "    # Append the result to the list\n",
        "    mse_list.append((month, mse))\n",
        "\n",
        "mse_df = spark.createDataFrame(mse_list, [\"month\", \"mse\"])\n",
        "mse_df.show()\n"
      ]
    },
    {
      "cell_type": "code",
      "execution_count": null,
      "metadata": {
        "colab": {
          "base_uri": "https://localhost:8080/",
          "height": 564
        },
        "id": "aeev7WvXmrsD",
        "outputId": "19c23b8e-0257-4b49-cc07-877f8f35b79a"
      },
      "outputs": [
        {
          "data": {
            "image/png": "[encoded data removed]",
            "text/plain": [
              "<Figure size 1000x600 with 1 Axes>"
            ]
          },
          "metadata": {},
          "output_type": "display_data"
        }
      ],
      "source": [
        "import matplotlib.pyplot as plt\n",
        "\n",
        "# Collect the MSE data for plotting\n",
        "mse_data = mse_df.collect()\n",
        "months = [row['month'] for row in mse_data]\n",
        "mse_values = [row['mse'] for row in mse_data]\n",
        "\n",
        "# Plot the MSE\n",
        "plt.figure(figsize=(10, 6))\n",
        "plt.plot(months, mse_values, marker='o')\n",
        "plt.xlabel('Lifetime in Months')\n",
        "plt.ylabel('MSE')\n",
        "plt.title('MSE for Each Lifetime Point (0-12 Months)')\n",
        "plt.grid(True)\n",
        "plt.show()"
      ]
    },
    {
      "cell_type": "markdown",
      "metadata": {
        "id": "BPOjFNZE38RR"
      },
      "source": [
        "##  For each user’s lifetime point, regress her social network metrics on Y. Plot the MSE for each lifetime point like above. What do you observe? How do social network metrics compare with the RF framework? What are the most informative predictors?\n"
      ]
    },
    {
      "cell_type": "code",
      "execution_count": null,
      "metadata": {
        "colab": {
          "base_uri": "https://localhost:8080/"
        },
        "id": "uRS6aSyBnqWI",
        "outputId": "24b60d9a-bdd0-4f02-a243-9cc060603340"
      },
      "outputs": [
        {
          "name": "stdout",
          "output_type": "stream",
          "text": [
            "+-----+----+-----+-------+--------------------+------------------------+-------------------+----+-----+-------------------+-------------------+-------------------+------+--------------+-------------------+-------+-------------+\n",
            "|user1|year|month|recency|           frequency|total_transactions_in_12|           Activity|Cash|Event|               Food|    Illegal/Sarcasm|              Other|People|Transportation|             Travel|Utility|friends_count|\n",
            "+-----+----+-----+-------+--------------------+------------------------+-------------------+----+-----+-------------------+-------------------+-------------------+------+--------------+-------------------+-------+-------------+\n",
            "|   12|2012|   10|     27|30.00000000000000...|                       2|             0.0161| 0.0|  0.0|             0.0161|                0.0|             0.9516|   0.0|           0.0|                0.0| 0.0161|            5|\n",
            "|    3|2016|   10|     21|6.000000000000000...|                       6|                0.0| 0.0|  0.0|             0.0128|                0.0| 0.9743999999999999|0.0128|           0.0|                0.0|    0.0|            5|\n",
            "|    3|2016|    9|      8|30.00000000000000...|                       6|                0.0| 0.0|  0.0|             0.0128|                0.0| 0.9743999999999999|0.0128|           0.0|                0.0|    0.0|            5|\n",
            "|    4|2012|   12|     15|15.00000000000000...|                       2|0.22219999999999998| 0.0|  0.0|0.11109999999999999|0.11109999999999999|0.44439999999999996|   0.0|           0.0|0.11109999999999999|    0.0|            6|\n",
            "|   10|2013|    1|     16|30.00000000000000...|                       4|                0.0| 0.0|  0.0|0.10339999999999999|                0.0|             0.8621|   0.0|        0.0345|                0.0|    0.0|            5|\n",
            "+-----+----+-----+-------+--------------------+------------------------+-------------------+----+-----+-------------------+-------------------+-------------------+------+--------------+-------------------+-------+-------------+\n",
            "only showing top 5 rows\n",
            "\n"
          ]
        }
      ],
      "source": [
        "#integrate social network metrics with final_df\n",
        "final_df = final_df.join(friends_list_df.select(\"user1\", \"friends_count\"), on=\"user1\", how=\"left\")\n",
        "final_df.show(5)\n"
      ]
    },
    {
      "cell_type": "code",
      "execution_count": null,
      "metadata": {
        "colab": {
          "base_uri": "https://localhost:8080/"
        },
        "id": "R6tC3T2OrrB7",
        "outputId": "de3ca529-3e85-4cc0-9892-f3f1ab9dc89a"
      },
      "outputs": [
        {
          "name": "stdout",
          "output_type": "stream",
          "text": [
            "+-----+------------------+\n",
            "|month|               mse|\n",
            "+-----+------------------+\n",
            "|    1| 3.390574015205006|\n",
            "|    2|  2.63201664909676|\n",
            "|    3|2.4113257978021587|\n",
            "|    4| 2.331228951028803|\n",
            "|    5| 2.420480391028227|\n",
            "|    6|2.5527479646954676|\n",
            "|    7| 2.489544213152747|\n",
            "|    8|2.6967402382936005|\n",
            "|    9| 2.941918005072581|\n",
            "|   10| 3.457446514354689|\n",
            "|   11|  3.66406159524126|\n",
            "|   12|3.5160632777687044|\n",
            "+-----+------------------+\n",
            "\n"
          ]
        }
      ],
      "source": [
        "from pyspark.ml.feature import VectorAssembler\n",
        "from pyspark.ml.regression import LinearRegression\n",
        "from pyspark.ml.evaluation import RegressionEvaluator\n",
        "\n",
        "# Cache the data to improve performance\n",
        "train_data, test_data = final_df.randomSplit([0.8, 0.2], seed=42)\n",
        "train_data.cache()\n",
        "test_data.cache()\n",
        "\n",
        "mse_list = []\n",
        "\n",
        "#social network metrics as features\n",
        "social_network_columns = [\"friends_count\"]\n",
        "\n",
        "# Prepare the assembler once, including recency, frequency, and social network metrics\n",
        "assembler = VectorAssembler(inputCols=social_network_columns, outputCol=\"features\", handleInvalid=\"skip\")\n",
        "\n",
        "for month in range(1, 13):\n",
        "    # Filter the data for the specific month\n",
        "    train_month_data = assembler.transform(train_data.filter(col(\"month\") == month))\n",
        "    test_month_data = assembler.transform(test_data.filter(col(\"month\") == month))\n",
        "\n",
        "    # Train the Linear Regression model\n",
        "    lr = LinearRegression(labelCol=\"total_transactions_in_12\", featuresCol=\"features\")\n",
        "    lr_model = lr.fit(train_month_data)\n",
        "\n",
        "    # Make predictions\n",
        "    predictions = lr_model.transform(test_month_data)\n",
        "\n",
        "    # Calculate MSE\n",
        "    evaluator = RegressionEvaluator(labelCol=\"total_transactions_in_12\", predictionCol=\"prediction\", metricName=\"mse\")\n",
        "    mse = evaluator.evaluate(predictions)\n",
        "\n",
        "    # Append the result to the list\n",
        "    mse_list.append((month, mse))\n",
        "\n",
        "mse_df = spark.createDataFrame(mse_list, [\"month\", \"mse\"])\n",
        "mse_df.show()"
      ]
    },
    {
      "cell_type": "code",
      "execution_count": null,
      "metadata": {
        "colab": {
          "base_uri": "https://localhost:8080/",
          "height": 564
        },
        "id": "mXkOgUAcxB0l",
        "outputId": "638d0551-9109-40c4-c2cc-524e065321ce"
      },
      "outputs": [
        {
          "data": {
            "image/png": "[encoded data removed]",
            "text/plain": [
              "<Figure size 1000x600 with 1 Axes>"
            ]
          },
          "metadata": {},
          "output_type": "display_data"
        }
      ],
      "source": [
        "import matplotlib.pyplot as plt\n",
        "\n",
        "# Collect the MSE data for plotting\n",
        "mse_data = mse_df.collect()\n",
        "months = [row['month'] for row in mse_data]\n",
        "mse_values = [row['mse'] for row in mse_data]\n",
        "\n",
        "# Plot the MSE\n",
        "plt.figure(figsize=(10, 6))\n",
        "plt.plot(months, mse_values, marker='o')\n",
        "plt.xlabel('Lifetime in Months')\n",
        "plt.ylabel('MSE')\n",
        "plt.title('MSE for Each Lifetime Point (0-12 Months)')\n",
        "plt.grid(True)\n",
        "plt.show()"
      ]
    },
    {
      "cell_type": "markdown",
      "metadata": {
        "id": "ZK-rSLPZ4RcI"
      },
      "source": [
        "##  For each user’s lifetime point, regress her social network metrics and the spending behavior of her social network on Y. Plot the MSE for each lifetime point like above. Does the spending behavior of her social network add any predictive benefit compared to Q10?\n"
      ]
    },
    {
      "cell_type": "code",
      "execution_count": null,
      "metadata": {
        "colab": {
          "base_uri": "https://localhost:8080/"
        },
        "id": "P1sdWUrRyinU",
        "outputId": "17e9a01d-62a7-48b9-a1e4-9382ab59615b"
      },
      "outputs": [
        {
          "name": "stdout",
          "output_type": "stream",
          "text": [
            "+-----+------------------+\n",
            "|month|               mse|\n",
            "+-----+------------------+\n",
            "|    1|3.3842658557101055|\n",
            "|    2|2.6265167628119337|\n",
            "|    3| 2.406447050401278|\n",
            "|    4|2.3267995130257306|\n",
            "|    5|2.4164000765619633|\n",
            "|    6|2.5491906012118144|\n",
            "|    7| 2.486089841265405|\n",
            "|    8|2.6920392165804756|\n",
            "|    9|2.9358793237401737|\n",
            "|   10|3.4517269441431995|\n",
            "|   11|3.6579625954978736|\n",
            "|   12| 3.507733366212548|\n",
            "+-----+------------------+\n",
            "\n"
          ]
        }
      ],
      "source": [
        "from pyspark.ml.feature import VectorAssembler\n",
        "from pyspark.ml.regression import LinearRegression\n",
        "from pyspark.ml.evaluation import RegressionEvaluator\n",
        "\n",
        "feature_columns = final_df.columns[6:]\n",
        "\n",
        "# Cache the data to improve performance\n",
        "train_data, test_data = final_df.randomSplit([0.8, 0.2], seed=42)\n",
        "train_data.cache()\n",
        "test_data.cache()\n",
        "\n",
        "mse_list = []\n",
        "\n",
        "assembler = VectorAssembler(inputCols=feature_columns, outputCol=\"features\", handleInvalid=\"skip\")\n",
        "\n",
        "for month in range(1, 13):\n",
        "    # Filter the data for the specific month\n",
        "    train_month_data = assembler.transform(train_data.filter(col(\"month\") == month))\n",
        "    test_month_data = assembler.transform(test_data.filter(col(\"month\") == month))\n",
        "\n",
        "    # Train the Linear Regression model\n",
        "    lr = LinearRegression(labelCol=\"total_transactions_in_12\", featuresCol=\"features\")\n",
        "    lr_model = lr.fit(train_month_data)\n",
        "\n",
        "    # Make predictions\n",
        "    predictions = lr_model.transform(test_month_data)\n",
        "\n",
        "    # Calculate MSE\n",
        "    evaluator = RegressionEvaluator(labelCol=\"total_transactions_in_12\", predictionCol=\"prediction\", metricName=\"mse\")\n",
        "    mse = evaluator.evaluate(predictions)\n",
        "\n",
        "    # Append the result to the list\n",
        "    mse_list.append((month, mse))\n",
        "\n",
        "mse_df = spark.createDataFrame(mse_list, [\"month\", \"mse\"])\n",
        "mse_df.show()"
      ]
    },
    {
      "cell_type": "code",
      "execution_count": null,
      "metadata": {
        "colab": {
          "base_uri": "https://localhost:8080/",
          "height": 564
        },
        "id": "tgO5C9Zl2KBe",
        "outputId": "dcc11ec6-b798-4e70-b87e-fbefac980982"
      },
      "outputs": [
        {
          "data": {
            "image/png": "[encoded data removed]",
            "text/plain": [
              "<Figure size 1000x600 with 1 Axes>"
            ]
          },
          "metadata": {},
          "output_type": "display_data"
        }
      ],
      "source": [
        "# Collect the MSE data for plotting\n",
        "mse_data = mse_df.collect()\n",
        "months = [row['month'] for row in mse_data]\n",
        "mse_values = [row['mse'] for row in mse_data]\n",
        "\n",
        "# Plot the MSE\n",
        "plt.figure(figsize=(10, 6))\n",
        "plt.plot(months, mse_values, marker='o')\n",
        "plt.xlabel('Lifetime in Months')\n",
        "plt.ylabel('MSE')\n",
        "plt.title('MSE for Each Lifetime Point (0-12 Months)')\n",
        "plt.grid(True)"
      ]
    },
    {
      "cell_type": "markdown",
      "metadata": {
        "id": "jAQzDmSg4ziX"
      },
      "source": [
        "# ***Part4: Graph Neural Network (GNN) Analysis***"
      ]
    },
    {
      "cell_type": "code",
      "execution_count": null,
      "metadata": {
        "colab": {
          "base_uri": "https://localhost:8080/"
        },
        "id": "HjNnQtTMRmG8",
        "outputId": "3d0565dd-f0c2-43a5-834b-9d1f8ee4127b"
      },
      "outputs": [
        {
          "name": "stdout",
          "output_type": "stream",
          "text": [
            "VenmoSample.snappy.parquet\n"
          ]
        }
      ],
      "source": []
    },
    {
      "cell_type": "code",
      "execution_count": null,
      "metadata": {
        "colab": {
          "base_uri": "https://localhost:8080/",
          "height": 206
        },
        "id": "i5QNhh7sRzJE",
        "outputId": "365b6bfe-9ba6-4a18-da99-6aa930c14f9e"
      },
      "outputs": [
        {
          "data": {
            "application/vnd.google.colaboratory.intrinsic+json": {
              "summary": "{\n  \"name\": \"emoji_df\",\n  \"rows\": 385,\n  \"fields\": [\n    {\n      \"column\": \"Event\",\n      \"properties\": {\n        \"dtype\": \"category\",\n        \"num_unique_values\": 32,\n        \"samples\": [\n          \"\\ud83d\\udc70\",\n          \"\\ud83c\\udf93\",\n          \"\\ud83c\\udf31\"\n        ],\n        \"semantic_type\": \"\",\n        \"description\": \"\"\n      }\n    },\n    {\n      \"column\": \"Travel\",\n      \"properties\": {\n        \"dtype\": \"category\",\n        \"num_unique_values\": 64,\n        \"samples\": [\n          \"\\ud83c\\udf91\",\n          \"\\ud83d\\udcb7\",\n          \"\\ud83c\\udfd4\"\n        ],\n        \"semantic_type\": \"\",\n        \"description\": \"\"\n      }\n    },\n    {\n      \"column\": \"Food\",\n      \"properties\": {\n        \"dtype\": \"category\",\n        \"num_unique_values\": 68,\n        \"samples\": [\n          \"\\ud83c\\udf67\",\n          \"\\ud83c\\udf36\",\n          \"\\ud83c\\udf4b\"\n        ],\n        \"semantic_type\": \"\",\n        \"description\": \"\"\n      }\n    },\n    {\n      \"column\": \"Activity\",\n      \"properties\": {\n        \"dtype\": \"category\",\n        \"num_unique_values\": 54,\n        \"samples\": [\n          \"\\ud83c\\udfc9\",\n          \"\\ud83c\\udfbb\",\n          \"\\ud83c\\udfba\"\n        ],\n        \"semantic_type\": \"\",\n        \"description\": \"\"\n      }\n    },\n    {\n      \"column\": \"Transportation\",\n      \"properties\": {\n        \"dtype\": \"category\",\n        \"num_unique_values\": 47,\n        \"samples\": [\n          \"\\u26fd\",\n          \"\\ud83d\\udea2\",\n          \"\\ud83d\\udeb2\"\n        ],\n        \"semantic_type\": \"\",\n        \"description\": \"\"\n      }\n    },\n    {\n      \"column\": \"People\",\n      \"properties\": {\n        \"dtype\": \"string\",\n        \"num_unique_values\": 385,\n        \"samples\": [\n          \"\\ud83e\\udddb\",\n          \"\\ud83e\\uddd5\",\n          \"\\ud83e\\udde3\"\n        ],\n        \"semantic_type\": \"\",\n        \"description\": \"\"\n      }\n    },\n    {\n      \"column\": \"Utility\",\n      \"properties\": {\n        \"dtype\": \"category\",\n        \"num_unique_values\": 14,\n        \"samples\": [\n          \" \\ud83d\\udca7\",\n          \"\\ud83c\\udfe2\",\n          \"\\u26a1\"\n        ],\n        \"semantic_type\": \"\",\n        \"description\": \"\"\n      }\n    }\n  ]\n}",
              "type": "dataframe",
              "variable_name": "emoji_df"
            },
            "text/html": [
              "\n",
              "  <div id=\"df-e6385918-e849-4330-bbd4-08162b5159e4\" class=\"colab-df-container\">\n",
              "    <div>\n",
              "<style scoped>\n",
              "    .dataframe tbody tr th:only-of-type {\n",
              "        vertical-align: middle;\n",
              "    }\n",
              "\n",
              "    .dataframe tbody tr th {\n",
              "        vertical-align: top;\n",
              "    }\n",
              "\n",
              "    .dataframe thead th {\n",
              "        text-align: right;\n",
              "    }\n",
              "</style>\n",
              "<table border=\"1\" class=\"dataframe\">\n",
              "  <thead>\n",
              "    <tr style=\"text-align: right;\">\n",
              "      <th></th>\n",
              "      <th>Event</th>\n",
              "      <th>Travel</th>\n",
              "      <th>Food</th>\n",
              "      <th>Activity</th>\n",
              "      <th>Transportation</th>\n",
              "      <th>People</th>\n",
              "      <th>Utility</th>\n",
              "    </tr>\n",
              "  </thead>\n",
              "  <tbody>\n",
              "    <tr>\n",
              "      <th>0</th>\n",
              "      <td>🇦🇺</td>\n",
              "      <td>🏔</td>\n",
              "      <td>🍇</td>\n",
              "      <td>👾</td>\n",
              "      <td>🚄</td>\n",
              "      <td>😀</td>\n",
              "      <td>⚡</td>\n",
              "    </tr>\n",
              "    <tr>\n",
              "      <th>1</th>\n",
              "      <td>🇫🇷</td>\n",
              "      <td>⛰</td>\n",
              "      <td>🍈</td>\n",
              "      <td>🕴</td>\n",
              "      <td>🚅</td>\n",
              "      <td>😃</td>\n",
              "      <td>💡</td>\n",
              "    </tr>\n",
              "    <tr>\n",
              "      <th>2</th>\n",
              "      <td>🎂</td>\n",
              "      <td>🌋</td>\n",
              "      <td>🍉</td>\n",
              "      <td>🎪</td>\n",
              "      <td>🚆</td>\n",
              "      <td>😄</td>\n",
              "      <td>🔌</td>\n",
              "    </tr>\n",
              "    <tr>\n",
              "      <th>3</th>\n",
              "      <td>🛍</td>\n",
              "      <td>🗻</td>\n",
              "      <td>🍊</td>\n",
              "      <td>🎭</td>\n",
              "      <td>🚇</td>\n",
              "      <td>😁</td>\n",
              "      <td>📺</td>\n",
              "    </tr>\n",
              "    <tr>\n",
              "      <th>4</th>\n",
              "      <td>🇨🇦</td>\n",
              "      <td>🏕</td>\n",
              "      <td>🍋</td>\n",
              "      <td>🎨</td>\n",
              "      <td>🚈</td>\n",
              "      <td>😆</td>\n",
              "      <td>🔌</td>\n",
              "    </tr>\n",
              "  </tbody>\n",
              "</table>\n",
              "</div>\n",
              "    <div class=\"colab-df-buttons\">\n",
              "\n",
              "  <div class=\"colab-df-container\">\n",
              "    <button class=\"colab-df-convert\" onclick=\"convertToInteractive('df-e6385918-e849-4330-bbd4-08162b5159e4')\"\n",
              "            title=\"Convert this dataframe to an interactive table.\"\n",
              "            style=\"display:none;\">\n",
              "\n",
              "  <svg xmlns=\"http://www.w3.org/2000/svg\" height=\"24px\" viewBox=\"0 -960 960 960\">\n",
              "    <path d=\"M120-120v-720h720v720H120Zm60-500h600v-160H180v160Zm220 220h160v-160H400v160Zm0 220h160v-160H400v160ZM180-400h160v-160H180v160Zm440 0h160v-160H620v160ZM180-180h160v-160H180v160Zm440 0h160v-160H620v160Z\"/>\n",
              "  </svg>\n",
              "    </button>\n",
              "\n",
              "  <style>\n",
              "    .colab-df-container {\n",
              "      display:flex;\n",
              "      gap: 12px;\n",
              "    }\n",
              "\n",
              "    .colab-df-convert {\n",
              "      background-color: #E8F0FE;\n",
              "      border: none;\n",
              "      border-radius: 50%;\n",
              "      cursor: pointer;\n",
              "      display: none;\n",
              "      fill: #1967D2;\n",
              "      height: 32px;\n",
              "      padding: 0 0 0 0;\n",
              "      width: 32px;\n",
              "    }\n",
              "\n",
              "    .colab-df-convert:hover {\n",
              "      background-color: #E2EBFA;\n",
              "      box-shadow: 0px 1px 2px rgba(60, 64, 67, 0.3), 0px 1px 3px 1px rgba(60, 64, 67, 0.15);\n",
              "      fill: #174EA6;\n",
              "    }\n",
              "\n",
              "    .colab-df-buttons div {\n",
              "      margin-bottom: 4px;\n",
              "    }\n",
              "\n",
              "    [theme=dark] .colab-df-convert {\n",
              "      background-color: #3B4455;\n",
              "      fill: #D2E3FC;\n",
              "    }\n",
              "\n",
              "    [theme=dark] .colab-df-convert:hover {\n",
              "      background-color: #434B5C;\n",
              "      box-shadow: 0px 1px 3px 1px rgba(0, 0, 0, 0.15);\n",
              "      filter: drop-shadow(0px 1px 2px rgba(0, 0, 0, 0.3));\n",
              "      fill: #FFFFFF;\n",
              "    }\n",
              "  </style>\n",
              "\n",
              "    <script>\n",
              "      const buttonEl =\n",
              "        document.querySelector('#df-e6385918-e849-4330-bbd4-08162b5159e4 button.colab-df-convert');\n",
              "      buttonEl.style.display =\n",
              "        google.colab.kernel.accessAllowed ? 'block' : 'none';\n",
              "\n",
              "      async function convertToInteractive(key) {\n",
              "        const element = document.querySelector('#df-e6385918-e849-4330-bbd4-08162b5159e4');\n",
              "        const dataTable =\n",
              "          await google.colab.kernel.invokeFunction('convertToInteractive',\n",
              "                                                    [key], {});\n",
              "        if (!dataTable) return;\n",
              "\n",
              "        const docLinkHtml = 'Like what you see? Visit the ' +\n",
              "          '<a target=\"_blank\" href=https://colab.research.google.com/notebooks/data_table.ipynb>data table notebook</a>'\n",
              "          + ' to learn more about interactive tables.';\n",
              "        element.innerHTML = '';\n",
              "        dataTable['output_type'] = 'display_data';\n",
              "        await google.colab.output.renderOutput(dataTable, element);\n",
              "        const docLink = document.createElement('div');\n",
              "        docLink.innerHTML = docLinkHtml;\n",
              "        element.appendChild(docLink);\n",
              "      }\n",
              "    </script>\n",
              "  </div>\n",
              "\n",
              "\n",
              "<div id=\"df-8cecba45-ca1d-4d0f-8f35-a02ea718f850\">\n",
              "  <button class=\"colab-df-quickchart\" onclick=\"quickchart('df-8cecba45-ca1d-4d0f-8f35-a02ea718f850')\"\n",
              "            title=\"Suggest charts\"\n",
              "            style=\"display:none;\">\n",
              "\n",
              "<svg xmlns=\"http://www.w3.org/2000/svg\" height=\"24px\"viewBox=\"0 0 24 24\"\n",
              "     width=\"24px\">\n",
              "    <g>\n",
              "        <path d=\"M19 3H5c-1.1 0-2 .9-2 2v14c0 1.1.9 2 2 2h14c1.1 0 2-.9 2-2V5c0-1.1-.9-2-2-2zM9 17H7v-7h2v7zm4 0h-2V7h2v10zm4 0h-2v-4h2v4z\"/>\n",
              "    </g>\n",
              "</svg>\n",
              "  </button>\n",
              "\n",
              "<style>\n",
              "  .colab-df-quickchart {\n",
              "      --bg-color: #E8F0FE;\n",
              "      --fill-color: #1967D2;\n",
              "      --hover-bg-color: #E2EBFA;\n",
              "      --hover-fill-color: #174EA6;\n",
              "      --disabled-fill-color: #AAA;\n",
              "      --disabled-bg-color: #DDD;\n",
              "  }\n",
              "\n",
              "  [theme=dark] .colab-df-quickchart {\n",
              "      --bg-color: #3B4455;\n",
              "      --fill-color: #D2E3FC;\n",
              "      --hover-bg-color: #434B5C;\n",
              "      --hover-fill-color: #FFFFFF;\n",
              "      --disabled-bg-color: #3B4455;\n",
              "      --disabled-fill-color: #666;\n",
              "  }\n",
              "\n",
              "  .colab-df-quickchart {\n",
              "    background-color: var(--bg-color);\n",
              "    border: none;\n",
              "    border-radius: 50%;\n",
              "    cursor: pointer;\n",
              "    display: none;\n",
              "    fill: var(--fill-color);\n",
              "    height: 32px;\n",
              "    padding: 0;\n",
              "    width: 32px;\n",
              "  }\n",
              "\n",
              "  .colab-df-quickchart:hover {\n",
              "    background-color: var(--hover-bg-color);\n",
              "    box-shadow: 0 1px 2px rgba(60, 64, 67, 0.3), 0 1px 3px 1px rgba(60, 64, 67, 0.15);\n",
              "    fill: var(--button-hover-fill-color);\n",
              "  }\n",
              "\n",
              "  .colab-df-quickchart-complete:disabled,\n",
              "  .colab-df-quickchart-complete:disabled:hover {\n",
              "    background-color: var(--disabled-bg-color);\n",
              "    fill: var(--disabled-fill-color);\n",
              "    box-shadow: none;\n",
              "  }\n",
              "\n",
              "  .colab-df-spinner {\n",
              "    border: 2px solid var(--fill-color);\n",
              "    border-color: transparent;\n",
              "    border-bottom-color: var(--fill-color);\n",
              "    animation:\n",
              "      spin 1s steps(1) infinite;\n",
              "  }\n",
              "\n",
              "  @keyframes spin {\n",
              "    0% {\n",
              "      border-color: transparent;\n",
              "      border-bottom-color: var(--fill-color);\n",
              "      border-left-color: var(--fill-color);\n",
              "    }\n",
              "    20% {\n",
              "      border-color: transparent;\n",
              "      border-left-color: var(--fill-color);\n",
              "      border-top-color: var(--fill-color);\n",
              "    }\n",
              "    30% {\n",
              "      border-color: transparent;\n",
              "      border-left-color: var(--fill-color);\n",
              "      border-top-color: var(--fill-color);\n",
              "      border-right-color: var(--fill-color);\n",
              "    }\n",
              "    40% {\n",
              "      border-color: transparent;\n",
              "      border-right-color: var(--fill-color);\n",
              "      border-top-color: var(--fill-color);\n",
              "    }\n",
              "    60% {\n",
              "      border-color: transparent;\n",
              "      border-right-color: var(--fill-color);\n",
              "    }\n",
              "    80% {\n",
              "      border-color: transparent;\n",
              "      border-right-color: var(--fill-color);\n",
              "      border-bottom-color: var(--fill-color);\n",
              "    }\n",
              "    90% {\n",
              "      border-color: transparent;\n",
              "      border-bottom-color: var(--fill-color);\n",
              "    }\n",
              "  }\n",
              "</style>\n",
              "\n",
              "  <script>\n",
              "    async function quickchart(key) {\n",
              "      const quickchartButtonEl =\n",
              "        document.querySelector('#' + key + ' button');\n",
              "      quickchartButtonEl.disabled = true;  // To prevent multiple clicks.\n",
              "      quickchartButtonEl.classList.add('colab-df-spinner');\n",
              "      try {\n",
              "        const charts = await google.colab.kernel.invokeFunction(\n",
              "            'suggestCharts', [key], {});\n",
              "      } catch (error) {\n",
              "        console.error('Error during call to suggestCharts:', error);\n",
              "      }\n",
              "      quickchartButtonEl.classList.remove('colab-df-spinner');\n",
              "      quickchartButtonEl.classList.add('colab-df-quickchart-complete');\n",
              "    }\n",
              "    (() => {\n",
              "      let quickchartButtonEl =\n",
              "        document.querySelector('#df-8cecba45-ca1d-4d0f-8f35-a02ea718f850 button');\n",
              "      quickchartButtonEl.style.display =\n",
              "        google.colab.kernel.accessAllowed ? 'block' : 'none';\n",
              "    })();\n",
              "  </script>\n",
              "</div>\n",
              "\n",
              "    </div>\n",
              "  </div>\n"
            ],
            "text/plain": [
              "  Event Travel Food Activity Transportation People Utility\n",
              "0    🇦🇺      🏔    🍇        👾              🚄      😀       ⚡\n",
              "1    🇫🇷      ⛰    🍈        🕴              🚅      😃       💡\n",
              "2     🎂      🌋    🍉        🎪              🚆      😄       🔌\n",
              "3     🛍      🗻    🍊        🎭              🚇      😁       📺\n",
              "4    🇨🇦      🏕    🍋        🎨              🚈      😆       🔌"
            ]
          },
          "execution_count": 19,
          "metadata": {},
          "output_type": "execute_result"
        }
      ],
      "source": [
        "\n",
        "import pandas as pd\n",
        "\n",
        "# Load the emoji classification dictionary\n",
        "emoji_df = pd.read_csv('Venmo_Emoji_Classification_Dictionary.csv')\n",
        "\n",
        "# Display the first few rows of the dataframe\n",
        "print(emoji_df)\n",
        "\n"
      ]
    },
    {
      "cell_type": "code",
      "execution_count": null,
      "metadata": {
        "colab": {
          "base_uri": "https://localhost:8080/"
        },
        "id": "FcyYrwHbd95L",
        "outputId": "3de7d92a-a9f8-4689-e70f-f9ba5f3387d1"
      },
      "outputs": [
        {
          "name": "stdout",
          "output_type": "stream",
          "text": [
            "Requirement already satisfied: fastparquet in /usr/local/lib/python3.10/dist-packages (2024.5.0)\n",
            "Requirement already satisfied: pandas>=1.5.0 in /usr/local/lib/python3.10/dist-packages (from fastparquet) (2.0.3)\n",
            "Requirement already satisfied: numpy in /usr/local/lib/python3.10/dist-packages (from fastparquet) (1.25.2)\n",
            "Requirement already satisfied: cramjam>=2.3 in /usr/local/lib/python3.10/dist-packages (from fastparquet) (2.8.3)\n",
            "Requirement already satisfied: fsspec in /usr/local/lib/python3.10/dist-packages (from fastparquet) (2023.6.0)\n",
            "Requirement already satisfied: packaging in /usr/local/lib/python3.10/dist-packages (from fastparquet) (24.0)\n",
            "Requirement already satisfied: python-dateutil>=2.8.2 in /usr/local/lib/python3.10/dist-packages (from pandas>=1.5.0->fastparquet) (2.8.2)\n",
            "Requirement already satisfied: pytz>=2020.1 in /usr/local/lib/python3.10/dist-packages (from pandas>=1.5.0->fastparquet) (2023.4)\n",
            "Requirement already satisfied: tzdata>=2022.1 in /usr/local/lib/python3.10/dist-packages (from pandas>=1.5.0->fastparquet) (2024.1)\n",
            "Requirement already satisfied: six>=1.5 in /usr/local/lib/python3.10/dist-packages (from python-dateutil>=2.8.2->pandas>=1.5.0->fastparquet) (1.16.0)\n"
          ]
        }
      ],
      "source": [
        "!pip install fastparquet"
      ]
    },
    {
      "cell_type": "code",
      "execution_count": null,
      "metadata": {
        "colab": {
          "base_uri": "https://localhost:8080/"
        },
        "id": "i44TneVGSCGe",
        "outputId": "9a81893e-9e5f-42a0-fb0c-e1859a2d0eff"
      },
      "outputs": [
        {
          "name": "stdout",
          "output_type": "stream",
          "text": [
            "     user1    user2 transaction_type            datetime   description  \\\n",
            "0  1218774  1528945          payment 2015-11-27 10:48:19          Uber   \n",
            "1  5109483  4782303          payment 2015-06-17 11:37:04        Costco   \n",
            "2  4322148  3392963          payment 2015-06-19 07:05:31  Sweaty balls   \n",
            "3   469894  1333620           charge 2016-06-03 23:34:13             🎥   \n",
            "4  2960727  3442373          payment 2016-05-29 23:23:42             ⚡   \n",
            "\n",
            "  is_business                  story_id  \n",
            "0       False  5657c473cd03c9af22cff874  \n",
            "1       False  5580f9702b64f70ab0114e94  \n",
            "2       False  55835ccb1a624b14ac62cef4  \n",
            "3       False  5751b185cd03c9af224c0d17  \n",
            "4       False  574b178ecd03c9af22cf67f4  \n"
          ]
        }
      ],
      "source": [
        "\n",
        "import pyarrow.parquet as pq\n",
        "\n",
        "# Load the Venmo transaction data using pandas with the appropriate engine\n",
        "venmo_df = pd.read_parquet('VenmoSample.snappy.parquet', engine='pyarrow')\n",
        "\n",
        "# Display the first few rows of the dataframe\n",
        "print(venmo_df.head())\n"
      ]
    },
    {
      "cell_type": "markdown",
      "metadata": {
        "id": "ZQ2LlJ7TeLuR"
      },
      "source": [
        "#"
      ]
    },
    {
      "cell_type": "code",
      "execution_count": null,
      "metadata": {
        "colab": {
          "base_uri": "https://localhost:8080/"
        },
        "collapsed": true,
        "id": "y8QEAycueZtp",
        "outputId": "21c469df-283e-494d-8b2c-2516764ffa5a"
      },
      "outputs": [
        {
          "name": "stdout",
          "output_type": "stream",
          "text": [
            "Collecting torch_geometric\n",
            "  Downloading torch_geometric-2.5.3-py3-none-any.whl (1.1 MB)\n",
            "\u001b[2K     \u001b[90m━━━━━━━━━━━━━━━━━━━━━━━━━━━━━━━━━━━━━━━━\u001b[0m \u001b[32m1.1/1.1 MB\u001b[0m \u001b[31m11.3 MB/s\u001b[0m eta \u001b[36m0:00:00\u001b[0m\n",
            "\u001b[?25hRequirement already satisfied: tqdm in /usr/local/lib/python3.10/dist-packages (from torch_geometric) (4.66.4)\n",
            "Requirement already satisfied: numpy in /usr/local/lib/python3.10/dist-packages (from torch_geometric) (1.25.2)\n",
            "Requirement already satisfied: scipy in /usr/local/lib/python3.10/dist-packages (from torch_geometric) (1.11.4)\n",
            "Requirement already satisfied: fsspec in /usr/local/lib/python3.10/dist-packages (from torch_geometric) (2023.6.0)\n",
            "Requirement already satisfied: jinja2 in /usr/local/lib/python3.10/dist-packages (from torch_geometric) (3.1.4)\n",
            "Requirement already satisfied: aiohttp in /usr/local/lib/python3.10/dist-packages (from torch_geometric) (3.9.5)\n",
            "Requirement already satisfied: requests in /usr/local/lib/python3.10/dist-packages (from torch_geometric) (2.31.0)\n",
            "Requirement already satisfied: pyparsing in /usr/local/lib/python3.10/dist-packages (from torch_geometric) (3.1.2)\n",
            "Requirement already satisfied: scikit-learn in /usr/local/lib/python3.10/dist-packages (from torch_geometric) (1.2.2)\n",
            "Requirement already satisfied: psutil>=5.8.0 in /usr/local/lib/python3.10/dist-packages (from torch_geometric) (5.9.5)\n",
            "Requirement already satisfied: aiosignal>=1.1.2 in /usr/local/lib/python3.10/dist-packages (from aiohttp->torch_geometric) (1.3.1)\n",
            "Requirement already satisfied: attrs>=17.3.0 in /usr/local/lib/python3.10/dist-packages (from aiohttp->torch_geometric) (23.2.0)\n",
            "Requirement already satisfied: frozenlist>=1.1.1 in /usr/local/lib/python3.10/dist-packages (from aiohttp->torch_geometric) (1.4.1)\n",
            "Requirement already satisfied: multidict<7.0,>=4.5 in /usr/local/lib/python3.10/dist-packages (from aiohttp->torch_geometric) (6.0.5)\n",
            "Requirement already satisfied: yarl<2.0,>=1.0 in /usr/local/lib/python3.10/dist-packages (from aiohttp->torch_geometric) (1.9.4)\n",
            "Requirement already satisfied: async-timeout<5.0,>=4.0 in /usr/local/lib/python3.10/dist-packages (from aiohttp->torch_geometric) (4.0.3)\n",
            "Requirement already satisfied: MarkupSafe>=2.0 in /usr/local/lib/python3.10/dist-packages (from jinja2->torch_geometric) (2.1.5)\n",
            "Requirement already satisfied: charset-normalizer<4,>=2 in /usr/local/lib/python3.10/dist-packages (from requests->torch_geometric) (3.3.2)\n",
            "Requirement already satisfied: idna<4,>=2.5 in /usr/local/lib/python3.10/dist-packages (from requests->torch_geometric) (3.7)\n",
            "Requirement already satisfied: urllib3<3,>=1.21.1 in /usr/local/lib/python3.10/dist-packages (from requests->torch_geometric) (2.0.7)\n",
            "Requirement already satisfied: certifi>=2017.4.17 in /usr/local/lib/python3.10/dist-packages (from requests->torch_geometric) (2024.2.2)\n",
            "Requirement already satisfied: joblib>=1.1.1 in /usr/local/lib/python3.10/dist-packages (from scikit-learn->torch_geometric) (1.4.2)\n",
            "Requirement already satisfied: threadpoolctl>=2.0.0 in /usr/local/lib/python3.10/dist-packages (from scikit-learn->torch_geometric) (3.5.0)\n",
            "Installing collected packages: torch_geometric\n",
            "Successfully installed torch_geometric-2.5.3\n"
          ]
        }
      ],
      "source": [
        "!pip install torch_geometric"
      ]
    },
    {
      "cell_type": "code",
      "execution_count": null,
      "metadata": {
        "colab": {
          "base_uri": "https://localhost:8080/"
        },
        "collapsed": true,
        "id": "mfX0Zkzuhe5q",
        "outputId": "0746f883-51a0-448c-bb0e-53151d6cbb67"
      },
      "outputs": [
        {
          "name": "stdout",
          "output_type": "stream",
          "text": [
            "Collecting emoji\n",
            "  Downloading emoji-2.12.1-py3-none-any.whl (431 kB)\n",
            "\u001b[2K     \u001b[90m━━━━━━━━━━━━━━━━━━━━━━━━━━━━━━━━━━━━━━━━\u001b[0m \u001b[32m431.4/431.4 kB\u001b[0m \u001b[31m7.5 MB/s\u001b[0m eta \u001b[36m0:00:00\u001b[0m\n",
            "\u001b[?25hRequirement already satisfied: typing-extensions>=4.7.0 in /usr/local/lib/python3.10/dist-packages (from emoji) (4.11.0)\n",
            "Installing collected packages: emoji\n",
            "Successfully installed emoji-2.12.1\n"
          ]
        }
      ],
      "source": [
        "!pip install emoji"
      ]
    },
    {
      "cell_type": "code",
      "execution_count": null,
      "metadata": {
        "id": "7SI-OrU_c2x1"
      },
      "outputs": [],
      "source": []
    },
    {
      "cell_type": "code",
      "execution_count": null,
      "metadata": {
        "colab": {
          "base_uri": "https://localhost:8080/"
        },
        "id": "XPGIbr0Xi65G",
        "outputId": "0eae210d-8de5-474d-a756-2a460b61e87f"
      },
      "outputs": [
        {
          "name": "stdout",
          "output_type": "stream",
          "text": [
            "Data(edge_index=[2, 9995562], emoji_feature=[3018657], num_nodes=3018657)\n"
          ]
        }
      ],
      "source": [
        "import networkx as nx\n",
        "from torch_geometric.utils import from_networkx\n",
        "import pandas as pd\n",
        "import emoji\n",
        "\n",
        "# Load the emoji classification dictionary\n",
        "emoji_df = pd.read_csv('Venmo_Emoji_Classification_Dictionary.csv')\n",
        "\n",
        "# Load the Venmo transaction data using pandas with the appropriate engine\n",
        "venmo_df = pd.read_parquet('VenmoSample.snappy.parquet', engine='pyarrow')\n",
        "\n",
        "# Create a graph where users are nodes and transactions represent edges\n",
        "G = nx.from_pandas_edgelist(venmo_df, source='user1', target='user2')\n",
        "\n",
        "# Create mappings for each category\n",
        "categories = ['Event', 'Travel', 'Food', 'Activity', 'Transportation', 'People', 'Utility']\n",
        "emoji_dict = {}\n",
        "\n",
        "for category in categories:\n",
        "    for emoji_item in emoji_df[category]:\n",
        "        if pd.notna(emoji_item):\n",
        "            emoji_dict[emoji_item] = category\n",
        "\n",
        "# Function to extract emojis from description\n",
        "def extract_emojis(text):\n",
        "    return ''.join(c for c in text if emoji.is_emoji(c))\n",
        "\n",
        "# Add emoji category features to the nodes\n",
        "for node in G.nodes():\n",
        "    G.nodes[node]['emoji_feature'] = []\n",
        "\n",
        "for index, row in venmo_df.iterrows():\n",
        "    user1 = row['user1']\n",
        "    user2 = row['user2']\n",
        "    emojis = extract_emojis(row['description'])\n",
        "    categories_present = [emoji_dict.get(e, 'unknown') for e in emojis]\n",
        "\n",
        "    # If there are emojis in the description, add the categories as node features\n",
        "    if categories_present:\n",
        "        if user1 in G.nodes:\n",
        "            G.nodes[user1]['emoji_feature'].extend(categories_present)\n",
        "        if user2 in G.nodes:\n",
        "            G.nodes[user2]['emoji_feature'].extend(categories_present)\n",
        "\n",
        "# Convert to a PyTorch Geometric data object\n",
        "data = from_networkx(G)\n",
        "\n",
        "# Display the first few rows of the data\n",
        "print(data)\n"
      ]
    },
    {
      "cell_type": "code",
      "execution_count": null,
      "metadata": {
        "colab": {
          "base_uri": "https://localhost:8080/"
        },
        "id": "uxTEpwKiv31c",
        "outputId": "b9146e26-99be-4eff-d305-d73c10a31900"
      },
      "outputs": [
        {
          "name": "stdout",
          "output_type": "stream",
          "text": [
            "Data(edge_index=[2, 9995562], emoji_feature=[3018657], num_nodes=3018657)\n"
          ]
        }
      ],
      "source": [
        "import torch\n",
        "import torch.nn.functional as F\n",
        "from torch_geometric.nn import GCNConv\n",
        "from torch_geometric.data import Data\n",
        "\n",
        "# Check if data is None\n",
        "if data is None:\n",
        "    raise ValueError(\"Failed to convert NetworkX graph to PyTorch Geometric data object.\")\n",
        "\n",
        "# Check if the necessary attributes are present\n",
        "if not hasattr(data, 'x') or not hasattr(data, 'edge_index') or not hasattr(data, 'y'):\n",
        "    raise ValueError(\"Data object is missing necessary attributes.\")\n",
        "\n",
        "print(data)\n"
      ]
    },
    {
      "cell_type": "code",
      "execution_count": null,
      "metadata": {
        "colab": {
          "base_uri": "https://localhost:8080/",
          "height": 199
        },
        "id": "N17ZONgw-dag",
        "outputId": "a32d83a0-9f45-4278-9b81-90fe36cf3c1e"
      },
      "outputs": [
        {
          "ename": "AttributeError",
          "evalue": "'NoneType' object has no attribute 'unique'",
          "output_type": "error",
          "traceback": [
            "\u001b[0;31m---------------------------------------------------------------------------\u001b[0m",
            "\u001b[0;31mAttributeError\u001b[0m                            Traceback (most recent call last)",
            "\u001b[0;32m<ipython-input-6-d6e2da4d5785>\u001b[0m in \u001b[0;36m<cell line: 14>\u001b[0;34m()\u001b[0m\n\u001b[1;32m     12\u001b[0m         \u001b[0;32mreturn\u001b[0m \u001b[0mF\u001b[0m\u001b[0;34m.\u001b[0m\u001b[0mlog_softmax\u001b[0m\u001b[0;34m(\u001b[0m\u001b[0mx\u001b[0m\u001b[0;34m,\u001b[0m \u001b[0mdim\u001b[0m\u001b[0;34m=\u001b[0m\u001b[0;36m1\u001b[0m\u001b[0;34m)\u001b[0m\u001b[0;34m\u001b[0m\u001b[0;34m\u001b[0m\u001b[0m\n\u001b[1;32m     13\u001b[0m \u001b[0;34m\u001b[0m\u001b[0m\n\u001b[0;32m---> 14\u001b[0;31m \u001b[0mnum_classes\u001b[0m \u001b[0;34m=\u001b[0m \u001b[0mdata\u001b[0m\u001b[0;34m.\u001b[0m\u001b[0my\u001b[0m\u001b[0;34m.\u001b[0m\u001b[0munique\u001b[0m\u001b[0;34m(\u001b[0m\u001b[0;34m)\u001b[0m\u001b[0;34m.\u001b[0m\u001b[0mshape\u001b[0m\u001b[0;34m[\u001b[0m\u001b[0;36m0\u001b[0m\u001b[0;34m]\u001b[0m\u001b[0;34m\u001b[0m\u001b[0;34m\u001b[0m\u001b[0m\n\u001b[0m\u001b[1;32m     15\u001b[0m \u001b[0mmodel\u001b[0m \u001b[0;34m=\u001b[0m \u001b[0mGNN\u001b[0m\u001b[0;34m(\u001b[0m\u001b[0min_channels\u001b[0m\u001b[0;34m=\u001b[0m\u001b[0mdata\u001b[0m\u001b[0;34m.\u001b[0m\u001b[0mnum_node_features\u001b[0m\u001b[0;34m,\u001b[0m \u001b[0mhidden_channels\u001b[0m\u001b[0;34m=\u001b[0m\u001b[0;36m16\u001b[0m\u001b[0;34m,\u001b[0m \u001b[0mout_channels\u001b[0m\u001b[0;34m=\u001b[0m\u001b[0mnum_classes\u001b[0m\u001b[0;34m)\u001b[0m\u001b[0;34m\u001b[0m\u001b[0;34m\u001b[0m\u001b[0m\n",
            "\u001b[0;31mAttributeError\u001b[0m: 'NoneType' object has no attribute 'unique'"
          ]
        }
      ],
      "source": [
        "class GNN(torch.nn.Module):\n",
        "    def __init__(self, in_channels, hidden_channels, out_channels):\n",
        "        super(GNN, self).__init__()\n",
        "        self.conv1 = GCNConv(in_channels, hidden_channels)\n",
        "        self.conv2 = GCNConv(hidden_channels, out_channels)\n",
        "\n",
        "    def forward(self, data):\n",
        "        x, edge_index = data.x, data.edge_index\n",
        "        x = self.conv1(x, edge_index)\n",
        "        x = F.relu(x)\n",
        "        x = self.conv2(x, edge_index)\n",
        "        return F.log_softmax(x, dim=1)\n",
        "\n",
        "num_classes = data.y.unique().shape[0]\n",
        "model = GNN(in_channels=data.num_node_features, hidden_channels=16, out_channels=num_classes)\n"
      ]
    },
    {
      "cell_type": "code",
      "execution_count": null,
      "metadata": {
        "colab": {
          "base_uri": "https://localhost:8080/",
          "height": 384
        },
        "id": "f4ft5H0FsVv5",
        "outputId": "f12d865d-eb2c-47b8-8066-efd1548da0ee"
      },
      "outputs": [
        {
          "name": "stdout",
          "output_type": "stream",
          "text": [
            "Data(edge_index=[2, 9995562], emoji_feature=[3018657], num_nodes=3018657, y=[3018657], train_mask=[3018657], test_mask=[3018657])\n"
          ]
        },
        {
          "ename": "AttributeError",
          "evalue": "'NoneType' object has no attribute 'size'",
          "output_type": "error",
          "traceback": [
            "\u001b[0;31m---------------------------------------------------------------------------\u001b[0m",
            "\u001b[0;31mAttributeError\u001b[0m                            Traceback (most recent call last)",
            "\u001b[0;32m<ipython-input-1-3eaa3d07fb57>\u001b[0m in \u001b[0;36m<cell line: 95>\u001b[0;34m()\u001b[0m\n\u001b[1;32m     93\u001b[0m         \u001b[0mprint\u001b[0m\u001b[0;34m(\u001b[0m\u001b[0;34mf'Epoch {epoch+1}/{epochs}, Loss: {loss.item()}'\u001b[0m\u001b[0;34m)\u001b[0m\u001b[0;34m\u001b[0m\u001b[0;34m\u001b[0m\u001b[0m\n\u001b[1;32m     94\u001b[0m \u001b[0;34m\u001b[0m\u001b[0m\n\u001b[0;32m---> 95\u001b[0;31m \u001b[0mtrain\u001b[0m\u001b[0;34m(\u001b[0m\u001b[0mmodel\u001b[0m\u001b[0;34m,\u001b[0m \u001b[0mdata\u001b[0m\u001b[0;34m)\u001b[0m\u001b[0;34m\u001b[0m\u001b[0;34m\u001b[0m\u001b[0m\n\u001b[0m\u001b[1;32m     96\u001b[0m \u001b[0;34m\u001b[0m\u001b[0m\n\u001b[1;32m     97\u001b[0m \u001b[0;32mdef\u001b[0m \u001b[0mevaluate\u001b[0m\u001b[0;34m(\u001b[0m\u001b[0mmodel\u001b[0m\u001b[0;34m,\u001b[0m \u001b[0mdata\u001b[0m\u001b[0;34m)\u001b[0m\u001b[0;34m:\u001b[0m\u001b[0;34m\u001b[0m\u001b[0;34m\u001b[0m\u001b[0m\n",
            "\u001b[0;32m<ipython-input-1-3eaa3d07fb57>\u001b[0m in \u001b[0;36mtrain\u001b[0;34m(model, data, epochs)\u001b[0m\n\u001b[1;32m     87\u001b[0m     \u001b[0;32mfor\u001b[0m \u001b[0mepoch\u001b[0m \u001b[0;32min\u001b[0m \u001b[0mrange\u001b[0m\u001b[0;34m(\u001b[0m\u001b[0mepochs\u001b[0m\u001b[0;34m)\u001b[0m\u001b[0;34m:\u001b[0m\u001b[0;34m\u001b[0m\u001b[0;34m\u001b[0m\u001b[0m\n\u001b[1;32m     88\u001b[0m         \u001b[0moptimizer\u001b[0m\u001b[0;34m.\u001b[0m\u001b[0mzero_grad\u001b[0m\u001b[0;34m(\u001b[0m\u001b[0;34m)\u001b[0m\u001b[0;34m\u001b[0m\u001b[0;34m\u001b[0m\u001b[0m\n\u001b[0;32m---> 89\u001b[0;31m         \u001b[0mout\u001b[0m \u001b[0;34m=\u001b[0m \u001b[0mmodel\u001b[0m\u001b[0;34m(\u001b[0m\u001b[0mdata\u001b[0m\u001b[0;34m)\u001b[0m\u001b[0;34m\u001b[0m\u001b[0;34m\u001b[0m\u001b[0m\n\u001b[0m\u001b[1;32m     90\u001b[0m         \u001b[0mloss\u001b[0m \u001b[0;34m=\u001b[0m \u001b[0mF\u001b[0m\u001b[0;34m.\u001b[0m\u001b[0mnll_loss\u001b[0m\u001b[0;34m(\u001b[0m\u001b[0mout\u001b[0m\u001b[0;34m[\u001b[0m\u001b[0mdata\u001b[0m\u001b[0;34m.\u001b[0m\u001b[0mtrain_mask\u001b[0m\u001b[0;34m]\u001b[0m\u001b[0;34m,\u001b[0m \u001b[0mdata\u001b[0m\u001b[0;34m.\u001b[0m\u001b[0my\u001b[0m\u001b[0;34m[\u001b[0m\u001b[0mdata\u001b[0m\u001b[0;34m.\u001b[0m\u001b[0mtrain_mask\u001b[0m\u001b[0;34m]\u001b[0m\u001b[0;34m)\u001b[0m\u001b[0;34m\u001b[0m\u001b[0;34m\u001b[0m\u001b[0m\n\u001b[1;32m     91\u001b[0m         \u001b[0mloss\u001b[0m\u001b[0;34m.\u001b[0m\u001b[0mbackward\u001b[0m\u001b[0;34m(\u001b[0m\u001b[0;34m)\u001b[0m\u001b[0;34m\u001b[0m\u001b[0;34m\u001b[0m\u001b[0m\n",
            "\u001b[0;32m/usr/local/lib/python3.10/dist-packages/torch/nn/modules/module.py\u001b[0m in \u001b[0;36m_wrapped_call_impl\u001b[0;34m(self, *args, **kwargs)\u001b[0m\n\u001b[1;32m   1530\u001b[0m             \u001b[0;32mreturn\u001b[0m \u001b[0mself\u001b[0m\u001b[0;34m.\u001b[0m\u001b[0m_compiled_call_impl\u001b[0m\u001b[0;34m(\u001b[0m\u001b[0;34m*\u001b[0m\u001b[0margs\u001b[0m\u001b[0;34m,\u001b[0m \u001b[0;34m**\u001b[0m\u001b[0mkwargs\u001b[0m\u001b[0;34m)\u001b[0m  \u001b[0;31m# type: ignore[misc]\u001b[0m\u001b[0;34m\u001b[0m\u001b[0;34m\u001b[0m\u001b[0m\n\u001b[1;32m   1531\u001b[0m         \u001b[0;32melse\u001b[0m\u001b[0;34m:\u001b[0m\u001b[0;34m\u001b[0m\u001b[0;34m\u001b[0m\u001b[0m\n\u001b[0;32m-> 1532\u001b[0;31m             \u001b[0;32mreturn\u001b[0m \u001b[0mself\u001b[0m\u001b[0;34m.\u001b[0m\u001b[0m_call_impl\u001b[0m\u001b[0;34m(\u001b[0m\u001b[0;34m*\u001b[0m\u001b[0margs\u001b[0m\u001b[0;34m,\u001b[0m \u001b[0;34m**\u001b[0m\u001b[0mkwargs\u001b[0m\u001b[0;34m)\u001b[0m\u001b[0;34m\u001b[0m\u001b[0;34m\u001b[0m\u001b[0m\n\u001b[0m\u001b[1;32m   1533\u001b[0m \u001b[0;34m\u001b[0m\u001b[0m\n\u001b[1;32m   1534\u001b[0m     \u001b[0;32mdef\u001b[0m \u001b[0m_call_impl\u001b[0m\u001b[0;34m(\u001b[0m\u001b[0mself\u001b[0m\u001b[0;34m,\u001b[0m \u001b[0;34m*\u001b[0m\u001b[0margs\u001b[0m\u001b[0;34m,\u001b[0m \u001b[0;34m**\u001b[0m\u001b[0mkwargs\u001b[0m\u001b[0;34m)\u001b[0m\u001b[0;34m:\u001b[0m\u001b[0;34m\u001b[0m\u001b[0;34m\u001b[0m\u001b[0m\n",
            "\u001b[0;32m/usr/local/lib/python3.10/dist-packages/torch/nn/modules/module.py\u001b[0m in \u001b[0;36m_call_impl\u001b[0;34m(self, *args, **kwargs)\u001b[0m\n\u001b[1;32m   1539\u001b[0m                 \u001b[0;32mor\u001b[0m \u001b[0m_global_backward_pre_hooks\u001b[0m \u001b[0;32mor\u001b[0m \u001b[0m_global_backward_hooks\u001b[0m\u001b[0;34m\u001b[0m\u001b[0;34m\u001b[0m\u001b[0m\n\u001b[1;32m   1540\u001b[0m                 or _global_forward_hooks or _global_forward_pre_hooks):\n\u001b[0;32m-> 1541\u001b[0;31m             \u001b[0;32mreturn\u001b[0m \u001b[0mforward_call\u001b[0m\u001b[0;34m(\u001b[0m\u001b[0;34m*\u001b[0m\u001b[0margs\u001b[0m\u001b[0;34m,\u001b[0m \u001b[0;34m**\u001b[0m\u001b[0mkwargs\u001b[0m\u001b[0;34m)\u001b[0m\u001b[0;34m\u001b[0m\u001b[0;34m\u001b[0m\u001b[0m\n\u001b[0m\u001b[1;32m   1542\u001b[0m \u001b[0;34m\u001b[0m\u001b[0m\n\u001b[1;32m   1543\u001b[0m         \u001b[0;32mtry\u001b[0m\u001b[0;34m:\u001b[0m\u001b[0;34m\u001b[0m\u001b[0;34m\u001b[0m\u001b[0m\n",
            "\u001b[0;32m<ipython-input-1-3eaa3d07fb57>\u001b[0m in \u001b[0;36mforward\u001b[0;34m(self, data)\u001b[0m\n\u001b[1;32m     71\u001b[0m     \u001b[0;32mdef\u001b[0m \u001b[0mforward\u001b[0m\u001b[0;34m(\u001b[0m\u001b[0mself\u001b[0m\u001b[0;34m,\u001b[0m \u001b[0mdata\u001b[0m\u001b[0;34m)\u001b[0m\u001b[0;34m:\u001b[0m\u001b[0;34m\u001b[0m\u001b[0;34m\u001b[0m\u001b[0m\n\u001b[1;32m     72\u001b[0m         \u001b[0mx\u001b[0m\u001b[0;34m,\u001b[0m \u001b[0medge_index\u001b[0m \u001b[0;34m=\u001b[0m \u001b[0mdata\u001b[0m\u001b[0;34m.\u001b[0m\u001b[0mx\u001b[0m\u001b[0;34m,\u001b[0m \u001b[0mdata\u001b[0m\u001b[0;34m.\u001b[0m\u001b[0medge_index\u001b[0m\u001b[0;34m\u001b[0m\u001b[0;34m\u001b[0m\u001b[0m\n\u001b[0;32m---> 73\u001b[0;31m         \u001b[0mx\u001b[0m \u001b[0;34m=\u001b[0m \u001b[0mself\u001b[0m\u001b[0;34m.\u001b[0m\u001b[0mconv1\u001b[0m\u001b[0;34m(\u001b[0m\u001b[0mx\u001b[0m\u001b[0;34m,\u001b[0m \u001b[0medge_index\u001b[0m\u001b[0;34m)\u001b[0m\u001b[0;34m\u001b[0m\u001b[0;34m\u001b[0m\u001b[0m\n\u001b[0m\u001b[1;32m     74\u001b[0m         \u001b[0mx\u001b[0m \u001b[0;34m=\u001b[0m \u001b[0mF\u001b[0m\u001b[0;34m.\u001b[0m\u001b[0mrelu\u001b[0m\u001b[0;34m(\u001b[0m\u001b[0mx\u001b[0m\u001b[0;34m)\u001b[0m\u001b[0;34m\u001b[0m\u001b[0;34m\u001b[0m\u001b[0m\n\u001b[1;32m     75\u001b[0m         \u001b[0mx\u001b[0m \u001b[0;34m=\u001b[0m \u001b[0mself\u001b[0m\u001b[0;34m.\u001b[0m\u001b[0mconv2\u001b[0m\u001b[0;34m(\u001b[0m\u001b[0mx\u001b[0m\u001b[0;34m,\u001b[0m \u001b[0medge_index\u001b[0m\u001b[0;34m)\u001b[0m\u001b[0;34m\u001b[0m\u001b[0;34m\u001b[0m\u001b[0m\n",
            "\u001b[0;32m/usr/local/lib/python3.10/dist-packages/torch/nn/modules/module.py\u001b[0m in \u001b[0;36m_wrapped_call_impl\u001b[0;34m(self, *args, **kwargs)\u001b[0m\n\u001b[1;32m   1530\u001b[0m             \u001b[0;32mreturn\u001b[0m \u001b[0mself\u001b[0m\u001b[0;34m.\u001b[0m\u001b[0m_compiled_call_impl\u001b[0m\u001b[0;34m(\u001b[0m\u001b[0;34m*\u001b[0m\u001b[0margs\u001b[0m\u001b[0;34m,\u001b[0m \u001b[0;34m**\u001b[0m\u001b[0mkwargs\u001b[0m\u001b[0;34m)\u001b[0m  \u001b[0;31m# type: ignore[misc]\u001b[0m\u001b[0;34m\u001b[0m\u001b[0;34m\u001b[0m\u001b[0m\n\u001b[1;32m   1531\u001b[0m         \u001b[0;32melse\u001b[0m\u001b[0;34m:\u001b[0m\u001b[0;34m\u001b[0m\u001b[0;34m\u001b[0m\u001b[0m\n\u001b[0;32m-> 1532\u001b[0;31m             \u001b[0;32mreturn\u001b[0m \u001b[0mself\u001b[0m\u001b[0;34m.\u001b[0m\u001b[0m_call_impl\u001b[0m\u001b[0;34m(\u001b[0m\u001b[0;34m*\u001b[0m\u001b[0margs\u001b[0m\u001b[0;34m,\u001b[0m \u001b[0;34m**\u001b[0m\u001b[0mkwargs\u001b[0m\u001b[0;34m)\u001b[0m\u001b[0;34m\u001b[0m\u001b[0;34m\u001b[0m\u001b[0m\n\u001b[0m\u001b[1;32m   1533\u001b[0m \u001b[0;34m\u001b[0m\u001b[0m\n\u001b[1;32m   1534\u001b[0m     \u001b[0;32mdef\u001b[0m \u001b[0m_call_impl\u001b[0m\u001b[0;34m(\u001b[0m\u001b[0mself\u001b[0m\u001b[0;34m,\u001b[0m \u001b[0;34m*\u001b[0m\u001b[0margs\u001b[0m\u001b[0;34m,\u001b[0m \u001b[0;34m**\u001b[0m\u001b[0mkwargs\u001b[0m\u001b[0;34m)\u001b[0m\u001b[0;34m:\u001b[0m\u001b[0;34m\u001b[0m\u001b[0;34m\u001b[0m\u001b[0m\n",
            "\u001b[0;32m/usr/local/lib/python3.10/dist-packages/torch/nn/modules/module.py\u001b[0m in \u001b[0;36m_call_impl\u001b[0;34m(self, *args, **kwargs)\u001b[0m\n\u001b[1;32m   1539\u001b[0m                 \u001b[0;32mor\u001b[0m \u001b[0m_global_backward_pre_hooks\u001b[0m \u001b[0;32mor\u001b[0m \u001b[0m_global_backward_hooks\u001b[0m\u001b[0;34m\u001b[0m\u001b[0;34m\u001b[0m\u001b[0m\n\u001b[1;32m   1540\u001b[0m                 or _global_forward_hooks or _global_forward_pre_hooks):\n\u001b[0;32m-> 1541\u001b[0;31m             \u001b[0;32mreturn\u001b[0m \u001b[0mforward_call\u001b[0m\u001b[0;34m(\u001b[0m\u001b[0;34m*\u001b[0m\u001b[0margs\u001b[0m\u001b[0;34m,\u001b[0m \u001b[0;34m**\u001b[0m\u001b[0mkwargs\u001b[0m\u001b[0;34m)\u001b[0m\u001b[0;34m\u001b[0m\u001b[0;34m\u001b[0m\u001b[0m\n\u001b[0m\u001b[1;32m   1542\u001b[0m \u001b[0;34m\u001b[0m\u001b[0m\n\u001b[1;32m   1543\u001b[0m         \u001b[0;32mtry\u001b[0m\u001b[0;34m:\u001b[0m\u001b[0;34m\u001b[0m\u001b[0;34m\u001b[0m\u001b[0m\n",
            "\u001b[0;32m/usr/local/lib/python3.10/dist-packages/torch_geometric/nn/conv/gcn_conv.py\u001b[0m in \u001b[0;36mforward\u001b[0;34m(self, x, edge_index, edge_weight)\u001b[0m\n\u001b[1;32m    240\u001b[0m                 \u001b[0;32mif\u001b[0m \u001b[0mcache\u001b[0m \u001b[0;32mis\u001b[0m \u001b[0;32mNone\u001b[0m\u001b[0;34m:\u001b[0m\u001b[0;34m\u001b[0m\u001b[0;34m\u001b[0m\u001b[0m\n\u001b[1;32m    241\u001b[0m                     edge_index, edge_weight = gcn_norm(  # yapf: disable\n\u001b[0;32m--> 242\u001b[0;31m                         \u001b[0medge_index\u001b[0m\u001b[0;34m,\u001b[0m \u001b[0medge_weight\u001b[0m\u001b[0;34m,\u001b[0m \u001b[0mx\u001b[0m\u001b[0;34m.\u001b[0m\u001b[0msize\u001b[0m\u001b[0;34m(\u001b[0m\u001b[0mself\u001b[0m\u001b[0;34m.\u001b[0m\u001b[0mnode_dim\u001b[0m\u001b[0;34m)\u001b[0m\u001b[0;34m,\u001b[0m\u001b[0;34m\u001b[0m\u001b[0;34m\u001b[0m\u001b[0m\n\u001b[0m\u001b[1;32m    243\u001b[0m                         self.improved, self.add_self_loops, self.flow, x.dtype)\n\u001b[1;32m    244\u001b[0m                     \u001b[0;32mif\u001b[0m \u001b[0mself\u001b[0m\u001b[0;34m.\u001b[0m\u001b[0mcached\u001b[0m\u001b[0;34m:\u001b[0m\u001b[0;34m\u001b[0m\u001b[0;34m\u001b[0m\u001b[0m\n",
            "\u001b[0;31mAttributeError\u001b[0m: 'NoneType' object has no attribute 'size'"
          ]
        }
      ],
      "source": [
        "import networkx as nx\n",
        "from torch_geometric.utils import from_networkx\n",
        "import pandas as pd\n",
        "import emoji\n",
        "\n",
        "# Load the emoji classification dictionary\n",
        "emoji_df = pd.read_csv('Venmo_Emoji_Classification_Dictionary.csv')\n",
        "\n",
        "# Load the Venmo transaction data using pandas with the appropriate engine\n",
        "venmo_df = pd.read_parquet('VenmoSample.snappy.parquet', engine='pyarrow')\n",
        "\n",
        "# Create a graph where users are nodes and transactions represent edges\n",
        "G = nx.from_pandas_edgelist(venmo_df, source='user1', target='user2')\n",
        "\n",
        "# Create mappings for each category\n",
        "categories = ['Event', 'Travel', 'Food', 'Activity', 'Transportation', 'People', 'Utility']\n",
        "emoji_dict = {}\n",
        "\n",
        "for category in categories:\n",
        "    for emoji_item in emoji_df[category]:\n",
        "        if pd.notna(emoji_item):\n",
        "            emoji_dict[emoji_item] = category\n",
        "\n",
        "# Function to extract emojis from description\n",
        "def extract_emojis(text):\n",
        "    return ''.join(c for c in text if emoji.is_emoji(c))\n",
        "\n",
        "# Add emoji category features to the nodes\n",
        "for node in G.nodes():\n",
        "    G.nodes[node]['emoji_feature'] = []\n",
        "\n",
        "for index, row in venmo_df.iterrows():\n",
        "    user1 = row['user1']\n",
        "    user2 = row['user2']\n",
        "    emojis = extract_emojis(row['description'])\n",
        "    categories_present = [emoji_dict.get(e, 'unknown') for e in emojis]\n",
        "\n",
        "    # If there are emojis in the description, add the categories as node features\n",
        "    if categories_present:\n",
        "        if user1 in G.nodes:\n",
        "            G.nodes[user1]['emoji_feature'].extend(categories_present)\n",
        "        if user2 in G.nodes:\n",
        "            G.nodes[user2]['emoji_feature'].extend(categories_present)\n",
        "\n",
        "# Convert to a PyTorch Geometric data object\n",
        "data = from_networkx(G)\n",
        "\n",
        "\n",
        "# Here we just randomly assign labels for demonstration purposes\n",
        "import torch\n",
        "num_nodes = data.num_nodes\n",
        "data.y = torch.randint(0, 2, (num_nodes,))\n",
        "\n",
        "\n",
        "data.train_mask = torch.zeros(num_nodes, dtype=torch.bool).bernoulli(0.8)\n",
        "data.test_mask = ~data.train_mask\n",
        "\n",
        "print(data)\n",
        "\n",
        "import torch.nn.functional as F\n",
        "from torch_geometric.nn import GCNConv\n",
        "\n",
        "class GNN(torch.nn.Module):\n",
        "    def __init__(self, in_channels, hidden_channels, out_channels):\n",
        "        super(GNN, self).__init__()\n",
        "        self.conv1 = GCNConv(in_channels, hidden_channels)\n",
        "        self.conv2 = GCNConv(hidden_channels, out_channels)\n",
        "\n",
        "    def forward(self, data):\n",
        "        x, edge_index = data.x, data.edge_index\n",
        "        x = self.conv1(x, edge_index)\n",
        "        x = F.relu(x)\n",
        "        x = self.conv2(x, edge_index)\n",
        "        return F.log_softmax(x, dim=1)\n",
        "\n",
        "num_classes = data.y.unique().shape[0]\n",
        "\n",
        "model = GNN(in_channels=data.num_node_features, hidden_channels=16, out_channels=num_classes)\n",
        "\n",
        "import torch.optim as optim\n",
        "\n",
        "def train(model, data, epochs=100):\n",
        "    optimizer = optim.Adam(model.parameters(), lr=0.01)\n",
        "    model.train()\n",
        "    for epoch in range(epochs):\n",
        "        optimizer.zero_grad()\n",
        "        out = model(data)\n",
        "        loss = F.nll_loss(out[data.train_mask], data.y[data.train_mask])\n",
        "        loss.backward()\n",
        "        optimizer.step()\n",
        "        print(f'Epoch {epoch+1}/{epochs}, Loss: {loss.item()}')\n",
        "\n",
        "train(model, data)\n",
        "\n",
        "def evaluate(model, data):\n",
        "    model.eval()\n",
        "    _, pred = model(data).max(dim=1)\n",
        "    correct = pred[data.test_mask].eq(data.y[data.test_mask]).sum().item()\n",
        "    acc = correct / data.test_mask.sum().item()\n",
        "    return acc\n",
        "\n",
        "accuracy = evaluate(model, data)\n",
        "print(f'Accuracy: {accuracy:.4f}')\n"
      ]
    }
  ],
  "metadata": {
    "accelerator": "GPU",
    "colab": {
      "gpuType": "T4",
      "provenance": []
    },
    "kernelspec": {
      "display_name": "Python 3",
      "name": "python3"
    },
    "language_info": {
      "name": "python"
    }
  },
  "nbformat": 4,
  "nbformat_minor": 0
}
